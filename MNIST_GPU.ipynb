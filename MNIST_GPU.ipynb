{
  "nbformat": 4,
  "nbformat_minor": 0,
  "metadata": {
    "colab": {
      "provenance": [],
      "collapsed_sections": [
        "aHNQTm0Zwk7f"
      ]
    },
    "kernelspec": {
      "name": "python3",
      "display_name": "Python 3"
    },
    "accelerator": "GPU"
  },
  "cells": [
    {
      "cell_type": "markdown",
      "source": [
        "### initialization"
      ],
      "metadata": {
        "id": "u6PUm2arMN7D"
      }
    },
    {
      "cell_type": "code",
      "source": [
        "from google.colab import drive\n",
        "drive.mount('/content/drive')"
      ],
      "metadata": {
        "colab": {
          "base_uri": "https://localhost:8080/",
          "height": 336
        },
        "id": "fAmBevzYKfFl",
        "outputId": "a6972ceb-7d86-4b42-bafa-cb49ae9a85be"
      },
      "execution_count": null,
      "outputs": [
        {
          "output_type": "error",
          "ename": "MessageError",
          "evalue": "ignored",
          "traceback": [
            "\u001b[0;31m---------------------------------------------------------------------------\u001b[0m",
            "\u001b[0;31mMessageError\u001b[0m                              Traceback (most recent call last)",
            "\u001b[0;32m<ipython-input-1-d5df0069828e>\u001b[0m in \u001b[0;36m<module>\u001b[0;34m\u001b[0m\n\u001b[1;32m      1\u001b[0m \u001b[0;32mfrom\u001b[0m \u001b[0mgoogle\u001b[0m\u001b[0;34m.\u001b[0m\u001b[0mcolab\u001b[0m \u001b[0;32mimport\u001b[0m \u001b[0mdrive\u001b[0m\u001b[0;34m\u001b[0m\u001b[0;34m\u001b[0m\u001b[0m\n\u001b[0;32m----> 2\u001b[0;31m \u001b[0mdrive\u001b[0m\u001b[0;34m.\u001b[0m\u001b[0mmount\u001b[0m\u001b[0;34m(\u001b[0m\u001b[0;34m'/content/drive'\u001b[0m\u001b[0;34m)\u001b[0m\u001b[0;34m\u001b[0m\u001b[0;34m\u001b[0m\u001b[0m\n\u001b[0m",
            "\u001b[0;32m/usr/local/lib/python3.8/dist-packages/google/colab/drive.py\u001b[0m in \u001b[0;36mmount\u001b[0;34m(mountpoint, force_remount, timeout_ms, readonly)\u001b[0m\n\u001b[1;32m     99\u001b[0m \u001b[0;32mdef\u001b[0m \u001b[0mmount\u001b[0m\u001b[0;34m(\u001b[0m\u001b[0mmountpoint\u001b[0m\u001b[0;34m,\u001b[0m \u001b[0mforce_remount\u001b[0m\u001b[0;34m=\u001b[0m\u001b[0;32mFalse\u001b[0m\u001b[0;34m,\u001b[0m \u001b[0mtimeout_ms\u001b[0m\u001b[0;34m=\u001b[0m\u001b[0;36m120000\u001b[0m\u001b[0;34m,\u001b[0m \u001b[0mreadonly\u001b[0m\u001b[0;34m=\u001b[0m\u001b[0;32mFalse\u001b[0m\u001b[0;34m)\u001b[0m\u001b[0;34m:\u001b[0m\u001b[0;34m\u001b[0m\u001b[0;34m\u001b[0m\u001b[0m\n\u001b[1;32m    100\u001b[0m   \u001b[0;34m\"\"\"Mount your Google Drive at the specified mountpoint path.\"\"\"\u001b[0m\u001b[0;34m\u001b[0m\u001b[0;34m\u001b[0m\u001b[0m\n\u001b[0;32m--> 101\u001b[0;31m   return _mount(\n\u001b[0m\u001b[1;32m    102\u001b[0m       \u001b[0mmountpoint\u001b[0m\u001b[0;34m,\u001b[0m\u001b[0;34m\u001b[0m\u001b[0;34m\u001b[0m\u001b[0m\n\u001b[1;32m    103\u001b[0m       \u001b[0mforce_remount\u001b[0m\u001b[0;34m=\u001b[0m\u001b[0mforce_remount\u001b[0m\u001b[0;34m,\u001b[0m\u001b[0;34m\u001b[0m\u001b[0;34m\u001b[0m\u001b[0m\n",
            "\u001b[0;32m/usr/local/lib/python3.8/dist-packages/google/colab/drive.py\u001b[0m in \u001b[0;36m_mount\u001b[0;34m(mountpoint, force_remount, timeout_ms, ephemeral, readonly)\u001b[0m\n\u001b[1;32m    122\u001b[0m       'TBE_EPHEM_CREDS_ADDR'] if ephemeral else _os.environ['TBE_CREDS_ADDR']\n\u001b[1;32m    123\u001b[0m   \u001b[0;32mif\u001b[0m \u001b[0mephemeral\u001b[0m\u001b[0;34m:\u001b[0m\u001b[0;34m\u001b[0m\u001b[0;34m\u001b[0m\u001b[0m\n\u001b[0;32m--> 124\u001b[0;31m     _message.blocking_request(\n\u001b[0m\u001b[1;32m    125\u001b[0m         'request_auth', request={'authType': 'dfs_ephemeral'}, timeout_sec=None)\n\u001b[1;32m    126\u001b[0m \u001b[0;34m\u001b[0m\u001b[0m\n",
            "\u001b[0;32m/usr/local/lib/python3.8/dist-packages/google/colab/_message.py\u001b[0m in \u001b[0;36mblocking_request\u001b[0;34m(request_type, request, timeout_sec, parent)\u001b[0m\n\u001b[1;32m    169\u001b[0m   request_id = send_request(\n\u001b[1;32m    170\u001b[0m       request_type, request, parent=parent, expect_reply=True)\n\u001b[0;32m--> 171\u001b[0;31m   \u001b[0;32mreturn\u001b[0m \u001b[0mread_reply_from_input\u001b[0m\u001b[0;34m(\u001b[0m\u001b[0mrequest_id\u001b[0m\u001b[0;34m,\u001b[0m \u001b[0mtimeout_sec\u001b[0m\u001b[0;34m)\u001b[0m\u001b[0;34m\u001b[0m\u001b[0;34m\u001b[0m\u001b[0m\n\u001b[0m",
            "\u001b[0;32m/usr/local/lib/python3.8/dist-packages/google/colab/_message.py\u001b[0m in \u001b[0;36mread_reply_from_input\u001b[0;34m(message_id, timeout_sec)\u001b[0m\n\u001b[1;32m    100\u001b[0m         reply.get('colab_msg_id') == message_id):\n\u001b[1;32m    101\u001b[0m       \u001b[0;32mif\u001b[0m \u001b[0;34m'error'\u001b[0m \u001b[0;32min\u001b[0m \u001b[0mreply\u001b[0m\u001b[0;34m:\u001b[0m\u001b[0;34m\u001b[0m\u001b[0;34m\u001b[0m\u001b[0m\n\u001b[0;32m--> 102\u001b[0;31m         \u001b[0;32mraise\u001b[0m \u001b[0mMessageError\u001b[0m\u001b[0;34m(\u001b[0m\u001b[0mreply\u001b[0m\u001b[0;34m[\u001b[0m\u001b[0;34m'error'\u001b[0m\u001b[0;34m]\u001b[0m\u001b[0;34m)\u001b[0m\u001b[0;34m\u001b[0m\u001b[0;34m\u001b[0m\u001b[0m\n\u001b[0m\u001b[1;32m    103\u001b[0m       \u001b[0;32mreturn\u001b[0m \u001b[0mreply\u001b[0m\u001b[0;34m.\u001b[0m\u001b[0mget\u001b[0m\u001b[0;34m(\u001b[0m\u001b[0;34m'data'\u001b[0m\u001b[0;34m,\u001b[0m \u001b[0;32mNone\u001b[0m\u001b[0;34m)\u001b[0m\u001b[0;34m\u001b[0m\u001b[0;34m\u001b[0m\u001b[0m\n\u001b[1;32m    104\u001b[0m \u001b[0;34m\u001b[0m\u001b[0m\n",
            "\u001b[0;31mMessageError\u001b[0m: Error: credential propagation was unsuccessful"
          ]
        }
      ]
    },
    {
      "cell_type": "code",
      "source": [
        "project_path = '/content/drive/My Drive/'"
      ],
      "metadata": {
        "id": "yiur25o9KgIe"
      },
      "execution_count": null,
      "outputs": []
    },
    {
      "cell_type": "code",
      "source": [
        "import pandas as pd\n",
        "batch_df=pd.DataFrame(columns=['batch size','GPU','GAcc','GLoss'])\n",
        "batch_df['batch size']=[1024,512,256]\n",
        "print(batch_df)\n",
        "\n",
        "unit_df=pd.DataFrame(columns=['Units','GPU','GAcc','GLoss'])\n",
        "unit_df['Units']=[8,16,32,64,128,256]\n",
        "print(unit_df)\n",
        "\n",
        "layer_df=pd.DataFrame(columns=['Layers','GPU','GAcc','GLoss'])\n",
        "layer_df['Layers']=[2,3,4]\n",
        "layer_df"
      ],
      "metadata": {
        "colab": {
          "base_uri": "https://localhost:8080/",
          "height": 340
        },
        "id": "vRN8PnG2DK8q",
        "outputId": "b59b9cf6-60eb-413d-d453-b792a9ca5561"
      },
      "execution_count": null,
      "outputs": [
        {
          "output_type": "stream",
          "name": "stdout",
          "text": [
            "   batch size  GPU GAcc GLoss\n",
            "0        1024  NaN  NaN   NaN\n",
            "1         512  NaN  NaN   NaN\n",
            "2         256  NaN  NaN   NaN\n",
            "   Units  GPU GAcc GLoss\n",
            "0      8  NaN  NaN   NaN\n",
            "1     16  NaN  NaN   NaN\n",
            "2     32  NaN  NaN   NaN\n",
            "3     64  NaN  NaN   NaN\n",
            "4    128  NaN  NaN   NaN\n",
            "5    256  NaN  NaN   NaN\n"
          ]
        },
        {
          "output_type": "execute_result",
          "data": {
            "text/plain": [
              "   Layers  GPU GAcc GLoss\n",
              "0       2  NaN  NaN   NaN\n",
              "1       3  NaN  NaN   NaN\n",
              "2       4  NaN  NaN   NaN"
            ],
            "text/html": [
              "\n",
              "  <div id=\"df-5bf4cb0a-a499-4aa1-85c2-7d45f9519924\">\n",
              "    <div class=\"colab-df-container\">\n",
              "      <div>\n",
              "<style scoped>\n",
              "    .dataframe tbody tr th:only-of-type {\n",
              "        vertical-align: middle;\n",
              "    }\n",
              "\n",
              "    .dataframe tbody tr th {\n",
              "        vertical-align: top;\n",
              "    }\n",
              "\n",
              "    .dataframe thead th {\n",
              "        text-align: right;\n",
              "    }\n",
              "</style>\n",
              "<table border=\"1\" class=\"dataframe\">\n",
              "  <thead>\n",
              "    <tr style=\"text-align: right;\">\n",
              "      <th></th>\n",
              "      <th>Layers</th>\n",
              "      <th>GPU</th>\n",
              "      <th>GAcc</th>\n",
              "      <th>GLoss</th>\n",
              "    </tr>\n",
              "  </thead>\n",
              "  <tbody>\n",
              "    <tr>\n",
              "      <th>0</th>\n",
              "      <td>2</td>\n",
              "      <td>NaN</td>\n",
              "      <td>NaN</td>\n",
              "      <td>NaN</td>\n",
              "    </tr>\n",
              "    <tr>\n",
              "      <th>1</th>\n",
              "      <td>3</td>\n",
              "      <td>NaN</td>\n",
              "      <td>NaN</td>\n",
              "      <td>NaN</td>\n",
              "    </tr>\n",
              "    <tr>\n",
              "      <th>2</th>\n",
              "      <td>4</td>\n",
              "      <td>NaN</td>\n",
              "      <td>NaN</td>\n",
              "      <td>NaN</td>\n",
              "    </tr>\n",
              "  </tbody>\n",
              "</table>\n",
              "</div>\n",
              "      <button class=\"colab-df-convert\" onclick=\"convertToInteractive('df-5bf4cb0a-a499-4aa1-85c2-7d45f9519924')\"\n",
              "              title=\"Convert this dataframe to an interactive table.\"\n",
              "              style=\"display:none;\">\n",
              "        \n",
              "  <svg xmlns=\"http://www.w3.org/2000/svg\" height=\"24px\"viewBox=\"0 0 24 24\"\n",
              "       width=\"24px\">\n",
              "    <path d=\"M0 0h24v24H0V0z\" fill=\"none\"/>\n",
              "    <path d=\"M18.56 5.44l.94 2.06.94-2.06 2.06-.94-2.06-.94-.94-2.06-.94 2.06-2.06.94zm-11 1L8.5 8.5l.94-2.06 2.06-.94-2.06-.94L8.5 2.5l-.94 2.06-2.06.94zm10 10l.94 2.06.94-2.06 2.06-.94-2.06-.94-.94-2.06-.94 2.06-2.06.94z\"/><path d=\"M17.41 7.96l-1.37-1.37c-.4-.4-.92-.59-1.43-.59-.52 0-1.04.2-1.43.59L10.3 9.45l-7.72 7.72c-.78.78-.78 2.05 0 2.83L4 21.41c.39.39.9.59 1.41.59.51 0 1.02-.2 1.41-.59l7.78-7.78 2.81-2.81c.8-.78.8-2.07 0-2.86zM5.41 20L4 18.59l7.72-7.72 1.47 1.35L5.41 20z\"/>\n",
              "  </svg>\n",
              "      </button>\n",
              "      \n",
              "  <style>\n",
              "    .colab-df-container {\n",
              "      display:flex;\n",
              "      flex-wrap:wrap;\n",
              "      gap: 12px;\n",
              "    }\n",
              "\n",
              "    .colab-df-convert {\n",
              "      background-color: #E8F0FE;\n",
              "      border: none;\n",
              "      border-radius: 50%;\n",
              "      cursor: pointer;\n",
              "      display: none;\n",
              "      fill: #1967D2;\n",
              "      height: 32px;\n",
              "      padding: 0 0 0 0;\n",
              "      width: 32px;\n",
              "    }\n",
              "\n",
              "    .colab-df-convert:hover {\n",
              "      background-color: #E2EBFA;\n",
              "      box-shadow: 0px 1px 2px rgba(60, 64, 67, 0.3), 0px 1px 3px 1px rgba(60, 64, 67, 0.15);\n",
              "      fill: #174EA6;\n",
              "    }\n",
              "\n",
              "    [theme=dark] .colab-df-convert {\n",
              "      background-color: #3B4455;\n",
              "      fill: #D2E3FC;\n",
              "    }\n",
              "\n",
              "    [theme=dark] .colab-df-convert:hover {\n",
              "      background-color: #434B5C;\n",
              "      box-shadow: 0px 1px 3px 1px rgba(0, 0, 0, 0.15);\n",
              "      filter: drop-shadow(0px 1px 2px rgba(0, 0, 0, 0.3));\n",
              "      fill: #FFFFFF;\n",
              "    }\n",
              "  </style>\n",
              "\n",
              "      <script>\n",
              "        const buttonEl =\n",
              "          document.querySelector('#df-5bf4cb0a-a499-4aa1-85c2-7d45f9519924 button.colab-df-convert');\n",
              "        buttonEl.style.display =\n",
              "          google.colab.kernel.accessAllowed ? 'block' : 'none';\n",
              "\n",
              "        async function convertToInteractive(key) {\n",
              "          const element = document.querySelector('#df-5bf4cb0a-a499-4aa1-85c2-7d45f9519924');\n",
              "          const dataTable =\n",
              "            await google.colab.kernel.invokeFunction('convertToInteractive',\n",
              "                                                     [key], {});\n",
              "          if (!dataTable) return;\n",
              "\n",
              "          const docLinkHtml = 'Like what you see? Visit the ' +\n",
              "            '<a target=\"_blank\" href=https://colab.research.google.com/notebooks/data_table.ipynb>data table notebook</a>'\n",
              "            + ' to learn more about interactive tables.';\n",
              "          element.innerHTML = '';\n",
              "          dataTable['output_type'] = 'display_data';\n",
              "          await google.colab.output.renderOutput(dataTable, element);\n",
              "          const docLink = document.createElement('div');\n",
              "          docLink.innerHTML = docLinkHtml;\n",
              "          element.appendChild(docLink);\n",
              "        }\n",
              "      </script>\n",
              "    </div>\n",
              "  </div>\n",
              "  "
            ]
          },
          "metadata": {},
          "execution_count": 2
        }
      ]
    },
    {
      "cell_type": "markdown",
      "source": [
        "###Model"
      ],
      "metadata": {
        "id": "aHNQTm0Zwk7f"
      }
    },
    {
      "metadata": {
        "id": "N2Ro0bSxTkg3"
      },
      "cell_type": "code",
      "source": [
        "from time import time\n",
        "import numpy as np\n",
        "from sklearn.model_selection import train_test_split\n",
        "import matplotlib.pyplot as plt\n",
        "%matplotlib inline\n",
        "\n",
        "import tensorflow as tf\n"
      ],
      "execution_count": null,
      "outputs": []
    },
    {
      "metadata": {
        "id": "Tpn19-sGTojb",
        "colab": {
          "base_uri": "https://localhost:8080/"
        },
        "outputId": "a5c59f51-7b67-4ba7-ecc7-318498d1a837"
      },
      "cell_type": "code",
      "source": [
        "# check tensorflow version, we want the one that support eager mode\n",
        "tf.__version__"
      ],
      "execution_count": null,
      "outputs": [
        {
          "output_type": "execute_result",
          "data": {
            "text/plain": [
              "'2.9.2'"
            ],
            "application/vnd.google.colaboratory.intrinsic+json": {
              "type": "string"
            }
          },
          "metadata": {},
          "execution_count": 4
        }
      ]
    },
    {
      "metadata": {
        "id": "B2gTpMk0a3tY",
        "colab": {
          "base_uri": "https://localhost:8080/"
        },
        "outputId": "8d339493-b603-4a4e-be5f-89d7b30cd18b"
      },
      "cell_type": "code",
      "source": [
        "# Check if eager execution mode is on\n",
        "tf.executing_eagerly()"
      ],
      "execution_count": null,
      "outputs": [
        {
          "output_type": "execute_result",
          "data": {
            "text/plain": [
              "True"
            ]
          },
          "metadata": {},
          "execution_count": 5
        }
      ]
    },
    {
      "cell_type": "code",
      "source": [
        "from tensorflow.keras.datasets import mnist\n",
        "#Load the data and split it into train and test \n",
        "(X_train, y_train), (X_test, y_test) = mnist.load_data()"
      ],
      "metadata": {
        "id": "gggvkZMyRxce",
        "colab": {
          "base_uri": "https://localhost:8080/"
        },
        "outputId": "55458225-90b6-4dce-a198-eab01d7e3b95"
      },
      "execution_count": null,
      "outputs": [
        {
          "output_type": "stream",
          "name": "stdout",
          "text": [
            "Downloading data from https://storage.googleapis.com/tensorflow/tf-keras-datasets/mnist.npz\n",
            "11490434/11490434 [==============================] - 2s 0us/step\n"
          ]
        }
      ]
    },
    {
      "cell_type": "code",
      "source": [
        "#Get the image shape\n",
        "print(X_train.shape)\n",
        "print(X_test.shape)"
      ],
      "metadata": {
        "colab": {
          "base_uri": "https://localhost:8080/"
        },
        "id": "xyGY4fYaRy_r",
        "outputId": "5aaa3c2c-b544-416d-b15f-55a4d0d3ef10"
      },
      "execution_count": null,
      "outputs": [
        {
          "output_type": "stream",
          "name": "stdout",
          "text": [
            "(60000, 28, 28)\n",
            "(10000, 28, 28)\n"
          ]
        }
      ]
    },
    {
      "cell_type": "code",
      "source": [
        "split = 0.2\n",
        "X_train, X_val, y_train, y_val = train_test_split(\n",
        "    X_train, y_train, test_size=0.2, random_state=42)\n",
        "print('x_train: {}, y_train: {}, x_val: {}, y_val: {}'\n",
        "      .format(X_train.shape, y_train.shape, X_val.shape, y_val.shape))"
      ],
      "metadata": {
        "colab": {
          "base_uri": "https://localhost:8080/"
        },
        "id": "OYAeh6P0Vpxo",
        "outputId": "0e3ba692-e6ad-4a81-9857-02561e30d2e6"
      },
      "execution_count": null,
      "outputs": [
        {
          "output_type": "stream",
          "name": "stdout",
          "text": [
            "x_train: (48000, 28, 28), y_train: (48000,), x_val: (12000, 28, 28), y_val: (12000,)\n"
          ]
        }
      ]
    },
    {
      "cell_type": "code",
      "source": [
        "#importing the libraries\n",
        "from tensorflow.keras.models import Sequential\n",
        "from tensorflow.keras.layers import Dense, Conv2D, Flatten, MaxPool2D\n",
        "from tensorflow.keras.datasets import mnist\n",
        "from tensorflow.keras.utils import to_categorical\n",
        "import numpy as np\n",
        "import matplotlib.pyplot as plt\n",
        "plt.imshow(X_train[2])"
      ],
      "metadata": {
        "colab": {
          "base_uri": "https://localhost:8080/"
        },
        "id": "sr5BoqFKR0-7",
        "outputId": "5358f4af-57c7-4b98-ac8f-0b36b8ea2dad"
      },
      "execution_count": null,
      "outputs": [
        {
          "output_type": "execute_result",
          "data": {
            "text/plain": [
              "<matplotlib.image.AxesImage at 0x7f3199547640>"
            ]
          },
          "metadata": {},
          "execution_count": 9
        },
        {
          "output_type": "display_data",
          "data": {
            "text/plain": [
              "<Figure size 432x288 with 1 Axes>"
            ],
            "image/png": "[encoded data removed]"
          },
          "metadata": {
            "needs_background": "light"
          }
        }
      ]
    },
    {
      "cell_type": "code",
      "source": [
        "# Reshaping the data to fit the model\n",
        "X_train = X_train.reshape(48000, 28, 28, 1)\n",
        "X_val = X_val.reshape(12000, 28, 28, 1)\n",
        "X_test = X_test.reshape(10000, 28, 28, 1)"
      ],
      "metadata": {
        "id": "oVtfbadPSFRM"
      },
      "execution_count": null,
      "outputs": []
    },
    {
      "cell_type": "code",
      "source": [
        "# One-Hot Encoding:\n",
        "y_train_one_hot = to_categorical(y_train)\n",
        "y_val_one_hot= to_categorical(y_val)\n",
        "y_test_one_hot = to_categorical(y_test)\n",
        "\n",
        "# Print the new label\n",
        "print(y_train_one_hot[0])"
      ],
      "metadata": {
        "colab": {
          "base_uri": "https://localhost:8080/"
        },
        "id": "5Wl7UXXMSG6q",
        "outputId": "16018cc8-c39c-4ab1-90a5-ef87f7bdddc4"
      },
      "execution_count": null,
      "outputs": [
        {
          "output_type": "stream",
          "name": "stdout",
          "text": [
            "[0. 0. 0. 0. 0. 1. 0. 0. 0. 0.]\n"
          ]
        }
      ]
    },
    {
      "cell_type": "markdown",
      "source": [
        "# batch size"
      ],
      "metadata": {
        "id": "XsAYzl6FA4o6"
      }
    },
    {
      "cell_type": "markdown",
      "source": [
        "## batch_size=1024"
      ],
      "metadata": {
        "id": "PidS1JwAb_oq"
      }
    },
    {
      "cell_type": "code",
      "source": [
        "# Build the CNN model\n",
        "model = Sequential()\n",
        "# Add model layers\n",
        "model.add(Conv2D(64, kernel_size=3, activation = 'relu', input_shape=(28,28,1)))\n",
        "model.add(Conv2D(32, kernel_size=3, activation='relu'))\n",
        "model.add(MaxPool2D(pool_size=(2, 2), strides=None, padding='valid', data_format=None))\n",
        "model.add(Flatten())\n",
        "model.add(Dense(10,activation='softmax'))\n",
        "model.compile(optimizer='adam', loss='categorical_crossentropy', metrics=['accuracy'])"
      ],
      "metadata": {
        "id": "0rCZ5mFsAy2M"
      },
      "execution_count": null,
      "outputs": []
    },
    {
      "cell_type": "code",
      "source": [
        "#Train the model\n",
        "start = time()\n",
        "\n",
        "history = model.fit(X_train,y_train_one_hot, validation_data=(X_val,y_val_one_hot),batch_size=1024, epochs=10)\n",
        "\n",
        "end = time()"
      ],
      "metadata": {
        "colab": {
          "base_uri": "https://localhost:8080/"
        },
        "id": "XDGNetJ7SMoz",
        "outputId": "e42b7ee4-fab3-4505-c466-2db0def25e24"
      },
      "execution_count": null,
      "outputs": [
        {
          "output_type": "stream",
          "name": "stdout",
          "text": [
            "Epoch 1/10\n",
            "47/47 [==============================] - 14s 61ms/step - loss: 2.1678 - accuracy: 0.7637 - val_loss: 0.2463 - val_accuracy: 0.9251\n",
            "Epoch 2/10\n",
            "47/47 [==============================] - 2s 41ms/step - loss: 0.1818 - accuracy: 0.9463 - val_loss: 0.1378 - val_accuracy: 0.9581\n",
            "Epoch 3/10\n",
            "47/47 [==============================] - 2s 41ms/step - loss: 0.1115 - accuracy: 0.9658 - val_loss: 0.1022 - val_accuracy: 0.9683\n",
            "Epoch 4/10\n",
            "47/47 [==============================] - 2s 41ms/step - loss: 0.0759 - accuracy: 0.9779 - val_loss: 0.0879 - val_accuracy: 0.9719\n",
            "Epoch 5/10\n",
            "47/47 [==============================] - 2s 41ms/step - loss: 0.0580 - accuracy: 0.9828 - val_loss: 0.0751 - val_accuracy: 0.9764\n",
            "Epoch 6/10\n",
            "47/47 [==============================] - 2s 41ms/step - loss: 0.0476 - accuracy: 0.9862 - val_loss: 0.0745 - val_accuracy: 0.9770\n",
            "Epoch 7/10\n",
            "47/47 [==============================] - 2s 42ms/step - loss: 0.0406 - accuracy: 0.9882 - val_loss: 0.0694 - val_accuracy: 0.9794\n",
            "Epoch 8/10\n",
            "47/47 [==============================] - 2s 45ms/step - loss: 0.0323 - accuracy: 0.9905 - val_loss: 0.0702 - val_accuracy: 0.9798\n",
            "Epoch 9/10\n",
            "47/47 [==============================] - 2s 45ms/step - loss: 0.0266 - accuracy: 0.9923 - val_loss: 0.0726 - val_accuracy: 0.9796\n",
            "Epoch 10/10\n",
            "47/47 [==============================] - 2s 45ms/step - loss: 0.0227 - accuracy: 0.9932 - val_loss: 0.0705 - val_accuracy: 0.9801\n"
          ]
        }
      ]
    },
    {
      "metadata": {
        "id": "AIEJ7VnpuRbR",
        "colab": {
          "base_uri": "https://localhost:8080/"
        },
        "outputId": "7c7556f8-e55f-4667-acff-729ebad558b2"
      },
      "cell_type": "code",
      "source": [
        "print('Total training time {} seconds'.format(end - start))\n"
      ],
      "execution_count": null,
      "outputs": [
        {
          "output_type": "stream",
          "name": "stdout",
          "text": [
            "Total training time 31.73024010658264 seconds\n"
          ]
        }
      ]
    },
    {
      "cell_type": "code",
      "source": [
        "test_loss, test_acc = model.evaluate(X_test,y_test_one_hot)\n",
        "batch_df['GPU'][batch_df['batch size']==1024]=round(end-start, 2)\n",
        "batch_df['GAcc'][batch_df['batch size']==1024]=round(test_acc, 2)\n",
        "batch_df['GLoss'][batch_df['batch size']==1024]=round(test_loss, 2)\n",
        "\n",
        "layer_df['GPU'][layer_df['Layers']==2]=round(end-start, 2)\n",
        "layer_df['GAcc'][layer_df['Layers']==2]=round(test_acc, 3)\n",
        "layer_df['GLoss'][layer_df['Layers']==2]=round(test_loss, 3)"
      ],
      "metadata": {
        "colab": {
          "base_uri": "https://localhost:8080/"
        },
        "id": "BN9-h0O3Vb40",
        "outputId": "b1376693-7e1f-4eb9-8c54-6ef54da23da8"
      },
      "execution_count": null,
      "outputs": [
        {
          "output_type": "stream",
          "name": "stdout",
          "text": [
            "313/313 [==============================] - 1s 3ms/step - loss: 0.0668 - accuracy: 0.9815\n"
          ]
        },
        {
          "output_type": "stream",
          "name": "stderr",
          "text": [
            "<ipython-input-15-693f479ecfb5>:2: SettingWithCopyWarning: \n",
            "A value is trying to be set on a copy of a slice from a DataFrame\n",
            "\n",
            "See the caveats in the documentation: https://pandas.pydata.org/pandas-docs/stable/user_guide/indexing.html#returning-a-view-versus-a-copy\n",
            "  batch_df['GPU'][batch_df['batch size']==1024]=round(end-start, 2)\n",
            "<ipython-input-15-693f479ecfb5>:3: SettingWithCopyWarning: \n",
            "A value is trying to be set on a copy of a slice from a DataFrame\n",
            "\n",
            "See the caveats in the documentation: https://pandas.pydata.org/pandas-docs/stable/user_guide/indexing.html#returning-a-view-versus-a-copy\n",
            "  batch_df['GAcc'][batch_df['batch size']==1024]=round(test_acc, 2)\n",
            "<ipython-input-15-693f479ecfb5>:4: SettingWithCopyWarning: \n",
            "A value is trying to be set on a copy of a slice from a DataFrame\n",
            "\n",
            "See the caveats in the documentation: https://pandas.pydata.org/pandas-docs/stable/user_guide/indexing.html#returning-a-view-versus-a-copy\n",
            "  batch_df['GLoss'][batch_df['batch size']==1024]=round(test_loss, 2)\n",
            "<ipython-input-15-693f479ecfb5>:6: SettingWithCopyWarning: \n",
            "A value is trying to be set on a copy of a slice from a DataFrame\n",
            "\n",
            "See the caveats in the documentation: https://pandas.pydata.org/pandas-docs/stable/user_guide/indexing.html#returning-a-view-versus-a-copy\n",
            "  layer_df['GPU'][layer_df['Layers']==2]=round(end-start, 2)\n",
            "<ipython-input-15-693f479ecfb5>:7: SettingWithCopyWarning: \n",
            "A value is trying to be set on a copy of a slice from a DataFrame\n",
            "\n",
            "See the caveats in the documentation: https://pandas.pydata.org/pandas-docs/stable/user_guide/indexing.html#returning-a-view-versus-a-copy\n",
            "  layer_df['GAcc'][layer_df['Layers']==2]=round(test_acc, 3)\n",
            "<ipython-input-15-693f479ecfb5>:8: SettingWithCopyWarning: \n",
            "A value is trying to be set on a copy of a slice from a DataFrame\n",
            "\n",
            "See the caveats in the documentation: https://pandas.pydata.org/pandas-docs/stable/user_guide/indexing.html#returning-a-view-versus-a-copy\n",
            "  layer_df['GLoss'][layer_df['Layers']==2]=round(test_loss, 3)\n"
          ]
        }
      ]
    },
    {
      "cell_type": "markdown",
      "source": [
        "## batch_size=512"
      ],
      "metadata": {
        "id": "jIUyt37tcEvt"
      }
    },
    {
      "cell_type": "code",
      "source": [
        "# Build the CNN model\n",
        "model = Sequential()\n",
        "# Add model layers\n",
        "model.add(Conv2D(64, kernel_size=3, activation = 'relu', input_shape=(28,28,1)))\n",
        "model.add(Conv2D(32, kernel_size=3, activation='relu'))\n",
        "model.add(MaxPool2D(pool_size=(2, 2), strides=None, padding='valid', data_format=None))\n",
        "model.add(Flatten())\n",
        "model.add(Dense(10,activation='softmax'))\n",
        "model.compile(optimizer='adam', loss='categorical_crossentropy', metrics=['accuracy'])"
      ],
      "metadata": {
        "id": "pO4k_7nJnYWY"
      },
      "execution_count": null,
      "outputs": []
    },
    {
      "cell_type": "code",
      "source": [
        "#Train the model\n",
        "start = time()\n",
        "\n",
        "history = model.fit(X_train,y_train_one_hot, validation_data=(X_val,y_val_one_hot),batch_size=512, epochs=10)\n",
        "\n",
        "end = time()"
      ],
      "metadata": {
        "colab": {
          "base_uri": "https://localhost:8080/"
        },
        "outputId": "4f950adc-faf7-465c-e189-df545a197b35",
        "id": "9QJa5yfQcEvu"
      },
      "execution_count": null,
      "outputs": [
        {
          "output_type": "stream",
          "name": "stdout",
          "text": [
            "Epoch 1/10\n",
            "94/94 [==============================] - 3s 28ms/step - loss: 1.3258 - accuracy: 0.8429 - val_loss: 0.1424 - val_accuracy: 0.9564\n",
            "Epoch 2/10\n",
            "94/94 [==============================] - 2s 22ms/step - loss: 0.1056 - accuracy: 0.9686 - val_loss: 0.0910 - val_accuracy: 0.9718\n",
            "Epoch 3/10\n",
            "94/94 [==============================] - 2s 22ms/step - loss: 0.0672 - accuracy: 0.9801 - val_loss: 0.0763 - val_accuracy: 0.9783\n",
            "Epoch 4/10\n",
            "94/94 [==============================] - 2s 24ms/step - loss: 0.0471 - accuracy: 0.9852 - val_loss: 0.0758 - val_accuracy: 0.9779\n",
            "Epoch 5/10\n",
            "94/94 [==============================] - 2s 22ms/step - loss: 0.0386 - accuracy: 0.9878 - val_loss: 0.0705 - val_accuracy: 0.9806\n",
            "Epoch 6/10\n",
            "94/94 [==============================] - 2s 24ms/step - loss: 0.0314 - accuracy: 0.9900 - val_loss: 0.0650 - val_accuracy: 0.9827\n",
            "Epoch 7/10\n",
            "94/94 [==============================] - 2s 24ms/step - loss: 0.0239 - accuracy: 0.9928 - val_loss: 0.0697 - val_accuracy: 0.9833\n",
            "Epoch 8/10\n",
            "94/94 [==============================] - 2s 22ms/step - loss: 0.0178 - accuracy: 0.9945 - val_loss: 0.0763 - val_accuracy: 0.9805\n",
            "Epoch 9/10\n",
            "94/94 [==============================] - 2s 24ms/step - loss: 0.0147 - accuracy: 0.9956 - val_loss: 0.0702 - val_accuracy: 0.9827\n",
            "Epoch 10/10\n",
            "94/94 [==============================] - 2s 22ms/step - loss: 0.0107 - accuracy: 0.9968 - val_loss: 0.0772 - val_accuracy: 0.9834\n"
          ]
        }
      ]
    },
    {
      "metadata": {
        "colab": {
          "base_uri": "https://localhost:8080/"
        },
        "id": "CpDs9esTcEvw",
        "outputId": "0c0a8872-95ca-4e1d-a851-55290ecfcf0d"
      },
      "cell_type": "code",
      "source": [
        "print('Total training time {} seconds'.format(end - start))\n"
      ],
      "execution_count": null,
      "outputs": [
        {
          "output_type": "stream",
          "name": "stdout",
          "text": [
            "Total training time 41.40849709510803 seconds\n"
          ]
        }
      ]
    },
    {
      "cell_type": "code",
      "source": [
        "test_loss, test_acc = model.evaluate(X_test,y_test_one_hot)\n",
        "batch_df['GPU'][batch_df['batch size']==512]=round(end-start, 2)\n",
        "batch_df['GAcc'][batch_df['batch size']==512]=round(test_acc, 2)\n",
        "batch_df['GLoss'][batch_df['batch size']==512]=round(test_loss, 2)"
      ],
      "metadata": {
        "colab": {
          "base_uri": "https://localhost:8080/"
        },
        "id": "x6t5S-8-cEvw",
        "outputId": "d1a9dc63-1578-4d92-baa2-932b09a2c6b3"
      },
      "execution_count": null,
      "outputs": [
        {
          "output_type": "stream",
          "name": "stdout",
          "text": [
            "313/313 [==============================] - 1s 3ms/step - loss: 0.0671 - accuracy: 0.9844\n"
          ]
        },
        {
          "output_type": "stream",
          "name": "stderr",
          "text": [
            "<ipython-input-19-a425c6863856>:2: SettingWithCopyWarning: \n",
            "A value is trying to be set on a copy of a slice from a DataFrame\n",
            "\n",
            "See the caveats in the documentation: https://pandas.pydata.org/pandas-docs/stable/user_guide/indexing.html#returning-a-view-versus-a-copy\n",
            "  batch_df['GPU'][batch_df['batch size']==512]=round(end-start, 2)\n",
            "<ipython-input-19-a425c6863856>:3: SettingWithCopyWarning: \n",
            "A value is trying to be set on a copy of a slice from a DataFrame\n",
            "\n",
            "See the caveats in the documentation: https://pandas.pydata.org/pandas-docs/stable/user_guide/indexing.html#returning-a-view-versus-a-copy\n",
            "  batch_df['GAcc'][batch_df['batch size']==512]=round(test_acc, 2)\n",
            "<ipython-input-19-a425c6863856>:4: SettingWithCopyWarning: \n",
            "A value is trying to be set on a copy of a slice from a DataFrame\n",
            "\n",
            "See the caveats in the documentation: https://pandas.pydata.org/pandas-docs/stable/user_guide/indexing.html#returning-a-view-versus-a-copy\n",
            "  batch_df['GLoss'][batch_df['batch size']==512]=round(test_loss, 2)\n"
          ]
        }
      ]
    },
    {
      "cell_type": "markdown",
      "source": [
        "## batch_size=256"
      ],
      "metadata": {
        "id": "p6gWhcXscJko"
      }
    },
    {
      "cell_type": "code",
      "source": [
        "# Build the CNN model\n",
        "model = Sequential()\n",
        "# Add model layers\n",
        "model.add(Conv2D(64, kernel_size=3, activation = 'relu', input_shape=(28,28,1)))\n",
        "model.add(Conv2D(32, kernel_size=3, activation='relu'))\n",
        "model.add(MaxPool2D(pool_size=(2, 2), strides=None, padding='valid', data_format=None))\n",
        "model.add(Flatten())\n",
        "model.add(Dense(10,activation='softmax'))\n",
        "model.compile(optimizer='adam', loss='categorical_crossentropy', metrics=['accuracy'])"
      ],
      "metadata": {
        "id": "vxO8GkeCnaFy"
      },
      "execution_count": null,
      "outputs": []
    },
    {
      "cell_type": "code",
      "source": [
        "#Train the model\n",
        "start = time()\n",
        "\n",
        "history = model.fit(X_train,y_train_one_hot, validation_data=(X_val,y_val_one_hot),batch_size=256, epochs=10)\n",
        "\n",
        "end = time()"
      ],
      "metadata": {
        "colab": {
          "base_uri": "https://localhost:8080/"
        },
        "outputId": "360fadde-5154-40f7-b2a1-c596503e63d9",
        "id": "P-oY2fmBcJkp"
      },
      "execution_count": null,
      "outputs": [
        {
          "output_type": "stream",
          "name": "stdout",
          "text": [
            "Epoch 1/10\n",
            "188/188 [==============================] - 4s 15ms/step - loss: 0.6810 - accuracy: 0.8966 - val_loss: 0.0986 - val_accuracy: 0.9695\n",
            "Epoch 2/10\n",
            "188/188 [==============================] - 3s 13ms/step - loss: 0.0639 - accuracy: 0.9811 - val_loss: 0.0768 - val_accuracy: 0.9764\n",
            "Epoch 3/10\n",
            "188/188 [==============================] - 3s 14ms/step - loss: 0.0422 - accuracy: 0.9865 - val_loss: 0.0664 - val_accuracy: 0.9814\n",
            "Epoch 4/10\n",
            "188/188 [==============================] - 2s 13ms/step - loss: 0.0284 - accuracy: 0.9910 - val_loss: 0.0732 - val_accuracy: 0.9783\n",
            "Epoch 5/10\n",
            "188/188 [==============================] - 3s 14ms/step - loss: 0.0225 - accuracy: 0.9923 - val_loss: 0.0673 - val_accuracy: 0.9816\n",
            "Epoch 6/10\n",
            "188/188 [==============================] - 3s 14ms/step - loss: 0.0162 - accuracy: 0.9945 - val_loss: 0.0641 - val_accuracy: 0.9844\n",
            "Epoch 7/10\n",
            "188/188 [==============================] - 2s 13ms/step - loss: 0.0112 - accuracy: 0.9964 - val_loss: 0.0720 - val_accuracy: 0.9829\n",
            "Epoch 8/10\n",
            "188/188 [==============================] - 2s 13ms/step - loss: 0.0090 - accuracy: 0.9969 - val_loss: 0.0855 - val_accuracy: 0.9823\n",
            "Epoch 9/10\n",
            "188/188 [==============================] - 3s 14ms/step - loss: 0.0103 - accuracy: 0.9964 - val_loss: 0.0806 - val_accuracy: 0.9822\n",
            "Epoch 10/10\n",
            "188/188 [==============================] - 3s 14ms/step - loss: 0.0104 - accuracy: 0.9964 - val_loss: 0.0845 - val_accuracy: 0.9822\n"
          ]
        }
      ]
    },
    {
      "metadata": {
        "colab": {
          "base_uri": "https://localhost:8080/"
        },
        "id": "bHKWkSsBcJkp",
        "outputId": "d6e6a27a-4603-4427-b5e0-3a1010b58193"
      },
      "cell_type": "code",
      "source": [
        "print('Total training time {} seconds'.format(end - start))\n"
      ],
      "execution_count": null,
      "outputs": [
        {
          "output_type": "stream",
          "name": "stdout",
          "text": [
            "Total training time 41.38127660751343 seconds\n"
          ]
        }
      ]
    },
    {
      "cell_type": "code",
      "source": [
        "test_loss, test_acc = model.evaluate(X_test,y_test_one_hot)\n",
        "\n",
        "batch_df['GPU'][batch_df['batch size']==256]=round(end-start, 2)\n",
        "batch_df['GAcc'][batch_df['batch size']==256]=round(test_acc, 2)\n",
        "batch_df['GLoss'][batch_df['batch size']==256]=round(test_loss, 2)\n",
        "batch_df"
      ],
      "metadata": {
        "colab": {
          "base_uri": "https://localhost:8080/"
        },
        "id": "4QhYuhJQcJkq",
        "outputId": "4b5373d6-60c9-40e2-fd8f-60f1dd90273a"
      },
      "execution_count": null,
      "outputs": [
        {
          "output_type": "stream",
          "name": "stdout",
          "text": [
            "313/313 [==============================] - 1s 3ms/step - loss: 0.1010 - accuracy: 0.9815\n"
          ]
        },
        {
          "output_type": "stream",
          "name": "stderr",
          "text": [
            "<ipython-input-23-43762cfb60a8>:3: SettingWithCopyWarning: \n",
            "A value is trying to be set on a copy of a slice from a DataFrame\n",
            "\n",
            "See the caveats in the documentation: https://pandas.pydata.org/pandas-docs/stable/user_guide/indexing.html#returning-a-view-versus-a-copy\n",
            "  batch_df['GPU'][batch_df['batch size']==256]=round(end-start, 2)\n",
            "<ipython-input-23-43762cfb60a8>:4: SettingWithCopyWarning: \n",
            "A value is trying to be set on a copy of a slice from a DataFrame\n",
            "\n",
            "See the caveats in the documentation: https://pandas.pydata.org/pandas-docs/stable/user_guide/indexing.html#returning-a-view-versus-a-copy\n",
            "  batch_df['GAcc'][batch_df['batch size']==256]=round(test_acc, 2)\n",
            "<ipython-input-23-43762cfb60a8>:5: SettingWithCopyWarning: \n",
            "A value is trying to be set on a copy of a slice from a DataFrame\n",
            "\n",
            "See the caveats in the documentation: https://pandas.pydata.org/pandas-docs/stable/user_guide/indexing.html#returning-a-view-versus-a-copy\n",
            "  batch_df['GLoss'][batch_df['batch size']==256]=round(test_loss, 2)\n"
          ]
        },
        {
          "output_type": "execute_result",
          "data": {
            "text/plain": [
              "   batch size    GPU  GAcc GLoss\n",
              "0        1024  31.73  0.98  0.07\n",
              "1         512  41.41  0.98  0.07\n",
              "2         256  41.38  0.98   0.1"
            ],
            "text/html": [
              "\n",
              "  <div id=\"df-14c2ed70-ccd3-4b50-bd85-87561d8d610b\">\n",
              "    <div class=\"colab-df-container\">\n",
              "      <div>\n",
              "<style scoped>\n",
              "    .dataframe tbody tr th:only-of-type {\n",
              "        vertical-align: middle;\n",
              "    }\n",
              "\n",
              "    .dataframe tbody tr th {\n",
              "        vertical-align: top;\n",
              "    }\n",
              "\n",
              "    .dataframe thead th {\n",
              "        text-align: right;\n",
              "    }\n",
              "</style>\n",
              "<table border=\"1\" class=\"dataframe\">\n",
              "  <thead>\n",
              "    <tr style=\"text-align: right;\">\n",
              "      <th></th>\n",
              "      <th>batch size</th>\n",
              "      <th>GPU</th>\n",
              "      <th>GAcc</th>\n",
              "      <th>GLoss</th>\n",
              "    </tr>\n",
              "  </thead>\n",
              "  <tbody>\n",
              "    <tr>\n",
              "      <th>0</th>\n",
              "      <td>1024</td>\n",
              "      <td>31.73</td>\n",
              "      <td>0.98</td>\n",
              "      <td>0.07</td>\n",
              "    </tr>\n",
              "    <tr>\n",
              "      <th>1</th>\n",
              "      <td>512</td>\n",
              "      <td>41.41</td>\n",
              "      <td>0.98</td>\n",
              "      <td>0.07</td>\n",
              "    </tr>\n",
              "    <tr>\n",
              "      <th>2</th>\n",
              "      <td>256</td>\n",
              "      <td>41.38</td>\n",
              "      <td>0.98</td>\n",
              "      <td>0.1</td>\n",
              "    </tr>\n",
              "  </tbody>\n",
              "</table>\n",
              "</div>\n",
              "      <button class=\"colab-df-convert\" onclick=\"convertToInteractive('df-14c2ed70-ccd3-4b50-bd85-87561d8d610b')\"\n",
              "              title=\"Convert this dataframe to an interactive table.\"\n",
              "              style=\"display:none;\">\n",
              "        \n",
              "  <svg xmlns=\"http://www.w3.org/2000/svg\" height=\"24px\"viewBox=\"0 0 24 24\"\n",
              "       width=\"24px\">\n",
              "    <path d=\"M0 0h24v24H0V0z\" fill=\"none\"/>\n",
              "    <path d=\"M18.56 5.44l.94 2.06.94-2.06 2.06-.94-2.06-.94-.94-2.06-.94 2.06-2.06.94zm-11 1L8.5 8.5l.94-2.06 2.06-.94-2.06-.94L8.5 2.5l-.94 2.06-2.06.94zm10 10l.94 2.06.94-2.06 2.06-.94-2.06-.94-.94-2.06-.94 2.06-2.06.94z\"/><path d=\"M17.41 7.96l-1.37-1.37c-.4-.4-.92-.59-1.43-.59-.52 0-1.04.2-1.43.59L10.3 9.45l-7.72 7.72c-.78.78-.78 2.05 0 2.83L4 21.41c.39.39.9.59 1.41.59.51 0 1.02-.2 1.41-.59l7.78-7.78 2.81-2.81c.8-.78.8-2.07 0-2.86zM5.41 20L4 18.59l7.72-7.72 1.47 1.35L5.41 20z\"/>\n",
              "  </svg>\n",
              "      </button>\n",
              "      \n",
              "  <style>\n",
              "    .colab-df-container {\n",
              "      display:flex;\n",
              "      flex-wrap:wrap;\n",
              "      gap: 12px;\n",
              "    }\n",
              "\n",
              "    .colab-df-convert {\n",
              "      background-color: #E8F0FE;\n",
              "      border: none;\n",
              "      border-radius: 50%;\n",
              "      cursor: pointer;\n",
              "      display: none;\n",
              "      fill: #1967D2;\n",
              "      height: 32px;\n",
              "      padding: 0 0 0 0;\n",
              "      width: 32px;\n",
              "    }\n",
              "\n",
              "    .colab-df-convert:hover {\n",
              "      background-color: #E2EBFA;\n",
              "      box-shadow: 0px 1px 2px rgba(60, 64, 67, 0.3), 0px 1px 3px 1px rgba(60, 64, 67, 0.15);\n",
              "      fill: #174EA6;\n",
              "    }\n",
              "\n",
              "    [theme=dark] .colab-df-convert {\n",
              "      background-color: #3B4455;\n",
              "      fill: #D2E3FC;\n",
              "    }\n",
              "\n",
              "    [theme=dark] .colab-df-convert:hover {\n",
              "      background-color: #434B5C;\n",
              "      box-shadow: 0px 1px 3px 1px rgba(0, 0, 0, 0.15);\n",
              "      filter: drop-shadow(0px 1px 2px rgba(0, 0, 0, 0.3));\n",
              "      fill: #FFFFFF;\n",
              "    }\n",
              "  </style>\n",
              "\n",
              "      <script>\n",
              "        const buttonEl =\n",
              "          document.querySelector('#df-14c2ed70-ccd3-4b50-bd85-87561d8d610b button.colab-df-convert');\n",
              "        buttonEl.style.display =\n",
              "          google.colab.kernel.accessAllowed ? 'block' : 'none';\n",
              "\n",
              "        async function convertToInteractive(key) {\n",
              "          const element = document.querySelector('#df-14c2ed70-ccd3-4b50-bd85-87561d8d610b');\n",
              "          const dataTable =\n",
              "            await google.colab.kernel.invokeFunction('convertToInteractive',\n",
              "                                                     [key], {});\n",
              "          if (!dataTable) return;\n",
              "\n",
              "          const docLinkHtml = 'Like what you see? Visit the ' +\n",
              "            '<a target=\"_blank\" href=https://colab.research.google.com/notebooks/data_table.ipynb>data table notebook</a>'\n",
              "            + ' to learn more about interactive tables.';\n",
              "          element.innerHTML = '';\n",
              "          dataTable['output_type'] = 'display_data';\n",
              "          await google.colab.output.renderOutput(dataTable, element);\n",
              "          const docLink = document.createElement('div');\n",
              "          docLink.innerHTML = docLinkHtml;\n",
              "          element.appendChild(docLink);\n",
              "        }\n",
              "      </script>\n",
              "    </div>\n",
              "  </div>\n",
              "  "
            ]
          },
          "metadata": {},
          "execution_count": 23
        }
      ]
    },
    {
      "cell_type": "markdown",
      "source": [
        "# Units for batch size =1024\n",
        "\n"
      ],
      "metadata": {
        "id": "TjaZnzZy9TMb"
      }
    },
    {
      "cell_type": "markdown",
      "source": [
        "## Unit=8"
      ],
      "metadata": {
        "id": "8ppNUGUS9Y2B"
      }
    },
    {
      "cell_type": "code",
      "source": [
        "# Build the CNN model\n",
        "model = Sequential()\n",
        "# Add model layers\n",
        "\n",
        "model.add(Conv2D(8, kernel_size=3, activation = 'relu', input_shape=(28,28,1)))\n",
        "#model.add(Conv2D(32, kernel_size=3, activation='relu'))\n",
        "model.add(MaxPool2D(pool_size=(2, 2), strides=None, padding='valid', data_format=None))\n",
        "model.add(Flatten())\n",
        "model.add(Dense(10,activation='softmax'))\n",
        "model.compile(optimizer='adam', loss='categorical_crossentropy', metrics=['accuracy'])"
      ],
      "metadata": {
        "id": "ZIhYCtI29ct_"
      },
      "execution_count": null,
      "outputs": []
    },
    {
      "cell_type": "code",
      "source": [
        "#Train the model\n",
        "start = time()\n",
        "\n",
        "history = model.fit(X_train,y_train_one_hot, validation_data=(X_val,y_val_one_hot),batch_size=1024, epochs=10)\n",
        "\n",
        "end = time()"
      ],
      "metadata": {
        "colab": {
          "base_uri": "https://localhost:8080/"
        },
        "outputId": "c3ce04c7-5a06-413a-e097-a5ffab3ee397",
        "id": "5amHnTbr9Y2C"
      },
      "execution_count": null,
      "outputs": [
        {
          "output_type": "stream",
          "name": "stdout",
          "text": [
            "Epoch 1/10\n",
            "47/47 [==============================] - 1s 11ms/step - loss: 12.9049 - accuracy: 0.6734 - val_loss: 3.1917 - val_accuracy: 0.8673\n",
            "Epoch 2/10\n",
            "47/47 [==============================] - 0s 7ms/step - loss: 2.3612 - accuracy: 0.8897 - val_loss: 1.7117 - val_accuracy: 0.9063\n",
            "Epoch 3/10\n",
            "47/47 [==============================] - 0s 7ms/step - loss: 1.3549 - accuracy: 0.9223 - val_loss: 1.1473 - val_accuracy: 0.9258\n",
            "Epoch 4/10\n",
            "47/47 [==============================] - 0s 7ms/step - loss: 0.9197 - accuracy: 0.9370 - val_loss: 0.8891 - val_accuracy: 0.9386\n",
            "Epoch 5/10\n",
            "47/47 [==============================] - 0s 7ms/step - loss: 0.6967 - accuracy: 0.9484 - val_loss: 0.7515 - val_accuracy: 0.9447\n",
            "Epoch 6/10\n",
            "47/47 [==============================] - 0s 7ms/step - loss: 0.5602 - accuracy: 0.9545 - val_loss: 0.6951 - val_accuracy: 0.9486\n",
            "Epoch 7/10\n",
            "47/47 [==============================] - 0s 6ms/step - loss: 0.4712 - accuracy: 0.9593 - val_loss: 0.6224 - val_accuracy: 0.9525\n",
            "Epoch 8/10\n",
            "47/47 [==============================] - 0s 7ms/step - loss: 0.4066 - accuracy: 0.9615 - val_loss: 0.5815 - val_accuracy: 0.9540\n",
            "Epoch 9/10\n",
            "47/47 [==============================] - 0s 7ms/step - loss: 0.3462 - accuracy: 0.9647 - val_loss: 0.5473 - val_accuracy: 0.9541\n",
            "Epoch 10/10\n",
            "47/47 [==============================] - 0s 7ms/step - loss: 0.3026 - accuracy: 0.9670 - val_loss: 0.5174 - val_accuracy: 0.9571\n"
          ]
        }
      ]
    },
    {
      "metadata": {
        "colab": {
          "base_uri": "https://localhost:8080/"
        },
        "outputId": "092d6ad5-975d-4b2a-800a-a9cef3c5f81c",
        "id": "UTMUO3z69Y2C"
      },
      "cell_type": "code",
      "source": [
        "print('Total training time {} seconds'.format(end - start))"
      ],
      "execution_count": null,
      "outputs": [
        {
          "output_type": "stream",
          "name": "stdout",
          "text": [
            "Total training time 3.9621095657348633 seconds\n"
          ]
        }
      ]
    },
    {
      "cell_type": "code",
      "source": [
        "test_loss, test_acc = model.evaluate(X_test,y_test_one_hot)\n",
        "\n",
        "unit_df['GPU'][unit_df['Units']==8]=round(end-start, 2)\n",
        "unit_df['GAcc'][unit_df['Units']==8]=round(test_acc, 3)\n",
        "unit_df['GLoss'][unit_df['Units']==8]=round(test_loss, 3)"
      ],
      "metadata": {
        "colab": {
          "base_uri": "https://localhost:8080/"
        },
        "outputId": "e0a5a405-61d5-422d-ece8-c416d9d660f6",
        "id": "aCovEecL9Y2D"
      },
      "execution_count": null,
      "outputs": [
        {
          "output_type": "stream",
          "name": "stdout",
          "text": [
            "313/313 [==============================] - 1s 2ms/step - loss: 0.4654 - accuracy: 0.9619\n"
          ]
        },
        {
          "output_type": "stream",
          "name": "stderr",
          "text": [
            "<ipython-input-157-dff23d7f3bfb>:3: SettingWithCopyWarning: \n",
            "A value is trying to be set on a copy of a slice from a DataFrame\n",
            "\n",
            "See the caveats in the documentation: https://pandas.pydata.org/pandas-docs/stable/user_guide/indexing.html#returning-a-view-versus-a-copy\n",
            "  unit_df['GPU'][unit_df['Units']==8]=round(end-start, 2)\n",
            "<ipython-input-157-dff23d7f3bfb>:4: SettingWithCopyWarning: \n",
            "A value is trying to be set on a copy of a slice from a DataFrame\n",
            "\n",
            "See the caveats in the documentation: https://pandas.pydata.org/pandas-docs/stable/user_guide/indexing.html#returning-a-view-versus-a-copy\n",
            "  unit_df['GAcc'][unit_df['Units']==8]=round(test_acc, 3)\n",
            "<ipython-input-157-dff23d7f3bfb>:5: SettingWithCopyWarning: \n",
            "A value is trying to be set on a copy of a slice from a DataFrame\n",
            "\n",
            "See the caveats in the documentation: https://pandas.pydata.org/pandas-docs/stable/user_guide/indexing.html#returning-a-view-versus-a-copy\n",
            "  unit_df['GLoss'][unit_df['Units']==8]=round(test_loss, 3)\n"
          ]
        }
      ]
    },
    {
      "cell_type": "markdown",
      "source": [
        "## Unit=16"
      ],
      "metadata": {
        "id": "aerdDosy_ZKp"
      }
    },
    {
      "cell_type": "code",
      "source": [
        "# Build the CNN model\n",
        "model = Sequential()\n",
        "# Add model layers\n",
        "\n",
        "model.add(Conv2D(16, kernel_size=3, activation = 'relu', input_shape=(28,28,1)))\n",
        "model.add(MaxPool2D(pool_size=(2, 2), strides=None, padding='valid', data_format=None))\n",
        "model.add(Flatten())\n",
        "model.add(Dense(10,activation='softmax'))\n",
        "model.compile(optimizer='adam', loss='categorical_crossentropy', metrics=['accuracy'])"
      ],
      "metadata": {
        "id": "t-zBR5x-_ZK3"
      },
      "execution_count": null,
      "outputs": []
    },
    {
      "cell_type": "code",
      "source": [
        "#Train the model\n",
        "start = time()\n",
        "\n",
        "history = model.fit(X_train,y_train_one_hot, validation_data=(X_val,y_val_one_hot),batch_size=1024, epochs=10)\n",
        "\n",
        "end = time()"
      ],
      "metadata": {
        "colab": {
          "base_uri": "https://localhost:8080/"
        },
        "outputId": "1dd942ab-7d13-4a7b-a864-475da6cf609b",
        "id": "SBFbpUY6_ZK4"
      },
      "execution_count": null,
      "outputs": [
        {
          "output_type": "stream",
          "name": "stdout",
          "text": [
            "Epoch 1/10\n",
            "47/47 [==============================] - 2s 21ms/step - loss: 10.0849 - accuracy: 0.7205 - val_loss: 2.0537 - val_accuracy: 0.8932\n",
            "Epoch 2/10\n",
            "47/47 [==============================] - 0s 10ms/step - loss: 1.4202 - accuracy: 0.9123 - val_loss: 1.0859 - val_accuracy: 0.9238\n",
            "Epoch 3/10\n",
            "47/47 [==============================] - 1s 14ms/step - loss: 0.7477 - accuracy: 0.9375 - val_loss: 0.7190 - val_accuracy: 0.9403\n",
            "Epoch 4/10\n",
            "47/47 [==============================] - 0s 9ms/step - loss: 0.4866 - accuracy: 0.9515 - val_loss: 0.5474 - val_accuracy: 0.9517\n",
            "Epoch 5/10\n",
            "47/47 [==============================] - 0s 10ms/step - loss: 0.3416 - accuracy: 0.9613 - val_loss: 0.4717 - val_accuracy: 0.9545\n",
            "Epoch 6/10\n",
            "47/47 [==============================] - 0s 9ms/step - loss: 0.2607 - accuracy: 0.9674 - val_loss: 0.4388 - val_accuracy: 0.9563\n",
            "Epoch 7/10\n",
            "47/47 [==============================] - 0s 9ms/step - loss: 0.2090 - accuracy: 0.9724 - val_loss: 0.3952 - val_accuracy: 0.9593\n",
            "Epoch 8/10\n",
            "47/47 [==============================] - 0s 9ms/step - loss: 0.1750 - accuracy: 0.9750 - val_loss: 0.4102 - val_accuracy: 0.9588\n",
            "Epoch 9/10\n",
            "47/47 [==============================] - 0s 9ms/step - loss: 0.1385 - accuracy: 0.9780 - val_loss: 0.3732 - val_accuracy: 0.9600\n",
            "Epoch 10/10\n",
            "47/47 [==============================] - 0s 9ms/step - loss: 0.1160 - accuracy: 0.9802 - val_loss: 0.3563 - val_accuracy: 0.9642\n"
          ]
        }
      ]
    },
    {
      "metadata": {
        "colab": {
          "base_uri": "https://localhost:8080/"
        },
        "outputId": "f94a5e5c-28b9-4fee-c64b-240039462ed4",
        "id": "XsyXgKdH_ZK4"
      },
      "cell_type": "code",
      "source": [
        "print('Total training time {} seconds'.format(end - start))"
      ],
      "execution_count": null,
      "outputs": [
        {
          "output_type": "stream",
          "name": "stdout",
          "text": [
            "Total training time 10.957327127456665 seconds\n"
          ]
        }
      ]
    },
    {
      "cell_type": "code",
      "source": [
        "test_loss, test_acc = model.evaluate(X_test,y_test_one_hot)\n",
        "\n",
        "unit_df['GPU'][unit_df['Units']==16]=round(end-start, 2)\n",
        "unit_df['GAcc'][unit_df['Units']==16]=round(test_acc, 3)\n",
        "unit_df['GLoss'][unit_df['Units']==16]=round(test_loss, 3)"
      ],
      "metadata": {
        "colab": {
          "base_uri": "https://localhost:8080/"
        },
        "outputId": "c6b43e86-2bf0-485a-c101-81e8b2b35812",
        "id": "h-RYgTKG_ZK4"
      },
      "execution_count": null,
      "outputs": [
        {
          "output_type": "stream",
          "name": "stdout",
          "text": [
            "313/313 [==============================] - 1s 3ms/step - loss: 0.3117 - accuracy: 0.9671\n"
          ]
        },
        {
          "output_type": "stream",
          "name": "stderr",
          "text": [
            "<ipython-input-161-96f710a7ea7c>:3: SettingWithCopyWarning: \n",
            "A value is trying to be set on a copy of a slice from a DataFrame\n",
            "\n",
            "See the caveats in the documentation: https://pandas.pydata.org/pandas-docs/stable/user_guide/indexing.html#returning-a-view-versus-a-copy\n",
            "  unit_df['GPU'][unit_df['Units']==16]=round(end-start, 2)\n",
            "<ipython-input-161-96f710a7ea7c>:4: SettingWithCopyWarning: \n",
            "A value is trying to be set on a copy of a slice from a DataFrame\n",
            "\n",
            "See the caveats in the documentation: https://pandas.pydata.org/pandas-docs/stable/user_guide/indexing.html#returning-a-view-versus-a-copy\n",
            "  unit_df['GAcc'][unit_df['Units']==16]=round(test_acc, 3)\n",
            "<ipython-input-161-96f710a7ea7c>:5: SettingWithCopyWarning: \n",
            "A value is trying to be set on a copy of a slice from a DataFrame\n",
            "\n",
            "See the caveats in the documentation: https://pandas.pydata.org/pandas-docs/stable/user_guide/indexing.html#returning-a-view-versus-a-copy\n",
            "  unit_df['GLoss'][unit_df['Units']==16]=round(test_loss, 3)\n"
          ]
        }
      ]
    },
    {
      "cell_type": "markdown",
      "source": [
        "## Unit=32"
      ],
      "metadata": {
        "id": "HJw1r5pZ_lWl"
      }
    },
    {
      "cell_type": "code",
      "source": [
        "# Build the CNN model\n",
        "model = Sequential()\n",
        "# Add model layers\n",
        "\n",
        "model.add(Conv2D(32, kernel_size=3, activation = 'relu', input_shape=(28,28,1)))\n",
        "model.add(MaxPool2D(pool_size=(2, 2), strides=None, padding='valid', data_format=None))\n",
        "model.add(Flatten())\n",
        "model.add(Dense(10,activation='softmax'))\n",
        "model.compile(optimizer='adam', loss='categorical_crossentropy', metrics=['accuracy'])"
      ],
      "metadata": {
        "id": "aD1RwcQe_lWm"
      },
      "execution_count": null,
      "outputs": []
    },
    {
      "cell_type": "code",
      "source": [
        "#Train the model\n",
        "start = time()\n",
        "\n",
        "history = model.fit(X_train,y_train_one_hot, validation_data=(X_val,y_val_one_hot),batch_size=1024, epochs=10)\n",
        "\n",
        "end = time()"
      ],
      "metadata": {
        "colab": {
          "base_uri": "https://localhost:8080/"
        },
        "outputId": "9f11c70f-c315-495d-ca37-96de5058ac2c",
        "id": "fNEwr4KV_lWm"
      },
      "execution_count": null,
      "outputs": [
        {
          "output_type": "stream",
          "name": "stdout",
          "text": [
            "Epoch 1/10\n",
            "47/47 [==============================] - 1s 17ms/step - loss: 2.8548 - accuracy: 0.8078 - val_loss: 0.6252 - val_accuracy: 0.9312\n",
            "Epoch 2/10\n",
            "47/47 [==============================] - 1s 14ms/step - loss: 0.4006 - accuracy: 0.9470 - val_loss: 0.3051 - val_accuracy: 0.9537\n",
            "Epoch 3/10\n",
            "47/47 [==============================] - 1s 14ms/step - loss: 0.1976 - accuracy: 0.9660 - val_loss: 0.2154 - val_accuracy: 0.9649\n",
            "Epoch 4/10\n",
            "47/47 [==============================] - 1s 14ms/step - loss: 0.1223 - accuracy: 0.9749 - val_loss: 0.1767 - val_accuracy: 0.9673\n",
            "Epoch 5/10\n",
            "47/47 [==============================] - 1s 14ms/step - loss: 0.0842 - accuracy: 0.9807 - val_loss: 0.1708 - val_accuracy: 0.9672\n",
            "Epoch 6/10\n",
            "47/47 [==============================] - 1s 14ms/step - loss: 0.0601 - accuracy: 0.9844 - val_loss: 0.1543 - val_accuracy: 0.9700\n",
            "Epoch 7/10\n",
            "47/47 [==============================] - 1s 13ms/step - loss: 0.0449 - accuracy: 0.9877 - val_loss: 0.1484 - val_accuracy: 0.9719\n",
            "Epoch 8/10\n",
            "47/47 [==============================] - 1s 13ms/step - loss: 0.0350 - accuracy: 0.9899 - val_loss: 0.1508 - val_accuracy: 0.9707\n",
            "Epoch 9/10\n",
            "47/47 [==============================] - 1s 14ms/step - loss: 0.0275 - accuracy: 0.9915 - val_loss: 0.1491 - val_accuracy: 0.9711\n",
            "Epoch 10/10\n",
            "47/47 [==============================] - 1s 13ms/step - loss: 0.0184 - accuracy: 0.9947 - val_loss: 0.1362 - val_accuracy: 0.9728\n"
          ]
        }
      ]
    },
    {
      "metadata": {
        "colab": {
          "base_uri": "https://localhost:8080/"
        },
        "outputId": "458c1371-afca-43de-e840-8e63c7284bf7",
        "id": "EnflNmRK_lWm"
      },
      "cell_type": "code",
      "source": [
        "print('Total training time {} seconds'.format(end - start))"
      ],
      "execution_count": null,
      "outputs": [
        {
          "output_type": "stream",
          "name": "stdout",
          "text": [
            "Total training time 10.652914047241211 seconds\n"
          ]
        }
      ]
    },
    {
      "cell_type": "code",
      "source": [
        "test_loss, test_acc = model.evaluate(X_test,y_test_one_hot)\n",
        "\n",
        "unit_df['GPU'][unit_df['Units']==32]=round(end-start, 2)\n",
        "unit_df['GAcc'][unit_df['Units']==32]=round(test_acc, 3)\n",
        "unit_df['GLoss'][unit_df['Units']==32]=round(test_loss, 3)"
      ],
      "metadata": {
        "colab": {
          "base_uri": "https://localhost:8080/"
        },
        "outputId": "f80c2732-7502-4ecf-d7fa-66382f023673",
        "id": "XBcHiSPO_lWm"
      },
      "execution_count": null,
      "outputs": [
        {
          "output_type": "stream",
          "name": "stdout",
          "text": [
            "313/313 [==============================] - 1s 3ms/step - loss: 0.1448 - accuracy: 0.9739\n"
          ]
        },
        {
          "output_type": "stream",
          "name": "stderr",
          "text": [
            "<ipython-input-165-7acc9a4bd0e1>:3: SettingWithCopyWarning: \n",
            "A value is trying to be set on a copy of a slice from a DataFrame\n",
            "\n",
            "See the caveats in the documentation: https://pandas.pydata.org/pandas-docs/stable/user_guide/indexing.html#returning-a-view-versus-a-copy\n",
            "  unit_df['GPU'][unit_df['Units']==32]=round(end-start, 2)\n",
            "<ipython-input-165-7acc9a4bd0e1>:4: SettingWithCopyWarning: \n",
            "A value is trying to be set on a copy of a slice from a DataFrame\n",
            "\n",
            "See the caveats in the documentation: https://pandas.pydata.org/pandas-docs/stable/user_guide/indexing.html#returning-a-view-versus-a-copy\n",
            "  unit_df['GAcc'][unit_df['Units']==32]=round(test_acc, 3)\n",
            "<ipython-input-165-7acc9a4bd0e1>:5: SettingWithCopyWarning: \n",
            "A value is trying to be set on a copy of a slice from a DataFrame\n",
            "\n",
            "See the caveats in the documentation: https://pandas.pydata.org/pandas-docs/stable/user_guide/indexing.html#returning-a-view-versus-a-copy\n",
            "  unit_df['GLoss'][unit_df['Units']==32]=round(test_loss, 3)\n"
          ]
        }
      ]
    },
    {
      "cell_type": "markdown",
      "source": [
        "## Unit=64"
      ],
      "metadata": {
        "id": "yAwcm_Mm_u2E"
      }
    },
    {
      "cell_type": "code",
      "source": [
        "# Build the CNN model\n",
        "model = Sequential()\n",
        "# Add model layers\n",
        "\n",
        "model.add(Conv2D(64, kernel_size=3, activation = 'relu', input_shape=(28,28,1)))\n",
        "#model.add(Conv2D(32, kernel_size=3, activation='relu'))\n",
        "model.add(MaxPool2D(pool_size=(2, 2), strides=None, padding='valid', data_format=None))\n",
        "model.add(Flatten())\n",
        "model.add(Dense(10,activation='softmax'))\n",
        "model.compile(optimizer='adam', loss='categorical_crossentropy', metrics=['accuracy'])"
      ],
      "metadata": {
        "id": "j_oC7c-r_u2F"
      },
      "execution_count": null,
      "outputs": []
    },
    {
      "cell_type": "code",
      "source": [
        "#Train the model\n",
        "start = time()\n",
        "\n",
        "history = model.fit(X_train,y_train_one_hot, validation_data=(X_val,y_val_one_hot),batch_size=1024, epochs=10)\n",
        "\n",
        "end = time()"
      ],
      "metadata": {
        "colab": {
          "base_uri": "https://localhost:8080/"
        },
        "outputId": "7a92c72f-fafb-4316-e9aa-ecdeeebf4215",
        "id": "R_6UAE15_u2F"
      },
      "execution_count": null,
      "outputs": [
        {
          "output_type": "stream",
          "name": "stdout",
          "text": [
            "Epoch 1/10\n",
            "47/47 [==============================] - 1s 25ms/step - loss: 6.4138 - accuracy: 0.7799 - val_loss: 1.1096 - val_accuracy: 0.9257\n",
            "Epoch 2/10\n",
            "47/47 [==============================] - 1s 20ms/step - loss: 0.6257 - accuracy: 0.9470 - val_loss: 0.3831 - val_accuracy: 0.9594\n",
            "Epoch 3/10\n",
            "47/47 [==============================] - 1s 20ms/step - loss: 0.2321 - accuracy: 0.9684 - val_loss: 0.2510 - val_accuracy: 0.9658\n",
            "Epoch 4/10\n",
            "47/47 [==============================] - 1s 20ms/step - loss: 0.1317 - accuracy: 0.9774 - val_loss: 0.2065 - val_accuracy: 0.9673\n",
            "Epoch 5/10\n",
            "47/47 [==============================] - 1s 21ms/step - loss: 0.0934 - accuracy: 0.9808 - val_loss: 0.1964 - val_accuracy: 0.9705\n",
            "Epoch 6/10\n",
            "47/47 [==============================] - 1s 21ms/step - loss: 0.0610 - accuracy: 0.9861 - val_loss: 0.1757 - val_accuracy: 0.9723\n",
            "Epoch 7/10\n",
            "47/47 [==============================] - 1s 21ms/step - loss: 0.0440 - accuracy: 0.9889 - val_loss: 0.1696 - val_accuracy: 0.9732\n",
            "Epoch 8/10\n",
            "47/47 [==============================] - 1s 20ms/step - loss: 0.0337 - accuracy: 0.9906 - val_loss: 0.1657 - val_accuracy: 0.9733\n",
            "Epoch 9/10\n",
            "47/47 [==============================] - 1s 22ms/step - loss: 0.0254 - accuracy: 0.9931 - val_loss: 0.1705 - val_accuracy: 0.9722\n",
            "Epoch 10/10\n",
            "47/47 [==============================] - 1s 20ms/step - loss: 0.0188 - accuracy: 0.9944 - val_loss: 0.1784 - val_accuracy: 0.9713\n"
          ]
        }
      ]
    },
    {
      "metadata": {
        "colab": {
          "base_uri": "https://localhost:8080/"
        },
        "outputId": "06178805-2cd3-40c0-fe2f-3c3e205bc68b",
        "id": "1IR7sCYs_u2F"
      },
      "cell_type": "code",
      "source": [
        "print('Total training time {} seconds'.format(end - start))"
      ],
      "execution_count": null,
      "outputs": [
        {
          "output_type": "stream",
          "name": "stdout",
          "text": [
            "Total training time 10.394332885742188 seconds\n"
          ]
        }
      ]
    },
    {
      "cell_type": "code",
      "source": [
        "test_loss, test_acc = model.evaluate(X_test,y_test_one_hot)\n",
        "\n",
        "unit_df['GPU'][unit_df['Units']==64]=round(end-start, 2)\n",
        "unit_df['GAcc'][unit_df['Units']==64]=round(test_acc, 3)\n",
        "unit_df['GLoss'][unit_df['Units']==64]=round(test_loss, 3)"
      ],
      "metadata": {
        "colab": {
          "base_uri": "https://localhost:8080/"
        },
        "outputId": "cba69800-4078-4a00-a624-a2914163704a",
        "id": "IY5rMhUW_u2G"
      },
      "execution_count": null,
      "outputs": [
        {
          "output_type": "stream",
          "name": "stdout",
          "text": [
            "313/313 [==============================] - 1s 3ms/step - loss: 0.1549 - accuracy: 0.9745\n"
          ]
        },
        {
          "output_type": "stream",
          "name": "stderr",
          "text": [
            "<ipython-input-169-a25b0e6aae76>:3: SettingWithCopyWarning: \n",
            "A value is trying to be set on a copy of a slice from a DataFrame\n",
            "\n",
            "See the caveats in the documentation: https://pandas.pydata.org/pandas-docs/stable/user_guide/indexing.html#returning-a-view-versus-a-copy\n",
            "  unit_df['GPU'][unit_df['Units']==64]=round(end-start, 2)\n",
            "<ipython-input-169-a25b0e6aae76>:4: SettingWithCopyWarning: \n",
            "A value is trying to be set on a copy of a slice from a DataFrame\n",
            "\n",
            "See the caveats in the documentation: https://pandas.pydata.org/pandas-docs/stable/user_guide/indexing.html#returning-a-view-versus-a-copy\n",
            "  unit_df['GAcc'][unit_df['Units']==64]=round(test_acc, 3)\n",
            "<ipython-input-169-a25b0e6aae76>:5: SettingWithCopyWarning: \n",
            "A value is trying to be set on a copy of a slice from a DataFrame\n",
            "\n",
            "See the caveats in the documentation: https://pandas.pydata.org/pandas-docs/stable/user_guide/indexing.html#returning-a-view-versus-a-copy\n",
            "  unit_df['GLoss'][unit_df['Units']==64]=round(test_loss, 3)\n"
          ]
        }
      ]
    },
    {
      "cell_type": "markdown",
      "source": [
        "## Unit=128"
      ],
      "metadata": {
        "id": "3qkmmbrc_yja"
      }
    },
    {
      "cell_type": "code",
      "source": [
        "# Build the CNN model\n",
        "model = Sequential()\n",
        "# Add model layers\n",
        "\n",
        "model.add(Conv2D(128, kernel_size=3, activation = 'relu', input_shape=(28,28,1)))\n",
        "#model.add(Conv2D(32, kernel_size=3, activation='relu'))\n",
        "model.add(MaxPool2D(pool_size=(2, 2), strides=None, padding='valid', data_format=None))\n",
        "model.add(Flatten())\n",
        "model.add(Dense(10,activation='softmax'))\n",
        "model.compile(optimizer='adam', loss='categorical_crossentropy', metrics=['accuracy'])"
      ],
      "metadata": {
        "id": "8EpJ5uiK_yja"
      },
      "execution_count": null,
      "outputs": []
    },
    {
      "cell_type": "code",
      "source": [
        "#Train the model\n",
        "start = time()\n",
        "\n",
        "history = model.fit(X_train,y_train_one_hot, validation_data=(X_val,y_val_one_hot),batch_size=1024, epochs=10)\n",
        "\n",
        "end = time()"
      ],
      "metadata": {
        "colab": {
          "base_uri": "https://localhost:8080/"
        },
        "outputId": "7c352910-2b75-4f31-b6b3-21d32f2cd54f",
        "id": "qgCgKInt_yjb"
      },
      "execution_count": null,
      "outputs": [
        {
          "output_type": "stream",
          "name": "stdout",
          "text": [
            "Epoch 1/10\n",
            "47/47 [==============================] - 2s 43ms/step - loss: 10.9860 - accuracy: 0.7347 - val_loss: 1.1005 - val_accuracy: 0.9230\n",
            "Epoch 2/10\n",
            "47/47 [==============================] - 2s 37ms/step - loss: 0.6277 - accuracy: 0.9442 - val_loss: 0.3418 - val_accuracy: 0.9582\n",
            "Epoch 3/10\n",
            "47/47 [==============================] - 2s 38ms/step - loss: 0.2048 - accuracy: 0.9682 - val_loss: 0.1901 - val_accuracy: 0.9678\n",
            "Epoch 4/10\n",
            "47/47 [==============================] - 2s 37ms/step - loss: 0.1034 - accuracy: 0.9791 - val_loss: 0.1533 - val_accuracy: 0.9701\n",
            "Epoch 5/10\n",
            "47/47 [==============================] - 2s 40ms/step - loss: 0.0661 - accuracy: 0.9841 - val_loss: 0.1321 - val_accuracy: 0.9743\n",
            "Epoch 6/10\n",
            "47/47 [==============================] - 2s 37ms/step - loss: 0.0466 - accuracy: 0.9874 - val_loss: 0.1146 - val_accuracy: 0.9757\n",
            "Epoch 7/10\n",
            "47/47 [==============================] - 2s 38ms/step - loss: 0.0302 - accuracy: 0.9916 - val_loss: 0.1116 - val_accuracy: 0.9749\n",
            "Epoch 8/10\n",
            "47/47 [==============================] - 2s 41ms/step - loss: 0.0239 - accuracy: 0.9933 - val_loss: 0.1099 - val_accuracy: 0.9764\n",
            "Epoch 9/10\n",
            "47/47 [==============================] - 2s 38ms/step - loss: 0.0165 - accuracy: 0.9956 - val_loss: 0.1105 - val_accuracy: 0.9754\n",
            "Epoch 10/10\n",
            "47/47 [==============================] - 2s 38ms/step - loss: 0.0120 - accuracy: 0.9971 - val_loss: 0.1058 - val_accuracy: 0.9766\n"
          ]
        }
      ]
    },
    {
      "metadata": {
        "colab": {
          "base_uri": "https://localhost:8080/"
        },
        "outputId": "7d546261-f55d-4067-fb40-c6e029f86a41",
        "id": "C1mW9Lji_yjb"
      },
      "cell_type": "code",
      "source": [
        "print('Total training time {} seconds'.format(end - start))"
      ],
      "execution_count": null,
      "outputs": [
        {
          "output_type": "stream",
          "name": "stdout",
          "text": [
            "Total training time 20.87925362586975 seconds\n"
          ]
        }
      ]
    },
    {
      "cell_type": "code",
      "source": [
        "test_loss, test_acc = model.evaluate(X_test,y_test_one_hot)\n",
        "\n",
        "unit_df['GPU'][unit_df['Units']==128]=round(end-start, 2)\n",
        "unit_df['GAcc'][unit_df['Units']==128]=round(test_acc, 3)\n",
        "unit_df['GLoss'][unit_df['Units']==128]=round(test_loss, 3)"
      ],
      "metadata": {
        "colab": {
          "base_uri": "https://localhost:8080/"
        },
        "outputId": "d9e1bf16-1864-49df-dd1b-1624d5d7a83c",
        "id": "BavchSee_yjb"
      },
      "execution_count": null,
      "outputs": [
        {
          "output_type": "stream",
          "name": "stdout",
          "text": [
            "313/313 [==============================] - 1s 3ms/step - loss: 0.1056 - accuracy: 0.9771\n"
          ]
        },
        {
          "output_type": "stream",
          "name": "stderr",
          "text": [
            "<ipython-input-173-7ab47d95406a>:3: SettingWithCopyWarning: \n",
            "A value is trying to be set on a copy of a slice from a DataFrame\n",
            "\n",
            "See the caveats in the documentation: https://pandas.pydata.org/pandas-docs/stable/user_guide/indexing.html#returning-a-view-versus-a-copy\n",
            "  unit_df['GPU'][unit_df['Units']==128]=round(end-start, 2)\n",
            "<ipython-input-173-7ab47d95406a>:4: SettingWithCopyWarning: \n",
            "A value is trying to be set on a copy of a slice from a DataFrame\n",
            "\n",
            "See the caveats in the documentation: https://pandas.pydata.org/pandas-docs/stable/user_guide/indexing.html#returning-a-view-versus-a-copy\n",
            "  unit_df['GAcc'][unit_df['Units']==128]=round(test_acc, 3)\n",
            "<ipython-input-173-7ab47d95406a>:5: SettingWithCopyWarning: \n",
            "A value is trying to be set on a copy of a slice from a DataFrame\n",
            "\n",
            "See the caveats in the documentation: https://pandas.pydata.org/pandas-docs/stable/user_guide/indexing.html#returning-a-view-versus-a-copy\n",
            "  unit_df['GLoss'][unit_df['Units']==128]=round(test_loss, 3)\n"
          ]
        }
      ]
    },
    {
      "cell_type": "markdown",
      "source": [
        "## Unit=256"
      ],
      "metadata": {
        "id": "EowMtyC8_1cc"
      }
    },
    {
      "cell_type": "code",
      "source": [
        "# Build the CNN model\n",
        "model = Sequential()\n",
        "# Add model layers\n",
        "\n",
        "model.add(Conv2D(256, kernel_size=3, activation = 'relu', input_shape=(28,28,1)))\n",
        "#model.add(Conv2D(32, kernel_size=3, activation='relu'))\n",
        "model.add(MaxPool2D(pool_size=(2, 2), strides=None, padding='valid', data_format=None))\n",
        "model.add(Flatten())\n",
        "model.add(Dense(10,activation='softmax'))\n",
        "model.compile(optimizer='adam', loss='categorical_crossentropy', metrics=['accuracy'])"
      ],
      "metadata": {
        "id": "mXEfR6TU_1cd"
      },
      "execution_count": null,
      "outputs": []
    },
    {
      "cell_type": "code",
      "source": [
        "#Train the model\n",
        "start = time()\n",
        "\n",
        "history = model.fit(X_train,y_train_one_hot, validation_data=(X_val,y_val_one_hot),batch_size=1024, epochs=10)\n",
        "\n",
        "end = time()"
      ],
      "metadata": {
        "colab": {
          "base_uri": "https://localhost:8080/"
        },
        "outputId": "fdfcee18-1846-4f8c-a507-74bcdfe945d1",
        "id": "uw4HIdeF_1cd"
      },
      "execution_count": null,
      "outputs": [
        {
          "output_type": "stream",
          "name": "stdout",
          "text": [
            "Epoch 1/10\n",
            "47/47 [==============================] - 4s 74ms/step - loss: 19.4000 - accuracy: 0.7168 - val_loss: 0.8036 - val_accuracy: 0.9178\n",
            "Epoch 2/10\n",
            "47/47 [==============================] - 3s 70ms/step - loss: 0.3881 - accuracy: 0.9462 - val_loss: 0.1816 - val_accuracy: 0.9661\n",
            "Epoch 3/10\n",
            "47/47 [==============================] - 3s 71ms/step - loss: 0.1162 - accuracy: 0.9748 - val_loss: 0.1154 - val_accuracy: 0.9748\n",
            "Epoch 4/10\n",
            "47/47 [==============================] - 3s 71ms/step - loss: 0.0614 - accuracy: 0.9830 - val_loss: 0.0905 - val_accuracy: 0.9778\n",
            "Epoch 5/10\n",
            "47/47 [==============================] - 3s 71ms/step - loss: 0.0355 - accuracy: 0.9896 - val_loss: 0.0874 - val_accuracy: 0.9777\n",
            "Epoch 6/10\n",
            "47/47 [==============================] - 4s 77ms/step - loss: 0.0231 - accuracy: 0.9930 - val_loss: 0.0822 - val_accuracy: 0.9803\n",
            "Epoch 7/10\n",
            "47/47 [==============================] - 3s 71ms/step - loss: 0.0153 - accuracy: 0.9953 - val_loss: 0.0810 - val_accuracy: 0.9811\n",
            "Epoch 8/10\n",
            "47/47 [==============================] - 4s 77ms/step - loss: 0.0089 - accuracy: 0.9979 - val_loss: 0.0819 - val_accuracy: 0.9791\n",
            "Epoch 9/10\n",
            "47/47 [==============================] - 3s 71ms/step - loss: 0.0059 - accuracy: 0.9991 - val_loss: 0.0794 - val_accuracy: 0.9819\n",
            "Epoch 10/10\n",
            "47/47 [==============================] - 3s 71ms/step - loss: 0.0040 - accuracy: 0.9995 - val_loss: 0.0809 - val_accuracy: 0.9812\n"
          ]
        }
      ]
    },
    {
      "metadata": {
        "colab": {
          "base_uri": "https://localhost:8080/"
        },
        "outputId": "d6953d4a-4f64-498f-c999-c4e467df9c40",
        "id": "9cRaLgAh_1cd"
      },
      "cell_type": "code",
      "source": [
        "print('Total training time {} seconds'.format(end - start))"
      ],
      "execution_count": null,
      "outputs": [
        {
          "output_type": "stream",
          "name": "stdout",
          "text": [
            "Total training time 34.3776159286499 seconds\n"
          ]
        }
      ]
    },
    {
      "cell_type": "code",
      "source": [
        "test_loss, test_acc = model.evaluate(X_test,y_test_one_hot)\n",
        "\n",
        "unit_df['GPU'][unit_df['Units']==256]=round(end-start, 2)\n",
        "unit_df['GAcc'][unit_df['Units']==256]=round(test_acc, 3)\n",
        "unit_df['GLoss'][unit_df['Units']==256]=round(test_loss, 3)"
      ],
      "metadata": {
        "colab": {
          "base_uri": "https://localhost:8080/"
        },
        "outputId": "207077cb-2aa2-4e44-f1cd-3132de416955",
        "id": "V_kRkrOK_1cd"
      },
      "execution_count": null,
      "outputs": [
        {
          "output_type": "stream",
          "name": "stdout",
          "text": [
            "313/313 [==============================] - 1s 3ms/step - loss: 0.0854 - accuracy: 0.9824\n"
          ]
        },
        {
          "output_type": "stream",
          "name": "stderr",
          "text": [
            "<ipython-input-177-d55234896443>:3: SettingWithCopyWarning: \n",
            "A value is trying to be set on a copy of a slice from a DataFrame\n",
            "\n",
            "See the caveats in the documentation: https://pandas.pydata.org/pandas-docs/stable/user_guide/indexing.html#returning-a-view-versus-a-copy\n",
            "  unit_df['GPU'][unit_df['Units']==256]=round(end-start, 2)\n",
            "<ipython-input-177-d55234896443>:4: SettingWithCopyWarning: \n",
            "A value is trying to be set on a copy of a slice from a DataFrame\n",
            "\n",
            "See the caveats in the documentation: https://pandas.pydata.org/pandas-docs/stable/user_guide/indexing.html#returning-a-view-versus-a-copy\n",
            "  unit_df['GAcc'][unit_df['Units']==256]=round(test_acc, 3)\n",
            "<ipython-input-177-d55234896443>:5: SettingWithCopyWarning: \n",
            "A value is trying to be set on a copy of a slice from a DataFrame\n",
            "\n",
            "See the caveats in the documentation: https://pandas.pydata.org/pandas-docs/stable/user_guide/indexing.html#returning-a-view-versus-a-copy\n",
            "  unit_df['GLoss'][unit_df['Units']==256]=round(test_loss, 3)\n"
          ]
        }
      ]
    },
    {
      "cell_type": "markdown",
      "source": [
        "# Layers"
      ],
      "metadata": {
        "id": "q-ET0axxBAVa"
      }
    },
    {
      "cell_type": "markdown",
      "source": [
        "## conv layer = 3"
      ],
      "metadata": {
        "id": "VCrtSGFTBJao"
      }
    },
    {
      "cell_type": "code",
      "source": [
        "# Build the CNN model\n",
        "model = Sequential()\n",
        "# Add model layers\n",
        "\n",
        "model.add(Conv2D(128, kernel_size=3, activation = 'relu', input_shape=(28,28,1)))\n",
        "model.add(Conv2D(64, kernel_size=3, activation = 'relu', input_shape=(28,28,1)))\n",
        "model.add(Conv2D(32, kernel_size=3, activation='relu'))\n",
        "model.add(MaxPool2D(pool_size=(2, 2), strides=None, padding='valid', data_format=None))\n",
        "model.add(Flatten())\n",
        "model.add(Dense(10,activation='softmax'))\n",
        "model.compile(optimizer='adam', loss='categorical_crossentropy', metrics=['accuracy'])"
      ],
      "metadata": {
        "id": "wO4_65zBBJao"
      },
      "execution_count": null,
      "outputs": []
    },
    {
      "cell_type": "code",
      "source": [
        "#Train the model\n",
        "start = time()\n",
        "\n",
        "history = model.fit(X_train,y_train_one_hot, validation_data=(X_val,y_val_one_hot),batch_size=1024, epochs=10)\n",
        "\n",
        "end = time()"
      ],
      "metadata": {
        "colab": {
          "base_uri": "https://localhost:8080/"
        },
        "outputId": "7bc0bb87-dae4-433d-d3fa-90181b6d5507",
        "id": "xWhNQ1zbBJao"
      },
      "execution_count": null,
      "outputs": [
        {
          "output_type": "stream",
          "name": "stdout",
          "text": [
            "Epoch 1/10\n",
            "47/47 [==============================] - 6s 114ms/step - loss: 1.9330 - accuracy: 0.7376 - val_loss: 0.1903 - val_accuracy: 0.9417\n",
            "Epoch 2/10\n",
            "47/47 [==============================] - 5s 110ms/step - loss: 0.1416 - accuracy: 0.9556 - val_loss: 0.1202 - val_accuracy: 0.9643\n",
            "Epoch 3/10\n",
            "47/47 [==============================] - 5s 110ms/step - loss: 0.0949 - accuracy: 0.9710 - val_loss: 0.0916 - val_accuracy: 0.9733\n",
            "Epoch 4/10\n",
            "47/47 [==============================] - 5s 115ms/step - loss: 0.0697 - accuracy: 0.9794 - val_loss: 0.0796 - val_accuracy: 0.9747\n",
            "Epoch 5/10\n",
            "47/47 [==============================] - 5s 110ms/step - loss: 0.0587 - accuracy: 0.9820 - val_loss: 0.0714 - val_accuracy: 0.9778\n",
            "Epoch 6/10\n",
            "47/47 [==============================] - 5s 110ms/step - loss: 0.0493 - accuracy: 0.9851 - val_loss: 0.0626 - val_accuracy: 0.9810\n",
            "Epoch 7/10\n",
            "47/47 [==============================] - 5s 110ms/step - loss: 0.0420 - accuracy: 0.9879 - val_loss: 0.0615 - val_accuracy: 0.9818\n",
            "Epoch 8/10\n",
            "47/47 [==============================] - 5s 110ms/step - loss: 0.0336 - accuracy: 0.9900 - val_loss: 0.0611 - val_accuracy: 0.9827\n",
            "Epoch 9/10\n",
            "47/47 [==============================] - 5s 110ms/step - loss: 0.0288 - accuracy: 0.9913 - val_loss: 0.0572 - val_accuracy: 0.9838\n",
            "Epoch 10/10\n",
            "47/47 [==============================] - 5s 110ms/step - loss: 0.0242 - accuracy: 0.9925 - val_loss: 0.0588 - val_accuracy: 0.9840\n"
          ]
        }
      ]
    },
    {
      "metadata": {
        "colab": {
          "base_uri": "https://localhost:8080/"
        },
        "outputId": "cf2e759b-0185-4dff-961a-954523febee2",
        "id": "roezL4LQBJap"
      },
      "cell_type": "code",
      "source": [
        "print('Total training time {} seconds'.format(end - start))"
      ],
      "execution_count": null,
      "outputs": [
        {
          "output_type": "stream",
          "name": "stdout",
          "text": [
            "Total training time 82.38178181648254 seconds\n"
          ]
        }
      ]
    },
    {
      "cell_type": "code",
      "source": [
        "test_loss, test_acc = model.evaluate(X_test,y_test_one_hot)\n",
        "\n",
        "layer_df['GPU'][layer_df['Layers']==3]=round(end-start, 2)\n",
        "layer_df['GAcc'][layer_df['Layers']==3]=round(test_acc, 3)\n",
        "layer_df['GLoss'][layer_df['Layers']==3]=round(test_loss, 3)"
      ],
      "metadata": {
        "colab": {
          "base_uri": "https://localhost:8080/"
        },
        "outputId": "2da7c8b7-5cee-428a-8eb1-a44ab64c308e",
        "id": "6cXkdVmeBJap"
      },
      "execution_count": null,
      "outputs": [
        {
          "output_type": "stream",
          "name": "stdout",
          "text": [
            "313/313 [==============================] - 1s 4ms/step - loss: 0.0517 - accuracy: 0.9843\n"
          ]
        },
        {
          "output_type": "stream",
          "name": "stderr",
          "text": [
            "<ipython-input-181-71aac98e72fa>:3: SettingWithCopyWarning: \n",
            "A value is trying to be set on a copy of a slice from a DataFrame\n",
            "\n",
            "See the caveats in the documentation: https://pandas.pydata.org/pandas-docs/stable/user_guide/indexing.html#returning-a-view-versus-a-copy\n",
            "  layer_df['GPU'][layer_df['Layers']==3]=round(end-start, 2)\n",
            "<ipython-input-181-71aac98e72fa>:4: SettingWithCopyWarning: \n",
            "A value is trying to be set on a copy of a slice from a DataFrame\n",
            "\n",
            "See the caveats in the documentation: https://pandas.pydata.org/pandas-docs/stable/user_guide/indexing.html#returning-a-view-versus-a-copy\n",
            "  layer_df['GAcc'][layer_df['Layers']==3]=round(test_acc, 3)\n",
            "<ipython-input-181-71aac98e72fa>:5: SettingWithCopyWarning: \n",
            "A value is trying to be set on a copy of a slice from a DataFrame\n",
            "\n",
            "See the caveats in the documentation: https://pandas.pydata.org/pandas-docs/stable/user_guide/indexing.html#returning-a-view-versus-a-copy\n",
            "  layer_df['GLoss'][layer_df['Layers']==3]=round(test_loss, 3)\n"
          ]
        }
      ]
    },
    {
      "cell_type": "markdown",
      "source": [
        "## conv layer = 4"
      ],
      "metadata": {
        "id": "DDTI5DqhBZDw"
      }
    },
    {
      "cell_type": "code",
      "source": [
        "# Build the CNN model\n",
        "model = Sequential()\n",
        "# Add model layers\n",
        "\n",
        "model.add(Conv2D(256, kernel_size=3, activation = 'relu', input_shape=(28,28,1)))\n",
        "model.add(Conv2D(128, kernel_size=3, activation = 'relu', input_shape=(28,28,1)))\n",
        "model.add(Conv2D(64, kernel_size=3, activation = 'relu', input_shape=(28,28,1)))\n",
        "model.add(Conv2D(32, kernel_size=3, activation='relu'))\n",
        "model.add(MaxPool2D(pool_size=(2, 2), strides=None, padding='valid', data_format=None))\n",
        "model.add(Flatten())\n",
        "model.add(Dense(10,activation='softmax'))\n",
        "model.compile(optimizer='adam', loss='categorical_crossentropy', metrics=['accuracy'])"
      ],
      "metadata": {
        "id": "GXL8tulHBZDx"
      },
      "execution_count": null,
      "outputs": []
    },
    {
      "cell_type": "code",
      "source": [
        "#Train the model\n",
        "start = time()\n",
        "\n",
        "history = model.fit(X_train,y_train_one_hot, validation_data=(X_val,y_val_one_hot),batch_size=1024, epochs=10)\n",
        "\n",
        "end = time()"
      ],
      "metadata": {
        "colab": {
          "base_uri": "https://localhost:8080/"
        },
        "outputId": "ab478d47-e4b7-489e-e349-23ee12d31d5f",
        "id": "xsA746_cBZDx"
      },
      "execution_count": null,
      "outputs": [
        {
          "output_type": "stream",
          "name": "stdout",
          "text": [
            "Epoch 1/10\n",
            "47/47 [==============================] - 13s 265ms/step - loss: 1.6379 - accuracy: 0.6842 - val_loss: 0.2195 - val_accuracy: 0.9320\n",
            "Epoch 2/10\n",
            "47/47 [==============================] - 12s 267ms/step - loss: 0.1478 - accuracy: 0.9546 - val_loss: 0.1109 - val_accuracy: 0.9669\n",
            "Epoch 3/10\n",
            "47/47 [==============================] - 13s 275ms/step - loss: 0.0917 - accuracy: 0.9720 - val_loss: 0.0880 - val_accuracy: 0.9740\n",
            "Epoch 4/10\n",
            "47/47 [==============================] - 13s 270ms/step - loss: 0.0708 - accuracy: 0.9781 - val_loss: 0.0706 - val_accuracy: 0.9788\n",
            "Epoch 5/10\n",
            "47/47 [==============================] - 12s 266ms/step - loss: 0.0534 - accuracy: 0.9836 - val_loss: 0.0652 - val_accuracy: 0.9807\n",
            "Epoch 6/10\n",
            "47/47 [==============================] - 12s 263ms/step - loss: 0.0461 - accuracy: 0.9859 - val_loss: 0.0630 - val_accuracy: 0.9812\n",
            "Epoch 7/10\n",
            "47/47 [==============================] - 12s 263ms/step - loss: 0.0409 - accuracy: 0.9874 - val_loss: 0.0631 - val_accuracy: 0.9813\n",
            "Epoch 8/10\n",
            "47/47 [==============================] - 12s 265ms/step - loss: 0.0360 - accuracy: 0.9889 - val_loss: 0.0526 - val_accuracy: 0.9845\n",
            "Epoch 9/10\n",
            "47/47 [==============================] - 12s 265ms/step - loss: 0.0313 - accuracy: 0.9904 - val_loss: 0.0561 - val_accuracy: 0.9841\n",
            "Epoch 10/10\n",
            "47/47 [==============================] - 12s 266ms/step - loss: 0.0271 - accuracy: 0.9920 - val_loss: 0.0545 - val_accuracy: 0.9842\n"
          ]
        }
      ]
    },
    {
      "metadata": {
        "colab": {
          "base_uri": "https://localhost:8080/"
        },
        "id": "fBQPNC1vBZDx",
        "outputId": "239a8df1-d472-416e-f5ad-0d4f6db41794"
      },
      "cell_type": "code",
      "source": [
        "print('Total training time {} seconds'.format(end - start))"
      ],
      "execution_count": null,
      "outputs": [
        {
          "output_type": "stream",
          "name": "stdout",
          "text": [
            "Total training time 125.5895254611969 seconds\n"
          ]
        }
      ]
    },
    {
      "cell_type": "code",
      "source": [
        "test_loss, test_acc = model.evaluate(X_test,y_test_one_hot)\n",
        "\n",
        "layer_df['GPU'][layer_df['Layers']==4]=round(end-start, 2)\n",
        "layer_df['GAcc'][layer_df['Layers']==4]=round(test_acc, 3)\n",
        "layer_df['GLoss'][layer_df['Layers']==4]=round(test_loss, 3)"
      ],
      "metadata": {
        "colab": {
          "base_uri": "https://localhost:8080/"
        },
        "id": "FR7_SDatBZDy",
        "outputId": "4e0a6231-4568-48bc-c5bc-2db009e02cb8"
      },
      "execution_count": null,
      "outputs": [
        {
          "output_type": "stream",
          "name": "stdout",
          "text": [
            "313/313 [==============================] - 2s 5ms/step - loss: 0.0406 - accuracy: 0.9869\n"
          ]
        },
        {
          "output_type": "stream",
          "name": "stderr",
          "text": [
            "<ipython-input-185-c5fdcd7b28be>:3: SettingWithCopyWarning: \n",
            "A value is trying to be set on a copy of a slice from a DataFrame\n",
            "\n",
            "See the caveats in the documentation: https://pandas.pydata.org/pandas-docs/stable/user_guide/indexing.html#returning-a-view-versus-a-copy\n",
            "  layer_df['GPU'][layer_df['Layers']==4]=round(end-start, 2)\n",
            "<ipython-input-185-c5fdcd7b28be>:4: SettingWithCopyWarning: \n",
            "A value is trying to be set on a copy of a slice from a DataFrame\n",
            "\n",
            "See the caveats in the documentation: https://pandas.pydata.org/pandas-docs/stable/user_guide/indexing.html#returning-a-view-versus-a-copy\n",
            "  layer_df['GAcc'][layer_df['Layers']==4]=round(test_acc, 3)\n",
            "<ipython-input-185-c5fdcd7b28be>:5: SettingWithCopyWarning: \n",
            "A value is trying to be set on a copy of a slice from a DataFrame\n",
            "\n",
            "See the caveats in the documentation: https://pandas.pydata.org/pandas-docs/stable/user_guide/indexing.html#returning-a-view-versus-a-copy\n",
            "  layer_df['GLoss'][layer_df['Layers']==4]=round(test_loss, 3)\n"
          ]
        }
      ]
    },
    {
      "cell_type": "markdown",
      "source": [
        "# Result"
      ],
      "metadata": {
        "id": "sRdkcegKNMWT"
      }
    },
    {
      "cell_type": "code",
      "source": [
        "batch_df.to_csv(project_path+'batch_size_result.csv')\n",
        "unit_df.to_csv(project_path+'units_result.csv')\n",
        "layer_df.to_csv(project_path+'layer_result.csv')"
      ],
      "metadata": {
        "id": "JqTENvSUKrrf"
      },
      "execution_count": null,
      "outputs": []
    }
  ]
}