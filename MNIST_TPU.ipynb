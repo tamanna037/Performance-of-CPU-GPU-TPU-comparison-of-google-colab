{
  "nbformat": 4,
  "nbformat_minor": 0,
  "metadata": {
    "colab": {
      "provenance": [],
      "collapsed_sections": [
        "A-w-0f-FypBf",
        "GA-sJhYzzX5M",
        "TjaZnzZy9TMb",
        "8ppNUGUS9Y2B"
      ]
    },
    "kernelspec": {
      "name": "python3",
      "display_name": "Python 3"
    },
    "accelerator": "TPU"
  },
  "cells": [
    {
      "cell_type": "markdown",
      "source": [
        "### initialization"
      ],
      "metadata": {
        "id": "u6PUm2arMN7D"
      }
    },
    {
      "cell_type": "code",
      "source": [
        "from google.colab import drive\n",
        "drive.mount('/content/drive')"
      ],
      "metadata": {
        "colab": {
          "base_uri": "https://localhost:8080/"
        },
        "id": "fAmBevzYKfFl",
        "outputId": "886eed24-c034-4df9-ed4e-5cc61421b608"
      },
      "execution_count": null,
      "outputs": [
        {
          "output_type": "stream",
          "name": "stdout",
          "text": [
            "Drive already mounted at /content/drive; to attempt to forcibly remount, call drive.mount(\"/content/drive\", force_remount=True).\n"
          ]
        }
      ]
    },
    {
      "cell_type": "code",
      "source": [
        "project_path = '/content/drive/My Drive/'"
      ],
      "metadata": {
        "id": "yiur25o9KgIe"
      },
      "execution_count": null,
      "outputs": []
    },
    {
      "cell_type": "code",
      "source": [
        "import pandas as pd\n",
        "\n",
        "batch_df=pd.read_csv(project_path+'batch_size_result.csv')\n",
        "batch_df['TPU']=\"\"\n",
        "batch_df['TAcc']=\"\"\n",
        "batch_df['TLoss']=\"\"\n",
        "print(batch_df)\n",
        "\n",
        "unit_df=pd.read_csv(project_path+'units_result.csv')\n",
        "unit_df['TPU']=\"\"\n",
        "unit_df['TAcc']=\"\"\n",
        "unit_df['TLoss']=\"\"\n",
        "print(unit_df)\n",
        "\n",
        "layer_df=pd.read_csv(project_path+'layer_result.csv')\n",
        "layer_df['TPU']=\"\"\n",
        "layer_df['TAcc']=\"\"\n",
        "layer_df['TLoss']=\"\"\n",
        "layer_df"
      ],
      "metadata": {
        "colab": {
          "base_uri": "https://localhost:8080/",
          "height": 572
        },
        "id": "vRN8PnG2DK8q",
        "outputId": "97c4071a-7df8-4b5a-9fae-b36295474deb"
      },
      "execution_count": null,
      "outputs": [
        {
          "output_type": "stream",
          "name": "stdout",
          "text": [
            "   Unnamed: 0  Unnamed: 0.1  Unnamed: 0.1.1  batch size    GPU  GAcc  GLoss  \\\n",
            "0           0             0               0        1024  22.48  0.98   0.07   \n",
            "1           1             1               1         512  42.03  0.98   0.07   \n",
            "2           2             2               2         256  41.39  0.98   0.08   \n",
            "\n",
            "       CPU   CAcc  CLoss TPU TAcc TLoss  \n",
            "0  1462.63  0.979  0.075                 \n",
            "1  1462.46  0.983  0.070                 \n",
            "2  1522.45  0.981  0.075                 \n",
            "   Unnamed: 0  Unnamed: 0.1  Unnamed: 0.1.1  Units    GPU   GAcc  GLoss  \\\n",
            "0           0             0               0      8   3.96  0.962  0.465   \n",
            "1           1             1               1     16  10.96  0.967  0.312   \n",
            "2           2             2               2     32  10.65  0.974  0.145   \n",
            "3           3             3               3     64  10.39  0.975  0.155   \n",
            "4           4             4               4    128  20.88  0.977  0.106   \n",
            "5           5             5               5    256  34.38  0.982  0.085   \n",
            "\n",
            "      CPU   CAcc  CLoss TPU TAcc TLoss  \n",
            "0  142.40  0.952  0.462                 \n",
            "1  127.71  0.961  0.353                 \n",
            "2  177.92  0.972  0.198                 \n",
            "3  287.22  0.975  0.134                 \n",
            "4  505.28  0.979  0.102                 \n",
            "5  953.36  0.981  0.099                 \n"
          ]
        },
        {
          "output_type": "execute_result",
          "data": {
            "text/plain": [
              "   Unnamed: 0  Unnamed: 0.1  Unnamed: 0.1.1  Layers     GPU   GAcc  GLoss  \\\n",
              "0           0             0               0       2   22.48  0.981  0.065   \n",
              "1           1             1               1       3   82.38  0.984  0.052   \n",
              "2           2             2               2       4  125.59  0.987  0.041   \n",
              "\n",
              "       CPU   CAcc  CLoss TPU TAcc TLoss  \n",
              "0  1462.63  0.979  0.075                 \n",
              "1  4882.52  0.984  0.057                 \n",
              "2   -29.68  0.986  0.051                 "
            ],
            "text/html": [
              "\n",
              "  <div id=\"df-1d7e12c3-3e09-4ecc-ac67-07a2f5f82278\">\n",
              "    <div class=\"colab-df-container\">\n",
              "      <div>\n",
              "<style scoped>\n",
              "    .dataframe tbody tr th:only-of-type {\n",
              "        vertical-align: middle;\n",
              "    }\n",
              "\n",
              "    .dataframe tbody tr th {\n",
              "        vertical-align: top;\n",
              "    }\n",
              "\n",
              "    .dataframe thead th {\n",
              "        text-align: right;\n",
              "    }\n",
              "</style>\n",
              "<table border=\"1\" class=\"dataframe\">\n",
              "  <thead>\n",
              "    <tr style=\"text-align: right;\">\n",
              "      <th></th>\n",
              "      <th>Unnamed: 0</th>\n",
              "      <th>Unnamed: 0.1</th>\n",
              "      <th>Unnamed: 0.1.1</th>\n",
              "      <th>Layers</th>\n",
              "      <th>GPU</th>\n",
              "      <th>GAcc</th>\n",
              "      <th>GLoss</th>\n",
              "      <th>CPU</th>\n",
              "      <th>CAcc</th>\n",
              "      <th>CLoss</th>\n",
              "      <th>TPU</th>\n",
              "      <th>TAcc</th>\n",
              "      <th>TLoss</th>\n",
              "    </tr>\n",
              "  </thead>\n",
              "  <tbody>\n",
              "    <tr>\n",
              "      <th>0</th>\n",
              "      <td>0</td>\n",
              "      <td>0</td>\n",
              "      <td>0</td>\n",
              "      <td>2</td>\n",
              "      <td>22.48</td>\n",
              "      <td>0.981</td>\n",
              "      <td>0.065</td>\n",
              "      <td>1462.63</td>\n",
              "      <td>0.979</td>\n",
              "      <td>0.075</td>\n",
              "      <td></td>\n",
              "      <td></td>\n",
              "      <td></td>\n",
              "    </tr>\n",
              "    <tr>\n",
              "      <th>1</th>\n",
              "      <td>1</td>\n",
              "      <td>1</td>\n",
              "      <td>1</td>\n",
              "      <td>3</td>\n",
              "      <td>82.38</td>\n",
              "      <td>0.984</td>\n",
              "      <td>0.052</td>\n",
              "      <td>4882.52</td>\n",
              "      <td>0.984</td>\n",
              "      <td>0.057</td>\n",
              "      <td></td>\n",
              "      <td></td>\n",
              "      <td></td>\n",
              "    </tr>\n",
              "    <tr>\n",
              "      <th>2</th>\n",
              "      <td>2</td>\n",
              "      <td>2</td>\n",
              "      <td>2</td>\n",
              "      <td>4</td>\n",
              "      <td>125.59</td>\n",
              "      <td>0.987</td>\n",
              "      <td>0.041</td>\n",
              "      <td>-29.68</td>\n",
              "      <td>0.986</td>\n",
              "      <td>0.051</td>\n",
              "      <td></td>\n",
              "      <td></td>\n",
              "      <td></td>\n",
              "    </tr>\n",
              "  </tbody>\n",
              "</table>\n",
              "</div>\n",
              "      <button class=\"colab-df-convert\" onclick=\"convertToInteractive('df-1d7e12c3-3e09-4ecc-ac67-07a2f5f82278')\"\n",
              "              title=\"Convert this dataframe to an interactive table.\"\n",
              "              style=\"display:none;\">\n",
              "        \n",
              "  <svg xmlns=\"http://www.w3.org/2000/svg\" height=\"24px\"viewBox=\"0 0 24 24\"\n",
              "       width=\"24px\">\n",
              "    <path d=\"M0 0h24v24H0V0z\" fill=\"none\"/>\n",
              "    <path d=\"M18.56 5.44l.94 2.06.94-2.06 2.06-.94-2.06-.94-.94-2.06-.94 2.06-2.06.94zm-11 1L8.5 8.5l.94-2.06 2.06-.94-2.06-.94L8.5 2.5l-.94 2.06-2.06.94zm10 10l.94 2.06.94-2.06 2.06-.94-2.06-.94-.94-2.06-.94 2.06-2.06.94z\"/><path d=\"M17.41 7.96l-1.37-1.37c-.4-.4-.92-.59-1.43-.59-.52 0-1.04.2-1.43.59L10.3 9.45l-7.72 7.72c-.78.78-.78 2.05 0 2.83L4 21.41c.39.39.9.59 1.41.59.51 0 1.02-.2 1.41-.59l7.78-7.78 2.81-2.81c.8-.78.8-2.07 0-2.86zM5.41 20L4 18.59l7.72-7.72 1.47 1.35L5.41 20z\"/>\n",
              "  </svg>\n",
              "      </button>\n",
              "      \n",
              "  <style>\n",
              "    .colab-df-container {\n",
              "      display:flex;\n",
              "      flex-wrap:wrap;\n",
              "      gap: 12px;\n",
              "    }\n",
              "\n",
              "    .colab-df-convert {\n",
              "      background-color: #E8F0FE;\n",
              "      border: none;\n",
              "      border-radius: 50%;\n",
              "      cursor: pointer;\n",
              "      display: none;\n",
              "      fill: #1967D2;\n",
              "      height: 32px;\n",
              "      padding: 0 0 0 0;\n",
              "      width: 32px;\n",
              "    }\n",
              "\n",
              "    .colab-df-convert:hover {\n",
              "      background-color: #E2EBFA;\n",
              "      box-shadow: 0px 1px 2px rgba(60, 64, 67, 0.3), 0px 1px 3px 1px rgba(60, 64, 67, 0.15);\n",
              "      fill: #174EA6;\n",
              "    }\n",
              "\n",
              "    [theme=dark] .colab-df-convert {\n",
              "      background-color: #3B4455;\n",
              "      fill: #D2E3FC;\n",
              "    }\n",
              "\n",
              "    [theme=dark] .colab-df-convert:hover {\n",
              "      background-color: #434B5C;\n",
              "      box-shadow: 0px 1px 3px 1px rgba(0, 0, 0, 0.15);\n",
              "      filter: drop-shadow(0px 1px 2px rgba(0, 0, 0, 0.3));\n",
              "      fill: #FFFFFF;\n",
              "    }\n",
              "  </style>\n",
              "\n",
              "      <script>\n",
              "        const buttonEl =\n",
              "          document.querySelector('#df-1d7e12c3-3e09-4ecc-ac67-07a2f5f82278 button.colab-df-convert');\n",
              "        buttonEl.style.display =\n",
              "          google.colab.kernel.accessAllowed ? 'block' : 'none';\n",
              "\n",
              "        async function convertToInteractive(key) {\n",
              "          const element = document.querySelector('#df-1d7e12c3-3e09-4ecc-ac67-07a2f5f82278');\n",
              "          const dataTable =\n",
              "            await google.colab.kernel.invokeFunction('convertToInteractive',\n",
              "                                                     [key], {});\n",
              "          if (!dataTable) return;\n",
              "\n",
              "          const docLinkHtml = 'Like what you see? Visit the ' +\n",
              "            '<a target=\"_blank\" href=https://colab.research.google.com/notebooks/data_table.ipynb>data table notebook</a>'\n",
              "            + ' to learn more about interactive tables.';\n",
              "          element.innerHTML = '';\n",
              "          dataTable['output_type'] = 'display_data';\n",
              "          await google.colab.output.renderOutput(dataTable, element);\n",
              "          const docLink = document.createElement('div');\n",
              "          docLink.innerHTML = docLinkHtml;\n",
              "          element.appendChild(docLink);\n",
              "        }\n",
              "      </script>\n",
              "    </div>\n",
              "  </div>\n",
              "  "
            ]
          },
          "metadata": {},
          "execution_count": 27
        }
      ]
    },
    {
      "cell_type": "code",
      "source": [],
      "metadata": {
        "id": "_xXBedMawjYz"
      },
      "execution_count": null,
      "outputs": []
    },
    {
      "cell_type": "markdown",
      "source": [
        "###Model"
      ],
      "metadata": {
        "id": "aHNQTm0Zwk7f"
      }
    },
    {
      "metadata": {
        "id": "Dk-aD8PMwouD"
      },
      "cell_type": "code",
      "source": [
        "from time import time\n",
        "import numpy as np\n",
        "from sklearn.model_selection import train_test_split\n",
        "import matplotlib.pyplot as plt\n",
        "%matplotlib inline\n",
        "\n",
        "import tensorflow as tf\n"
      ],
      "execution_count": null,
      "outputs": []
    },
    {
      "metadata": {
        "colab": {
          "base_uri": "https://localhost:8080/",
          "height": 35
        },
        "outputId": "151a979e-6b82-4e5c-8212-9153af1901a4",
        "id": "PCb4VW-wwouE"
      },
      "cell_type": "code",
      "source": [
        "# check tensorflow version, we want the one that support eager mode\n",
        "tf.__version__"
      ],
      "execution_count": null,
      "outputs": [
        {
          "output_type": "execute_result",
          "data": {
            "text/plain": [
              "'2.9.2'"
            ],
            "application/vnd.google.colaboratory.intrinsic+json": {
              "type": "string"
            }
          },
          "metadata": {},
          "execution_count": 29
        }
      ]
    },
    {
      "metadata": {
        "colab": {
          "base_uri": "https://localhost:8080/"
        },
        "outputId": "7f19302b-d51f-4809-f20f-9dbd09d230db",
        "id": "B1ucqXcCwouE"
      },
      "cell_type": "code",
      "source": [
        "# Check if eager execution mode is on\n",
        "tf.executing_eagerly()"
      ],
      "execution_count": null,
      "outputs": [
        {
          "output_type": "execute_result",
          "data": {
            "text/plain": [
              "True"
            ]
          },
          "metadata": {},
          "execution_count": 30
        }
      ]
    },
    {
      "cell_type": "code",
      "source": [
        "from tensorflow.keras.datasets import mnist\n",
        "#Load the data and split it into train and test \n",
        "(X_train, y_train), (X_test, y_test) = mnist.load_data()"
      ],
      "metadata": {
        "id": "gggvkZMyRxce"
      },
      "execution_count": null,
      "outputs": []
    },
    {
      "cell_type": "code",
      "source": [
        "#Get the image shape\n",
        "print(X_train.shape)\n",
        "print(X_test.shape)"
      ],
      "metadata": {
        "colab": {
          "base_uri": "https://localhost:8080/"
        },
        "id": "xyGY4fYaRy_r",
        "outputId": "8ae887a0-a7f0-4d20-caa0-6062c2bcc304"
      },
      "execution_count": null,
      "outputs": [
        {
          "output_type": "stream",
          "name": "stdout",
          "text": [
            "(60000, 28, 28)\n",
            "(10000, 28, 28)\n"
          ]
        }
      ]
    },
    {
      "cell_type": "code",
      "source": [
        "split = 0.2\n",
        "X_train, X_val, y_train, y_val = train_test_split(\n",
        "    X_train, y_train, test_size=0.2, random_state=42)\n",
        "print('x_train: {}, y_train: {}, x_val: {}, y_val: {}'\n",
        "      .format(X_train.shape, y_train.shape, X_val.shape, y_val.shape))"
      ],
      "metadata": {
        "colab": {
          "base_uri": "https://localhost:8080/"
        },
        "id": "OYAeh6P0Vpxo",
        "outputId": "313cca78-784e-460d-c923-a127b430a33a"
      },
      "execution_count": null,
      "outputs": [
        {
          "output_type": "stream",
          "name": "stdout",
          "text": [
            "x_train: (48000, 28, 28), y_train: (48000,), x_val: (12000, 28, 28), y_val: (12000,)\n"
          ]
        }
      ]
    },
    {
      "cell_type": "code",
      "source": [
        "#importing the libraries\n",
        "from tensorflow.keras.models import Sequential\n",
        "from tensorflow.keras.layers import Dense, Conv2D, Flatten, MaxPool2D\n",
        "from tensorflow.keras.datasets import mnist\n",
        "from tensorflow.keras.utils import to_categorical\n",
        "import numpy as np\n",
        "import matplotlib.pyplot as plt\n",
        "plt.imshow(X_train[2])"
      ],
      "metadata": {
        "colab": {
          "base_uri": "https://localhost:8080/",
          "height": 283
        },
        "id": "sr5BoqFKR0-7",
        "outputId": "970651fd-d1ba-45f7-d760-c8df178ba36b"
      },
      "execution_count": null,
      "outputs": [
        {
          "output_type": "execute_result",
          "data": {
            "text/plain": [
              "<matplotlib.image.AxesImage at 0x7fb3d39f96a0>"
            ]
          },
          "metadata": {},
          "execution_count": 34
        },
        {
          "output_type": "display_data",
          "data": {
            "text/plain": [
              "<Figure size 432x288 with 1 Axes>"
            ],
            "image/png": "[encoded data removed]"
          },
          "metadata": {
            "needs_background": "light"
          }
        }
      ]
    },
    {
      "cell_type": "code",
      "source": [
        "# Reshaping the data to fit the model\n",
        "X_train = X_train.reshape(48000, 28, 28, 1)\n",
        "X_val = X_val.reshape(12000, 28, 28, 1)\n",
        "X_test = X_test.reshape(10000, 28, 28, 1)"
      ],
      "metadata": {
        "id": "oVtfbadPSFRM"
      },
      "execution_count": null,
      "outputs": []
    },
    {
      "cell_type": "code",
      "source": [
        "# One-Hot Encoding:\n",
        "y_train_one_hot = to_categorical(y_train)\n",
        "y_val_one_hot= to_categorical(y_val)\n",
        "y_test_one_hot = to_categorical(y_test)\n",
        "\n",
        "# Print the new label\n",
        "print(y_train_one_hot[0])"
      ],
      "metadata": {
        "colab": {
          "base_uri": "https://localhost:8080/"
        },
        "id": "5Wl7UXXMSG6q",
        "outputId": "187e574b-2f0d-4361-9f2c-f39b93e5136e"
      },
      "execution_count": null,
      "outputs": [
        {
          "output_type": "stream",
          "name": "stdout",
          "text": [
            "[0. 0. 0. 0. 0. 1. 0. 0. 0. 0.]\n"
          ]
        }
      ]
    },
    {
      "cell_type": "code",
      "source": [
        "# Distribution strategies\n",
        "import os\n",
        "resolver = tf.distribute.cluster_resolver.TPUClusterResolver(tpu='grpc://' + os.environ['COLAB_TPU_ADDR'])\n",
        "tf.config.experimental_connect_to_cluster(resolver)\n",
        "tf.tpu.experimental.initialize_tpu_system(resolver)"
      ],
      "metadata": {
        "colab": {
          "base_uri": "https://localhost:8080/"
        },
        "id": "A4b1cKpDp1tY",
        "outputId": "03cb9644-1545-4b24-9736-9d6f1a4c9d04"
      },
      "execution_count": null,
      "outputs": [
        {
          "output_type": "stream",
          "name": "stderr",
          "text": [
            "WARNING:tensorflow:TPU system grpc://10.100.119.226:8470 has already been initialized. Reinitializing the TPU can cause previously created variables on TPU to be lost.\n"
          ]
        },
        {
          "output_type": "execute_result",
          "data": {
            "text/plain": [
              "<tensorflow.python.tpu.topology.Topology at 0x7fb3d3e1b1c0>"
            ]
          },
          "metadata": {},
          "execution_count": 37
        }
      ]
    },
    {
      "cell_type": "markdown",
      "source": [
        "# batch size"
      ],
      "metadata": {
        "id": "2eLU4qwfa9bd"
      }
    },
    {
      "cell_type": "markdown",
      "source": [
        "###batch_size=1024"
      ],
      "metadata": {
        "id": "pcO5Q3JNZsml"
      }
    },
    {
      "cell_type": "code",
      "source": [
        "strategy = tf.distribute.experimental.TPUStrategy(resolver)\n",
        "with strategy.scope():\n",
        "  # Build the CNN model\n",
        "  model = Sequential()\n",
        "  # Add model layers\n",
        "  model.add(Conv2D(64, kernel_size=3, activation = 'relu', input_shape=(28,28,1)))\n",
        "  model.add(Conv2D(32, kernel_size=3, activation='relu'))\n",
        "  model.add(MaxPool2D(pool_size=(2, 2), strides=None, padding='valid', data_format=None))\n",
        "  model.add(Flatten())\n",
        "  model.add(Dense(10,activation='softmax'))\n",
        "  model.compile(optimizer='adam', loss='categorical_crossentropy', metrics=['accuracy'])"
      ],
      "metadata": {
        "colab": {
          "base_uri": "https://localhost:8080/"
        },
        "id": "YYcAUl0KY9gz",
        "outputId": "75cf2aad-ebe0-4699-acd9-35c5a8852d15"
      },
      "execution_count": null,
      "outputs": [
        {
          "output_type": "stream",
          "name": "stderr",
          "text": [
            "WARNING:absl:`tf.distribute.experimental.TPUStrategy` is deprecated, please use  the non experimental symbol `tf.distribute.TPUStrategy` instead.\n"
          ]
        }
      ]
    },
    {
      "cell_type": "code",
      "source": [
        "#Train the model\n",
        "start = time()\n",
        "\n",
        "history = model.fit(X_train,y_train_one_hot, validation_data=(X_val,y_val_one_hot),batch_size=1000, epochs=10)\n",
        "\n",
        "end = time()"
      ],
      "metadata": {
        "colab": {
          "base_uri": "https://localhost:8080/"
        },
        "id": "Rn0qf9cJYgUW",
        "outputId": "6b94fd90-9b81-482f-d9ba-8690fe4ea9b6"
      },
      "execution_count": null,
      "outputs": [
        {
          "output_type": "stream",
          "name": "stdout",
          "text": [
            "Epoch 1/10\n",
            "48/48 [==============================] - 5s 48ms/step - loss: 2.9652 - accuracy: 0.7275 - val_loss: 0.2228 - val_accuracy: 0.9294\n",
            "Epoch 2/10\n",
            "48/48 [==============================] - 2s 35ms/step - loss: 0.1532 - accuracy: 0.9539 - val_loss: 0.1207 - val_accuracy: 0.9622\n",
            "Epoch 3/10\n",
            "48/48 [==============================] - 1s 31ms/step - loss: 0.0929 - accuracy: 0.9719 - val_loss: 0.0933 - val_accuracy: 0.9717\n",
            "Epoch 4/10\n",
            "48/48 [==============================] - 1s 30ms/step - loss: 0.0680 - accuracy: 0.9794 - val_loss: 0.0828 - val_accuracy: 0.9753\n",
            "Epoch 5/10\n",
            "48/48 [==============================] - 2s 32ms/step - loss: 0.0535 - accuracy: 0.9831 - val_loss: 0.0727 - val_accuracy: 0.9791\n",
            "Epoch 6/10\n",
            "48/48 [==============================] - 1s 30ms/step - loss: 0.0443 - accuracy: 0.9864 - val_loss: 0.0716 - val_accuracy: 0.9790\n",
            "Epoch 7/10\n",
            "48/48 [==============================] - 2s 32ms/step - loss: 0.0377 - accuracy: 0.9884 - val_loss: 0.0666 - val_accuracy: 0.9804\n",
            "Epoch 8/10\n",
            "48/48 [==============================] - 2s 34ms/step - loss: 0.0306 - accuracy: 0.9908 - val_loss: 0.0700 - val_accuracy: 0.9806\n",
            "Epoch 9/10\n",
            "48/48 [==============================] - 2s 34ms/step - loss: 0.0265 - accuracy: 0.9917 - val_loss: 0.0676 - val_accuracy: 0.9823\n",
            "Epoch 10/10\n",
            "48/48 [==============================] - 1s 30ms/step - loss: 0.0225 - accuracy: 0.9933 - val_loss: 0.0681 - val_accuracy: 0.9815\n"
          ]
        }
      ]
    },
    {
      "cell_type": "code",
      "source": [
        "print('Total training time {} seconds'.format(end - start))"
      ],
      "metadata": {
        "id": "5HB7-cCQYipC",
        "colab": {
          "base_uri": "https://localhost:8080/"
        },
        "outputId": "94085f69-b276-4550-fc18-974200393539"
      },
      "execution_count": null,
      "outputs": [
        {
          "output_type": "stream",
          "name": "stdout",
          "text": [
            "Total training time 20.577211141586304 seconds\n"
          ]
        }
      ]
    },
    {
      "cell_type": "code",
      "source": [
        "test_loss, test_acc = model.evaluate(X_test,y_test_one_hot)\n",
        "\n",
        "batch_df['TPU'][batch_df['batch size']==1024]=round(end-start, 2)\n",
        "batch_df['TAcc'][batch_df['batch size']==1024]=round(test_acc, 3)\n",
        "batch_df['TLoss'][batch_df['batch size']==1024]=round(test_loss, 3)\n",
        "\n",
        "layer_df['TPU'][layer_df['Layers']==2]=round(end-start, 2)\n",
        "layer_df['TAcc'][layer_df['Layers']==2]=round(test_acc, 3)\n",
        "layer_df['TLoss'][layer_df['Layers']==2]=round(test_loss, 3)"
      ],
      "metadata": {
        "colab": {
          "base_uri": "https://localhost:8080/"
        },
        "id": "0K-F-aR2x-8c",
        "outputId": "7f8d43ed-b830-490e-de96-b46492b1f5b8"
      },
      "execution_count": null,
      "outputs": [
        {
          "output_type": "stream",
          "name": "stdout",
          "text": [
            "313/313 [==============================] - 9s 22ms/step - loss: 0.0767 - accuracy: 0.9798\n"
          ]
        },
        {
          "output_type": "stream",
          "name": "stderr",
          "text": [
            "<ipython-input-44-d1ba1379df74>:3: SettingWithCopyWarning: \n",
            "A value is trying to be set on a copy of a slice from a DataFrame\n",
            "\n",
            "See the caveats in the documentation: https://pandas.pydata.org/pandas-docs/stable/user_guide/indexing.html#returning-a-view-versus-a-copy\n",
            "  batch_df['TPU'][batch_df['batch size']==1024]=round(end-start, 2)\n",
            "<ipython-input-44-d1ba1379df74>:4: SettingWithCopyWarning: \n",
            "A value is trying to be set on a copy of a slice from a DataFrame\n",
            "\n",
            "See the caveats in the documentation: https://pandas.pydata.org/pandas-docs/stable/user_guide/indexing.html#returning-a-view-versus-a-copy\n",
            "  batch_df['TAcc'][batch_df['batch size']==1024]=round(test_acc, 3)\n",
            "<ipython-input-44-d1ba1379df74>:5: SettingWithCopyWarning: \n",
            "A value is trying to be set on a copy of a slice from a DataFrame\n",
            "\n",
            "See the caveats in the documentation: https://pandas.pydata.org/pandas-docs/stable/user_guide/indexing.html#returning-a-view-versus-a-copy\n",
            "  batch_df['TLoss'][batch_df['batch size']==1024]=round(test_loss, 3)\n",
            "<ipython-input-44-d1ba1379df74>:7: SettingWithCopyWarning: \n",
            "A value is trying to be set on a copy of a slice from a DataFrame\n",
            "\n",
            "See the caveats in the documentation: https://pandas.pydata.org/pandas-docs/stable/user_guide/indexing.html#returning-a-view-versus-a-copy\n",
            "  layer_df['TPU'][layer_df['Layers']==2]=round(end-start, 2)\n",
            "<ipython-input-44-d1ba1379df74>:8: SettingWithCopyWarning: \n",
            "A value is trying to be set on a copy of a slice from a DataFrame\n",
            "\n",
            "See the caveats in the documentation: https://pandas.pydata.org/pandas-docs/stable/user_guide/indexing.html#returning-a-view-versus-a-copy\n",
            "  layer_df['TAcc'][layer_df['Layers']==2]=round(test_acc, 3)\n",
            "<ipython-input-44-d1ba1379df74>:9: SettingWithCopyWarning: \n",
            "A value is trying to be set on a copy of a slice from a DataFrame\n",
            "\n",
            "See the caveats in the documentation: https://pandas.pydata.org/pandas-docs/stable/user_guide/indexing.html#returning-a-view-versus-a-copy\n",
            "  layer_df['TLoss'][layer_df['Layers']==2]=round(test_loss, 3)\n"
          ]
        }
      ]
    },
    {
      "cell_type": "markdown",
      "source": [
        "###batch_size=512"
      ],
      "metadata": {
        "id": "A-w-0f-FypBf"
      }
    },
    {
      "cell_type": "code",
      "source": [
        "strategy = tf.distribute.experimental.TPUStrategy(resolver)\n",
        "with strategy.scope():\n",
        "  # Build the CNN model\n",
        "  model = Sequential()\n",
        "  # Add model layers\n",
        "  model.add(Conv2D(64, kernel_size=3, activation = 'relu', input_shape=(28,28,1)))\n",
        "  model.add(Conv2D(32, kernel_size=3, activation='relu'))\n",
        "  model.add(MaxPool2D(pool_size=(2, 2), strides=None, padding='valid', data_format=None))\n",
        "  model.add(Flatten())\n",
        "  model.add(Dense(10,activation='softmax'))\n",
        "  model.compile(optimizer='adam', loss='categorical_crossentropy', metrics=['accuracy'])"
      ],
      "metadata": {
        "colab": {
          "base_uri": "https://localhost:8080/"
        },
        "id": "3CO2qCPpysgp",
        "outputId": "496516ad-d2cd-42c2-8f8d-7a3991aab7e7"
      },
      "execution_count": null,
      "outputs": [
        {
          "output_type": "stream",
          "name": "stderr",
          "text": [
            "WARNING:absl:`tf.distribute.experimental.TPUStrategy` is deprecated, please use  the non experimental symbol `tf.distribute.TPUStrategy` instead.\n"
          ]
        }
      ]
    },
    {
      "cell_type": "code",
      "source": [
        "#Train the model\n",
        "start = time()\n",
        "\n",
        "history = model.fit(X_train,y_train_one_hot, validation_data=(X_val,y_val_one_hot),batch_size=512, epochs=10)\n",
        "\n",
        "end = time()"
      ],
      "metadata": {
        "colab": {
          "base_uri": "https://localhost:8080/"
        },
        "id": "TVZdmV6yy23r",
        "outputId": "0d248650-bd90-4b84-f5d5-d5af0dd884aa"
      },
      "execution_count": null,
      "outputs": [
        {
          "output_type": "stream",
          "name": "stdout",
          "text": [
            "Epoch 1/10\n",
            "94/94 [==============================] - 12s 81ms/step - loss: 1.3847 - accuracy: 0.8370 - val_loss: 0.1480 - val_accuracy: 0.9556\n",
            "Epoch 2/10\n",
            "94/94 [==============================] - 3s 33ms/step - loss: 0.1099 - accuracy: 0.9668 - val_loss: 0.0944 - val_accuracy: 0.9714\n",
            "Epoch 3/10\n",
            "94/94 [==============================] - 3s 30ms/step - loss: 0.0695 - accuracy: 0.9792 - val_loss: 0.0788 - val_accuracy: 0.9761\n",
            "Epoch 4/10\n",
            "94/94 [==============================] - 3s 30ms/step - loss: 0.0517 - accuracy: 0.9846 - val_loss: 0.0813 - val_accuracy: 0.9753\n",
            "Epoch 5/10\n",
            "94/94 [==============================] - 3s 31ms/step - loss: 0.0394 - accuracy: 0.9879 - val_loss: 0.0671 - val_accuracy: 0.9799\n",
            "Epoch 6/10\n",
            "94/94 [==============================] - 3s 30ms/step - loss: 0.0320 - accuracy: 0.9901 - val_loss: 0.0628 - val_accuracy: 0.9803\n",
            "Epoch 7/10\n",
            "94/94 [==============================] - 3s 29ms/step - loss: 0.0253 - accuracy: 0.9922 - val_loss: 0.0695 - val_accuracy: 0.9803\n",
            "Epoch 8/10\n",
            "94/94 [==============================] - 3s 30ms/step - loss: 0.0210 - accuracy: 0.9933 - val_loss: 0.0694 - val_accuracy: 0.9817\n",
            "Epoch 9/10\n",
            "94/94 [==============================] - 3s 31ms/step - loss: 0.0158 - accuracy: 0.9950 - val_loss: 0.0727 - val_accuracy: 0.9807\n",
            "Epoch 10/10\n",
            "94/94 [==============================] - 3s 30ms/step - loss: 0.0117 - accuracy: 0.9964 - val_loss: 0.0686 - val_accuracy: 0.9808\n"
          ]
        }
      ]
    },
    {
      "cell_type": "code",
      "source": [
        "print('Total training time {} seconds'.format(end - start))"
      ],
      "metadata": {
        "colab": {
          "base_uri": "https://localhost:8080/"
        },
        "id": "PmVOmKepy5Ll",
        "outputId": "bcbbf95e-af1b-4246-cfde-48349b102740"
      },
      "execution_count": null,
      "outputs": [
        {
          "output_type": "stream",
          "name": "stdout",
          "text": [
            "Total training time 39.63025403022766 seconds\n"
          ]
        }
      ]
    },
    {
      "cell_type": "code",
      "source": [
        "test_loss, test_acc = model.evaluate(X_test,y_test_one_hot)\n",
        "\n",
        "batch_df['TPU'][batch_df['batch size']==512]=round(end-start, 2)\n",
        "batch_df['TAcc'][batch_df['batch size']==512]=round(test_acc, 3)\n",
        "batch_df['TLoss'][batch_df['batch size']==512]=round(test_loss, 3)\n"
      ],
      "metadata": {
        "colab": {
          "base_uri": "https://localhost:8080/"
        },
        "id": "2dylYK9Zy6Zd",
        "outputId": "b706ed12-6530-4d09-9dfe-72af0cf448a7"
      },
      "execution_count": null,
      "outputs": [
        {
          "output_type": "stream",
          "name": "stdout",
          "text": [
            "313/313 [==============================] - 8s 21ms/step - loss: 0.0607 - accuracy: 0.9839\n"
          ]
        },
        {
          "output_type": "stream",
          "name": "stderr",
          "text": [
            "<ipython-input-48-3c661c3d7640>:3: SettingWithCopyWarning: \n",
            "A value is trying to be set on a copy of a slice from a DataFrame\n",
            "\n",
            "See the caveats in the documentation: https://pandas.pydata.org/pandas-docs/stable/user_guide/indexing.html#returning-a-view-versus-a-copy\n",
            "  batch_df['TPU'][batch_df['batch size']==512]=round(end-start, 2)\n",
            "<ipython-input-48-3c661c3d7640>:4: SettingWithCopyWarning: \n",
            "A value is trying to be set on a copy of a slice from a DataFrame\n",
            "\n",
            "See the caveats in the documentation: https://pandas.pydata.org/pandas-docs/stable/user_guide/indexing.html#returning-a-view-versus-a-copy\n",
            "  batch_df['TAcc'][batch_df['batch size']==512]=round(test_acc, 3)\n",
            "<ipython-input-48-3c661c3d7640>:5: SettingWithCopyWarning: \n",
            "A value is trying to be set on a copy of a slice from a DataFrame\n",
            "\n",
            "See the caveats in the documentation: https://pandas.pydata.org/pandas-docs/stable/user_guide/indexing.html#returning-a-view-versus-a-copy\n",
            "  batch_df['TLoss'][batch_df['batch size']==512]=round(test_loss, 3)\n"
          ]
        }
      ]
    },
    {
      "cell_type": "markdown",
      "source": [
        "###batch_size=256"
      ],
      "metadata": {
        "id": "GA-sJhYzzX5M"
      }
    },
    {
      "cell_type": "code",
      "source": [
        "strategy = tf.distribute.experimental.TPUStrategy(resolver)\n",
        "with strategy.scope():\n",
        "  # Build the CNN model\n",
        "  model = Sequential()\n",
        "  # Add model layers\n",
        "  model.add(Conv2D(64, kernel_size=3, activation = 'relu', input_shape=(28,28,1)))\n",
        "  model.add(Conv2D(32, kernel_size=3, activation='relu'))\n",
        "  model.add(MaxPool2D(pool_size=(2, 2), strides=None, padding='valid', data_format=None))\n",
        "  model.add(Flatten())\n",
        "  model.add(Dense(10,activation='softmax'))\n",
        "  model.compile(optimizer='adam', loss='categorical_crossentropy', metrics=['accuracy'])"
      ],
      "metadata": {
        "colab": {
          "base_uri": "https://localhost:8080/"
        },
        "outputId": "2182e12d-9dad-4569-af97-805babc235fc",
        "id": "7Hymn_blzX5N"
      },
      "execution_count": null,
      "outputs": [
        {
          "output_type": "stream",
          "name": "stderr",
          "text": [
            "WARNING:absl:`tf.distribute.experimental.TPUStrategy` is deprecated, please use  the non experimental symbol `tf.distribute.TPUStrategy` instead.\n"
          ]
        }
      ]
    },
    {
      "cell_type": "code",
      "source": [
        "#Train the model\n",
        "start = time()\n",
        "\n",
        "history = model.fit(X_train,y_train_one_hot, validation_data=(X_val,y_val_one_hot),batch_size=256, epochs=10)\n",
        "\n",
        "end = time()"
      ],
      "metadata": {
        "colab": {
          "base_uri": "https://localhost:8080/"
        },
        "outputId": "21c9fd67-2e9a-40e3-b0c9-7d112150f9de",
        "id": "w3QBSCHQzX5N"
      },
      "execution_count": null,
      "outputs": [
        {
          "output_type": "stream",
          "name": "stdout",
          "text": [
            "Epoch 1/10\n",
            "188/188 [==============================] - 16s 50ms/step - loss: 1.0281 - accuracy: 0.8868 - val_loss: 0.1024 - val_accuracy: 0.9675\n",
            "Epoch 2/10\n",
            "188/188 [==============================] - 5s 27ms/step - loss: 0.0812 - accuracy: 0.9749 - val_loss: 0.0826 - val_accuracy: 0.9753\n",
            "Epoch 3/10\n",
            "188/188 [==============================] - 5s 28ms/step - loss: 0.0561 - accuracy: 0.9827 - val_loss: 0.0790 - val_accuracy: 0.9759\n",
            "Epoch 4/10\n",
            "188/188 [==============================] - 5s 26ms/step - loss: 0.0434 - accuracy: 0.9862 - val_loss: 0.0724 - val_accuracy: 0.9797\n",
            "Epoch 5/10\n",
            "188/188 [==============================] - 5s 27ms/step - loss: 0.0325 - accuracy: 0.9899 - val_loss: 0.0808 - val_accuracy: 0.9783\n",
            "Epoch 6/10\n",
            "188/188 [==============================] - 5s 29ms/step - loss: 0.0248 - accuracy: 0.9919 - val_loss: 0.0718 - val_accuracy: 0.9802\n",
            "Epoch 7/10\n",
            "188/188 [==============================] - 5s 28ms/step - loss: 0.0204 - accuracy: 0.9930 - val_loss: 0.0764 - val_accuracy: 0.9818\n",
            "Epoch 8/10\n",
            "188/188 [==============================] - 5s 26ms/step - loss: 0.0150 - accuracy: 0.9949 - val_loss: 0.0840 - val_accuracy: 0.9811\n",
            "Epoch 9/10\n",
            "188/188 [==============================] - 5s 29ms/step - loss: 0.0133 - accuracy: 0.9954 - val_loss: 0.0826 - val_accuracy: 0.9816\n",
            "Epoch 10/10\n",
            "188/188 [==============================] - 5s 26ms/step - loss: 0.0140 - accuracy: 0.9950 - val_loss: 0.0934 - val_accuracy: 0.9816\n"
          ]
        }
      ]
    },
    {
      "cell_type": "code",
      "source": [
        "print('Total training time {} seconds'.format(end - start))"
      ],
      "metadata": {
        "colab": {
          "base_uri": "https://localhost:8080/"
        },
        "id": "ChucuKvNzX5O",
        "outputId": "be70085c-2377-4bf4-ad5d-411cd74cda4a"
      },
      "execution_count": null,
      "outputs": [
        {
          "output_type": "stream",
          "name": "stdout",
          "text": [
            "Total training time 63.9859676361084 seconds\n"
          ]
        }
      ]
    },
    {
      "cell_type": "code",
      "source": [
        "test_loss, test_acc = model.evaluate(X_test,y_test_one_hot)\n",
        "batch_df['TPU'][batch_df['batch size']==256]=round(end-start, 2)\n",
        "batch_df['TAcc'][batch_df['batch size']==256]=round(test_acc, 3)\n",
        "batch_df['TLoss'][batch_df['batch size']==256]=round(test_loss, 3)\n",
        "batch_df\n"
      ],
      "metadata": {
        "colab": {
          "base_uri": "https://localhost:8080/"
        },
        "id": "d1q_sE1dzX5O",
        "outputId": "0429f309-9029-4b4d-80b5-6fa16ba315a7"
      },
      "execution_count": null,
      "outputs": [
        {
          "output_type": "stream",
          "name": "stdout",
          "text": [
            "313/313 [==============================] - 8s 22ms/step - loss: 0.0873 - accuracy: 0.9800\n"
          ]
        },
        {
          "output_type": "stream",
          "name": "stderr",
          "text": [
            "<ipython-input-52-0763b194e8e8>:2: SettingWithCopyWarning: \n",
            "A value is trying to be set on a copy of a slice from a DataFrame\n",
            "\n",
            "See the caveats in the documentation: https://pandas.pydata.org/pandas-docs/stable/user_guide/indexing.html#returning-a-view-versus-a-copy\n",
            "  batch_df['TPU'][batch_df['batch size']==256]=round(end-start, 2)\n",
            "<ipython-input-52-0763b194e8e8>:3: SettingWithCopyWarning: \n",
            "A value is trying to be set on a copy of a slice from a DataFrame\n",
            "\n",
            "See the caveats in the documentation: https://pandas.pydata.org/pandas-docs/stable/user_guide/indexing.html#returning-a-view-versus-a-copy\n",
            "  batch_df['TAcc'][batch_df['batch size']==256]=round(test_acc, 3)\n",
            "<ipython-input-52-0763b194e8e8>:4: SettingWithCopyWarning: \n",
            "A value is trying to be set on a copy of a slice from a DataFrame\n",
            "\n",
            "See the caveats in the documentation: https://pandas.pydata.org/pandas-docs/stable/user_guide/indexing.html#returning-a-view-versus-a-copy\n",
            "  batch_df['TLoss'][batch_df['batch size']==256]=round(test_loss, 3)\n"
          ]
        },
        {
          "output_type": "execute_result",
          "data": {
            "text/plain": [
              "   Unnamed: 0  Unnamed: 0.1  Unnamed: 0.1.1  batch size    GPU  GAcc  GLoss  \\\n",
              "0           0             0               0        1024  22.48  0.98   0.07   \n",
              "1           1             1               1         512  42.03  0.98   0.07   \n",
              "2           2             2               2         256  41.39  0.98   0.08   \n",
              "\n",
              "       CPU   CAcc  CLoss    TPU   TAcc  TLoss  \n",
              "0  1462.63  0.979  0.075  20.58   0.98  0.077  \n",
              "1  1462.46  0.983  0.070  39.63  0.984  0.061  \n",
              "2  1522.45  0.981  0.075  63.99   0.98  0.087  "
            ],
            "text/html": [
              "\n",
              "  <div id=\"df-be6b3467-994a-445d-adc9-f51dd9d4d58f\">\n",
              "    <div class=\"colab-df-container\">\n",
              "      <div>\n",
              "<style scoped>\n",
              "    .dataframe tbody tr th:only-of-type {\n",
              "        vertical-align: middle;\n",
              "    }\n",
              "\n",
              "    .dataframe tbody tr th {\n",
              "        vertical-align: top;\n",
              "    }\n",
              "\n",
              "    .dataframe thead th {\n",
              "        text-align: right;\n",
              "    }\n",
              "</style>\n",
              "<table border=\"1\" class=\"dataframe\">\n",
              "  <thead>\n",
              "    <tr style=\"text-align: right;\">\n",
              "      <th></th>\n",
              "      <th>Unnamed: 0</th>\n",
              "      <th>Unnamed: 0.1</th>\n",
              "      <th>Unnamed: 0.1.1</th>\n",
              "      <th>batch size</th>\n",
              "      <th>GPU</th>\n",
              "      <th>GAcc</th>\n",
              "      <th>GLoss</th>\n",
              "      <th>CPU</th>\n",
              "      <th>CAcc</th>\n",
              "      <th>CLoss</th>\n",
              "      <th>TPU</th>\n",
              "      <th>TAcc</th>\n",
              "      <th>TLoss</th>\n",
              "    </tr>\n",
              "  </thead>\n",
              "  <tbody>\n",
              "    <tr>\n",
              "      <th>0</th>\n",
              "      <td>0</td>\n",
              "      <td>0</td>\n",
              "      <td>0</td>\n",
              "      <td>1024</td>\n",
              "      <td>22.48</td>\n",
              "      <td>0.98</td>\n",
              "      <td>0.07</td>\n",
              "      <td>1462.63</td>\n",
              "      <td>0.979</td>\n",
              "      <td>0.075</td>\n",
              "      <td>20.58</td>\n",
              "      <td>0.98</td>\n",
              "      <td>0.077</td>\n",
              "    </tr>\n",
              "    <tr>\n",
              "      <th>1</th>\n",
              "      <td>1</td>\n",
              "      <td>1</td>\n",
              "      <td>1</td>\n",
              "      <td>512</td>\n",
              "      <td>42.03</td>\n",
              "      <td>0.98</td>\n",
              "      <td>0.07</td>\n",
              "      <td>1462.46</td>\n",
              "      <td>0.983</td>\n",
              "      <td>0.070</td>\n",
              "      <td>39.63</td>\n",
              "      <td>0.984</td>\n",
              "      <td>0.061</td>\n",
              "    </tr>\n",
              "    <tr>\n",
              "      <th>2</th>\n",
              "      <td>2</td>\n",
              "      <td>2</td>\n",
              "      <td>2</td>\n",
              "      <td>256</td>\n",
              "      <td>41.39</td>\n",
              "      <td>0.98</td>\n",
              "      <td>0.08</td>\n",
              "      <td>1522.45</td>\n",
              "      <td>0.981</td>\n",
              "      <td>0.075</td>\n",
              "      <td>63.99</td>\n",
              "      <td>0.98</td>\n",
              "      <td>0.087</td>\n",
              "    </tr>\n",
              "  </tbody>\n",
              "</table>\n",
              "</div>\n",
              "      <button class=\"colab-df-convert\" onclick=\"convertToInteractive('df-be6b3467-994a-445d-adc9-f51dd9d4d58f')\"\n",
              "              title=\"Convert this dataframe to an interactive table.\"\n",
              "              style=\"display:none;\">\n",
              "        \n",
              "  <svg xmlns=\"http://www.w3.org/2000/svg\" height=\"24px\"viewBox=\"0 0 24 24\"\n",
              "       width=\"24px\">\n",
              "    <path d=\"M0 0h24v24H0V0z\" fill=\"none\"/>\n",
              "    <path d=\"M18.56 5.44l.94 2.06.94-2.06 2.06-.94-2.06-.94-.94-2.06-.94 2.06-2.06.94zm-11 1L8.5 8.5l.94-2.06 2.06-.94-2.06-.94L8.5 2.5l-.94 2.06-2.06.94zm10 10l.94 2.06.94-2.06 2.06-.94-2.06-.94-.94-2.06-.94 2.06-2.06.94z\"/><path d=\"M17.41 7.96l-1.37-1.37c-.4-.4-.92-.59-1.43-.59-.52 0-1.04.2-1.43.59L10.3 9.45l-7.72 7.72c-.78.78-.78 2.05 0 2.83L4 21.41c.39.39.9.59 1.41.59.51 0 1.02-.2 1.41-.59l7.78-7.78 2.81-2.81c.8-.78.8-2.07 0-2.86zM5.41 20L4 18.59l7.72-7.72 1.47 1.35L5.41 20z\"/>\n",
              "  </svg>\n",
              "      </button>\n",
              "      \n",
              "  <style>\n",
              "    .colab-df-container {\n",
              "      display:flex;\n",
              "      flex-wrap:wrap;\n",
              "      gap: 12px;\n",
              "    }\n",
              "\n",
              "    .colab-df-convert {\n",
              "      background-color: #E8F0FE;\n",
              "      border: none;\n",
              "      border-radius: 50%;\n",
              "      cursor: pointer;\n",
              "      display: none;\n",
              "      fill: #1967D2;\n",
              "      height: 32px;\n",
              "      padding: 0 0 0 0;\n",
              "      width: 32px;\n",
              "    }\n",
              "\n",
              "    .colab-df-convert:hover {\n",
              "      background-color: #E2EBFA;\n",
              "      box-shadow: 0px 1px 2px rgba(60, 64, 67, 0.3), 0px 1px 3px 1px rgba(60, 64, 67, 0.15);\n",
              "      fill: #174EA6;\n",
              "    }\n",
              "\n",
              "    [theme=dark] .colab-df-convert {\n",
              "      background-color: #3B4455;\n",
              "      fill: #D2E3FC;\n",
              "    }\n",
              "\n",
              "    [theme=dark] .colab-df-convert:hover {\n",
              "      background-color: #434B5C;\n",
              "      box-shadow: 0px 1px 3px 1px rgba(0, 0, 0, 0.15);\n",
              "      filter: drop-shadow(0px 1px 2px rgba(0, 0, 0, 0.3));\n",
              "      fill: #FFFFFF;\n",
              "    }\n",
              "  </style>\n",
              "\n",
              "      <script>\n",
              "        const buttonEl =\n",
              "          document.querySelector('#df-be6b3467-994a-445d-adc9-f51dd9d4d58f button.colab-df-convert');\n",
              "        buttonEl.style.display =\n",
              "          google.colab.kernel.accessAllowed ? 'block' : 'none';\n",
              "\n",
              "        async function convertToInteractive(key) {\n",
              "          const element = document.querySelector('#df-be6b3467-994a-445d-adc9-f51dd9d4d58f');\n",
              "          const dataTable =\n",
              "            await google.colab.kernel.invokeFunction('convertToInteractive',\n",
              "                                                     [key], {});\n",
              "          if (!dataTable) return;\n",
              "\n",
              "          const docLinkHtml = 'Like what you see? Visit the ' +\n",
              "            '<a target=\"_blank\" href=https://colab.research.google.com/notebooks/data_table.ipynb>data table notebook</a>'\n",
              "            + ' to learn more about interactive tables.';\n",
              "          element.innerHTML = '';\n",
              "          dataTable['output_type'] = 'display_data';\n",
              "          await google.colab.output.renderOutput(dataTable, element);\n",
              "          const docLink = document.createElement('div');\n",
              "          docLink.innerHTML = docLinkHtml;\n",
              "          element.appendChild(docLink);\n",
              "        }\n",
              "      </script>\n",
              "    </div>\n",
              "  </div>\n",
              "  "
            ]
          },
          "metadata": {},
          "execution_count": 52
        }
      ]
    },
    {
      "cell_type": "markdown",
      "source": [
        "# Units for batch size =1024\n",
        "\n"
      ],
      "metadata": {
        "id": "TjaZnzZy9TMb"
      }
    },
    {
      "cell_type": "markdown",
      "source": [
        "## Unit=8"
      ],
      "metadata": {
        "id": "8ppNUGUS9Y2B"
      }
    },
    {
      "cell_type": "code",
      "source": [
        "strategy = tf.distribute.experimental.TPUStrategy(resolver)\n",
        "with strategy.scope():# Build the CNN model\n",
        "  model = Sequential()\n",
        "  # Add model layers\n",
        "\n",
        "  model.add(Conv2D(8, kernel_size=3, activation = 'relu', input_shape=(28,28,1)))\n",
        "  #model.add(Conv2D(32, kernel_size=3, activation='relu'))\n",
        "  model.add(MaxPool2D(pool_size=(2, 2), strides=None, padding='valid', data_format=None))\n",
        "  model.add(Flatten())\n",
        "  model.add(Dense(10,activation='softmax'))\n",
        "  model.compile(optimizer='adam', loss='categorical_crossentropy', metrics=['accuracy'])"
      ],
      "metadata": {
        "id": "ZIhYCtI29ct_",
        "colab": {
          "base_uri": "https://localhost:8080/"
        },
        "outputId": "c069ef3e-e713-42e6-f086-594cd37d7d30"
      },
      "execution_count": null,
      "outputs": [
        {
          "output_type": "stream",
          "name": "stderr",
          "text": [
            "WARNING:absl:`tf.distribute.experimental.TPUStrategy` is deprecated, please use  the non experimental symbol `tf.distribute.TPUStrategy` instead.\n"
          ]
        }
      ]
    },
    {
      "cell_type": "code",
      "source": [
        "#Train the model\n",
        "start = time()\n",
        "\n",
        "history = model.fit(X_train,y_train_one_hot, validation_data=(X_val,y_val_one_hot),batch_size=1024, epochs=10)\n",
        "\n",
        "end = time()"
      ],
      "metadata": {
        "colab": {
          "base_uri": "https://localhost:8080/"
        },
        "outputId": "03b747e8-df53-498a-e14e-3ea6cd750c56",
        "id": "5amHnTbr9Y2C"
      },
      "execution_count": null,
      "outputs": [
        {
          "output_type": "stream",
          "name": "stdout",
          "text": [
            "Epoch 1/10\n",
            "47/47 [==============================] - 9s 104ms/step - loss: 13.1697 - accuracy: 0.6146 - val_loss: 3.0398 - val_accuracy: 0.8330\n",
            "Epoch 2/10\n",
            "47/47 [==============================] - 2s 38ms/step - loss: 2.2383 - accuracy: 0.8654 - val_loss: 1.8140 - val_accuracy: 0.8805\n",
            "Epoch 3/10\n",
            "47/47 [==============================] - 2s 39ms/step - loss: 1.3587 - accuracy: 0.9009 - val_loss: 1.2227 - val_accuracy: 0.9070\n",
            "Epoch 4/10\n",
            "47/47 [==============================] - 2s 37ms/step - loss: 0.9508 - accuracy: 0.9186 - val_loss: 0.9457 - val_accuracy: 0.9233\n",
            "Epoch 5/10\n",
            "47/47 [==============================] - 2s 34ms/step - loss: 0.7273 - accuracy: 0.9318 - val_loss: 0.7916 - val_accuracy: 0.9297\n",
            "Epoch 6/10\n",
            "47/47 [==============================] - 2s 35ms/step - loss: 0.5844 - accuracy: 0.9395 - val_loss: 0.6992 - val_accuracy: 0.9361\n",
            "Epoch 7/10\n",
            "47/47 [==============================] - 2s 35ms/step - loss: 0.4922 - accuracy: 0.9456 - val_loss: 0.6316 - val_accuracy: 0.9400\n",
            "Epoch 8/10\n",
            "47/47 [==============================] - 2s 34ms/step - loss: 0.4178 - accuracy: 0.9513 - val_loss: 0.5972 - val_accuracy: 0.9412\n",
            "Epoch 9/10\n",
            "47/47 [==============================] - 2s 39ms/step - loss: 0.3656 - accuracy: 0.9549 - val_loss: 0.5565 - val_accuracy: 0.9447\n",
            "Epoch 10/10\n",
            "47/47 [==============================] - 2s 38ms/step - loss: 0.3186 - accuracy: 0.9582 - val_loss: 0.5011 - val_accuracy: 0.9481\n"
          ]
        }
      ]
    },
    {
      "metadata": {
        "colab": {
          "base_uri": "https://localhost:8080/"
        },
        "outputId": "1520fa8f-4bd8-4de3-893d-c8556129b48a",
        "id": "UTMUO3z69Y2C"
      },
      "cell_type": "code",
      "source": [
        "print('Total training time {} seconds'.format(end - start))"
      ],
      "execution_count": null,
      "outputs": [
        {
          "output_type": "stream",
          "name": "stdout",
          "text": [
            "Total training time 25.671193838119507 seconds\n"
          ]
        }
      ]
    },
    {
      "cell_type": "code",
      "source": [
        "test_loss, test_acc = model.evaluate(X_test,y_test_one_hot)\n",
        "\n",
        "unit_df['TPU'][unit_df['Units']==8]=round(end-start, 2)\n",
        "unit_df['TAcc'][unit_df['Units']==8]=round(test_acc, 3)\n",
        "unit_df['TLoss'][unit_df['Units']==8]=round(test_loss, 3)"
      ],
      "metadata": {
        "colab": {
          "base_uri": "https://localhost:8080/"
        },
        "outputId": "0c02daa8-9168-4d63-b132-d465c0bc689e",
        "id": "aCovEecL9Y2D"
      },
      "execution_count": null,
      "outputs": [
        {
          "output_type": "stream",
          "name": "stdout",
          "text": [
            "313/313 [==============================] - 8s 21ms/step - loss: 0.4727 - accuracy: 0.9481\n"
          ]
        },
        {
          "output_type": "stream",
          "name": "stderr",
          "text": [
            "<ipython-input-56-58a37183cd39>:3: SettingWithCopyWarning: \n",
            "A value is trying to be set on a copy of a slice from a DataFrame\n",
            "\n",
            "See the caveats in the documentation: https://pandas.pydata.org/pandas-docs/stable/user_guide/indexing.html#returning-a-view-versus-a-copy\n",
            "  unit_df['TPU'][unit_df['Units']==8]=round(end-start, 2)\n",
            "<ipython-input-56-58a37183cd39>:4: SettingWithCopyWarning: \n",
            "A value is trying to be set on a copy of a slice from a DataFrame\n",
            "\n",
            "See the caveats in the documentation: https://pandas.pydata.org/pandas-docs/stable/user_guide/indexing.html#returning-a-view-versus-a-copy\n",
            "  unit_df['TAcc'][unit_df['Units']==8]=round(test_acc, 3)\n",
            "<ipython-input-56-58a37183cd39>:5: SettingWithCopyWarning: \n",
            "A value is trying to be set on a copy of a slice from a DataFrame\n",
            "\n",
            "See the caveats in the documentation: https://pandas.pydata.org/pandas-docs/stable/user_guide/indexing.html#returning-a-view-versus-a-copy\n",
            "  unit_df['TLoss'][unit_df['Units']==8]=round(test_loss, 3)\n"
          ]
        }
      ]
    },
    {
      "cell_type": "markdown",
      "source": [
        "## Unit=16"
      ],
      "metadata": {
        "id": "aerdDosy_ZKp"
      }
    },
    {
      "cell_type": "code",
      "source": [
        "strategy = tf.distribute.experimental.TPUStrategy(resolver)\n",
        "with strategy.scope():\n",
        "# Build the CNN model\n",
        "  model = Sequential()\n",
        "  # Add model layers\n",
        "\n",
        "  model.add(Conv2D(16, kernel_size=3, activation = 'relu', input_shape=(28,28,1)))\n",
        "  model.add(MaxPool2D(pool_size=(2, 2), strides=None, padding='valid', data_format=None))\n",
        "  model.add(Flatten())\n",
        "  model.add(Dense(10,activation='softmax'))\n",
        "  model.compile(optimizer='adam', loss='categorical_crossentropy', metrics=['accuracy'])"
      ],
      "metadata": {
        "id": "t-zBR5x-_ZK3",
        "colab": {
          "base_uri": "https://localhost:8080/"
        },
        "outputId": "c8cdeef6-e136-490e-d4c0-bceb6d84c7b3"
      },
      "execution_count": null,
      "outputs": [
        {
          "output_type": "stream",
          "name": "stderr",
          "text": [
            "WARNING:absl:`tf.distribute.experimental.TPUStrategy` is deprecated, please use  the non experimental symbol `tf.distribute.TPUStrategy` instead.\n"
          ]
        }
      ]
    },
    {
      "cell_type": "code",
      "source": [
        "#Train the model\n",
        "start = time()\n",
        "\n",
        "history = model.fit(X_train,y_train_one_hot, validation_data=(X_val,y_val_one_hot),batch_size=1024, epochs=10)\n",
        "\n",
        "end = time()"
      ],
      "metadata": {
        "colab": {
          "base_uri": "https://localhost:8080/"
        },
        "outputId": "7ca42d12-382f-411c-8d94-f1d594d9d7e2",
        "id": "SBFbpUY6_ZK4"
      },
      "execution_count": null,
      "outputs": [
        {
          "output_type": "stream",
          "name": "stdout",
          "text": [
            "Epoch 1/10\n",
            "47/47 [==============================] - 8s 96ms/step - loss: 8.9737 - accuracy: 0.7282 - val_loss: 2.3894 - val_accuracy: 0.8826\n",
            "Epoch 2/10\n",
            "47/47 [==============================] - 2s 38ms/step - loss: 1.7953 - accuracy: 0.8957 - val_loss: 1.3823 - val_accuracy: 0.9073\n",
            "Epoch 3/10\n",
            "47/47 [==============================] - 2s 39ms/step - loss: 1.0492 - accuracy: 0.9179 - val_loss: 0.9205 - val_accuracy: 0.9272\n",
            "Epoch 4/10\n",
            "47/47 [==============================] - 2s 34ms/step - loss: 0.6892 - accuracy: 0.9361 - val_loss: 0.7093 - val_accuracy: 0.9367\n",
            "Epoch 5/10\n",
            "47/47 [==============================] - 2s 40ms/step - loss: 0.5050 - accuracy: 0.9474 - val_loss: 0.6102 - val_accuracy: 0.9415\n",
            "Epoch 6/10\n",
            "47/47 [==============================] - 2s 39ms/step - loss: 0.4054 - accuracy: 0.9541 - val_loss: 0.5207 - val_accuracy: 0.9483\n",
            "Epoch 7/10\n",
            "47/47 [==============================] - 2s 39ms/step - loss: 0.3432 - accuracy: 0.9578 - val_loss: 0.4741 - val_accuracy: 0.9498\n",
            "Epoch 8/10\n",
            "47/47 [==============================] - 2s 36ms/step - loss: 0.2795 - accuracy: 0.9629 - val_loss: 0.4220 - val_accuracy: 0.9544\n",
            "Epoch 9/10\n",
            "47/47 [==============================] - 2s 40ms/step - loss: 0.2291 - accuracy: 0.9679 - val_loss: 0.4016 - val_accuracy: 0.9547\n",
            "Epoch 10/10\n",
            "47/47 [==============================] - 2s 36ms/step - loss: 0.1962 - accuracy: 0.9709 - val_loss: 0.4020 - val_accuracy: 0.9551\n"
          ]
        }
      ]
    },
    {
      "metadata": {
        "colab": {
          "base_uri": "https://localhost:8080/"
        },
        "outputId": "12818681-6c8d-4b69-d8c0-8e2934ead83d",
        "id": "XsyXgKdH_ZK4"
      },
      "cell_type": "code",
      "source": [
        "print('Total training time {} seconds'.format(end - start))"
      ],
      "execution_count": null,
      "outputs": [
        {
          "output_type": "stream",
          "name": "stdout",
          "text": [
            "Total training time 26.01322078704834 seconds\n"
          ]
        }
      ]
    },
    {
      "cell_type": "code",
      "source": [
        "test_loss, test_acc = model.evaluate(X_test,y_test_one_hot)\n",
        "\n",
        "unit_df['TPU'][unit_df['Units']==16]=round(end-start, 2)\n",
        "unit_df['TAcc'][unit_df['Units']==16]=round(test_acc, 3)\n",
        "unit_df['TLoss'][unit_df['Units']==16]=round(test_loss, 3)"
      ],
      "metadata": {
        "colab": {
          "base_uri": "https://localhost:8080/"
        },
        "outputId": "674d1c70-77c0-493e-8c62-e4387e683ab1",
        "id": "h-RYgTKG_ZK4"
      },
      "execution_count": null,
      "outputs": [
        {
          "output_type": "stream",
          "name": "stdout",
          "text": [
            "313/313 [==============================] - 8s 23ms/step - loss: 0.3547 - accuracy: 0.9584\n"
          ]
        },
        {
          "output_type": "stream",
          "name": "stderr",
          "text": [
            "<ipython-input-60-941938cbfbf8>:3: SettingWithCopyWarning: \n",
            "A value is trying to be set on a copy of a slice from a DataFrame\n",
            "\n",
            "See the caveats in the documentation: https://pandas.pydata.org/pandas-docs/stable/user_guide/indexing.html#returning-a-view-versus-a-copy\n",
            "  unit_df['TPU'][unit_df['Units']==16]=round(end-start, 2)\n",
            "<ipython-input-60-941938cbfbf8>:4: SettingWithCopyWarning: \n",
            "A value is trying to be set on a copy of a slice from a DataFrame\n",
            "\n",
            "See the caveats in the documentation: https://pandas.pydata.org/pandas-docs/stable/user_guide/indexing.html#returning-a-view-versus-a-copy\n",
            "  unit_df['TAcc'][unit_df['Units']==16]=round(test_acc, 3)\n",
            "<ipython-input-60-941938cbfbf8>:5: SettingWithCopyWarning: \n",
            "A value is trying to be set on a copy of a slice from a DataFrame\n",
            "\n",
            "See the caveats in the documentation: https://pandas.pydata.org/pandas-docs/stable/user_guide/indexing.html#returning-a-view-versus-a-copy\n",
            "  unit_df['TLoss'][unit_df['Units']==16]=round(test_loss, 3)\n"
          ]
        }
      ]
    },
    {
      "cell_type": "markdown",
      "source": [
        "## Unit=32"
      ],
      "metadata": {
        "id": "HJw1r5pZ_lWl"
      }
    },
    {
      "cell_type": "code",
      "source": [
        "strategy = tf.distribute.experimental.TPUStrategy(resolver)\n",
        "with strategy.scope():\n",
        "  # Build the CNN model\n",
        "  model = Sequential()\n",
        "  # Add model layers\n",
        "\n",
        "  model.add(Conv2D(32, kernel_size=3, activation = 'relu', input_shape=(28,28,1)))\n",
        "  model.add(MaxPool2D(pool_size=(2, 2), strides=None, padding='valid', data_format=None))\n",
        "  model.add(Flatten())\n",
        "  model.add(Dense(10,activation='softmax'))\n",
        "  model.compile(optimizer='adam', loss='categorical_crossentropy', metrics=['accuracy'])"
      ],
      "metadata": {
        "id": "aD1RwcQe_lWm",
        "colab": {
          "base_uri": "https://localhost:8080/"
        },
        "outputId": "916a9edf-a009-4dd4-b567-598a737a9c3f"
      },
      "execution_count": null,
      "outputs": [
        {
          "output_type": "stream",
          "name": "stderr",
          "text": [
            "WARNING:absl:`tf.distribute.experimental.TPUStrategy` is deprecated, please use  the non experimental symbol `tf.distribute.TPUStrategy` instead.\n"
          ]
        }
      ]
    },
    {
      "cell_type": "code",
      "source": [
        "#Train the model\n",
        "start = time()\n",
        "\n",
        "history = model.fit(X_train,y_train_one_hot, validation_data=(X_val,y_val_one_hot),batch_size=1024, epochs=10)\n",
        "\n",
        "end = time()"
      ],
      "metadata": {
        "colab": {
          "base_uri": "https://localhost:8080/"
        },
        "outputId": "aaa2bfb2-c0d6-4a1d-f2a6-a274182a3681",
        "id": "fNEwr4KV_lWm"
      },
      "execution_count": null,
      "outputs": [
        {
          "output_type": "stream",
          "name": "stdout",
          "text": [
            "Epoch 1/10\n",
            "47/47 [==============================] - 8s 84ms/step - loss: 6.5897 - accuracy: 0.7640 - val_loss: 1.3743 - val_accuracy: 0.9065\n",
            "Epoch 2/10\n",
            "47/47 [==============================] - 2s 35ms/step - loss: 0.8781 - accuracy: 0.9275 - val_loss: 0.6265 - val_accuracy: 0.9385\n",
            "Epoch 3/10\n",
            "47/47 [==============================] - 2s 38ms/step - loss: 0.4225 - accuracy: 0.9502 - val_loss: 0.4052 - val_accuracy: 0.9490\n",
            "Epoch 4/10\n",
            "47/47 [==============================] - 2s 36ms/step - loss: 0.2516 - accuracy: 0.9630 - val_loss: 0.3119 - val_accuracy: 0.9572\n",
            "Epoch 5/10\n",
            "47/47 [==============================] - 2s 39ms/step - loss: 0.1791 - accuracy: 0.9685 - val_loss: 0.2704 - val_accuracy: 0.9615\n",
            "Epoch 6/10\n",
            "47/47 [==============================] - 2s 41ms/step - loss: 0.1288 - accuracy: 0.9751 - val_loss: 0.2488 - val_accuracy: 0.9613\n",
            "Epoch 7/10\n",
            "47/47 [==============================] - 2s 40ms/step - loss: 0.0974 - accuracy: 0.9792 - val_loss: 0.2216 - val_accuracy: 0.9647\n",
            "Epoch 8/10\n",
            "47/47 [==============================] - 2s 40ms/step - loss: 0.0796 - accuracy: 0.9818 - val_loss: 0.2146 - val_accuracy: 0.9667\n",
            "Epoch 9/10\n",
            "47/47 [==============================] - 2s 38ms/step - loss: 0.0625 - accuracy: 0.9851 - val_loss: 0.2058 - val_accuracy: 0.9676\n",
            "Epoch 10/10\n",
            "47/47 [==============================] - 2s 39ms/step - loss: 0.0495 - accuracy: 0.9870 - val_loss: 0.1948 - val_accuracy: 0.9700\n"
          ]
        }
      ]
    },
    {
      "metadata": {
        "colab": {
          "base_uri": "https://localhost:8080/"
        },
        "outputId": "3028bf75-02a6-464b-8a02-825024db1f00",
        "id": "EnflNmRK_lWm"
      },
      "cell_type": "code",
      "source": [
        "print('Total training time {} seconds'.format(end - start))"
      ],
      "execution_count": null,
      "outputs": [
        {
          "output_type": "stream",
          "name": "stdout",
          "text": [
            "Total training time 25.70589017868042 seconds\n"
          ]
        }
      ]
    },
    {
      "cell_type": "code",
      "source": [
        "test_loss, test_acc = model.evaluate(X_test,y_test_one_hot)\n",
        "\n",
        "unit_df['TPU'][unit_df['Units']==32]=round(end-start, 2)\n",
        "unit_df['TAcc'][unit_df['Units']==32]=round(test_acc, 3)\n",
        "unit_df['TLoss'][unit_df['Units']==32]=round(test_loss, 3)"
      ],
      "metadata": {
        "colab": {
          "base_uri": "https://localhost:8080/"
        },
        "outputId": "dff1b86d-964d-4524-851b-659034d1fa91",
        "id": "XBcHiSPO_lWm"
      },
      "execution_count": null,
      "outputs": [
        {
          "output_type": "stream",
          "name": "stdout",
          "text": [
            "313/313 [==============================] - 8s 21ms/step - loss: 0.2021 - accuracy: 0.9692\n"
          ]
        },
        {
          "output_type": "stream",
          "name": "stderr",
          "text": [
            "<ipython-input-64-b60e128e49e4>:3: SettingWithCopyWarning: \n",
            "A value is trying to be set on a copy of a slice from a DataFrame\n",
            "\n",
            "See the caveats in the documentation: https://pandas.pydata.org/pandas-docs/stable/user_guide/indexing.html#returning-a-view-versus-a-copy\n",
            "  unit_df['TPU'][unit_df['Units']==32]=round(end-start, 2)\n",
            "<ipython-input-64-b60e128e49e4>:4: SettingWithCopyWarning: \n",
            "A value is trying to be set on a copy of a slice from a DataFrame\n",
            "\n",
            "See the caveats in the documentation: https://pandas.pydata.org/pandas-docs/stable/user_guide/indexing.html#returning-a-view-versus-a-copy\n",
            "  unit_df['TAcc'][unit_df['Units']==32]=round(test_acc, 3)\n",
            "<ipython-input-64-b60e128e49e4>:5: SettingWithCopyWarning: \n",
            "A value is trying to be set on a copy of a slice from a DataFrame\n",
            "\n",
            "See the caveats in the documentation: https://pandas.pydata.org/pandas-docs/stable/user_guide/indexing.html#returning-a-view-versus-a-copy\n",
            "  unit_df['TLoss'][unit_df['Units']==32]=round(test_loss, 3)\n"
          ]
        }
      ]
    },
    {
      "cell_type": "markdown",
      "source": [
        "## Unit=64"
      ],
      "metadata": {
        "id": "yAwcm_Mm_u2E"
      }
    },
    {
      "cell_type": "code",
      "source": [
        "strategy = tf.distribute.experimental.TPUStrategy(resolver)\n",
        "with strategy.scope():\n",
        "  # Build the CNN model\n",
        "  model = Sequential()\n",
        "  # Add model layers\n",
        "\n",
        "  model.add(Conv2D(64, kernel_size=3, activation = 'relu', input_shape=(28,28,1)))\n",
        "  #model.add(Conv2D(32, kernel_size=3, activation='relu'))\n",
        "  model.add(MaxPool2D(pool_size=(2, 2), strides=None, padding='valid', data_format=None))\n",
        "  model.add(Flatten())\n",
        "  model.add(Dense(10,activation='softmax'))\n",
        "  model.compile(optimizer='adam', loss='categorical_crossentropy', metrics=['accuracy'])"
      ],
      "metadata": {
        "id": "j_oC7c-r_u2F",
        "colab": {
          "base_uri": "https://localhost:8080/"
        },
        "outputId": "ca1f4c0e-8d1f-42e6-afbb-4c62b1b90827"
      },
      "execution_count": null,
      "outputs": [
        {
          "output_type": "stream",
          "name": "stderr",
          "text": [
            "WARNING:absl:`tf.distribute.experimental.TPUStrategy` is deprecated, please use  the non experimental symbol `tf.distribute.TPUStrategy` instead.\n"
          ]
        }
      ]
    },
    {
      "cell_type": "code",
      "source": [
        "#Train the model\n",
        "start = time()\n",
        "\n",
        "history = model.fit(X_train,y_train_one_hot, validation_data=(X_val,y_val_one_hot),batch_size=1024, epochs=10)\n",
        "\n",
        "end = time()"
      ],
      "metadata": {
        "colab": {
          "base_uri": "https://localhost:8080/"
        },
        "outputId": "bc003a7e-2c5b-4fa3-fdaf-732888bf407c",
        "id": "R_6UAE15_u2F"
      },
      "execution_count": null,
      "outputs": [
        {
          "output_type": "stream",
          "name": "stdout",
          "text": [
            "Epoch 1/10\n",
            "47/47 [==============================] - 7s 89ms/step - loss: 6.4186 - accuracy: 0.7788 - val_loss: 1.0843 - val_accuracy: 0.9268\n",
            "Epoch 2/10\n",
            "47/47 [==============================] - 2s 36ms/step - loss: 0.6417 - accuracy: 0.9436 - val_loss: 0.3791 - val_accuracy: 0.9597\n",
            "Epoch 3/10\n",
            "47/47 [==============================] - 2s 39ms/step - loss: 0.2516 - accuracy: 0.9665 - val_loss: 0.2486 - val_accuracy: 0.9681\n",
            "Epoch 4/10\n",
            "47/47 [==============================] - 2s 40ms/step - loss: 0.1478 - accuracy: 0.9745 - val_loss: 0.2087 - val_accuracy: 0.9698\n",
            "Epoch 5/10\n",
            "47/47 [==============================] - 2s 48ms/step - loss: 0.0991 - accuracy: 0.9797 - val_loss: 0.1905 - val_accuracy: 0.9690\n",
            "Epoch 6/10\n",
            "47/47 [==============================] - 2s 37ms/step - loss: 0.0711 - accuracy: 0.9843 - val_loss: 0.1677 - val_accuracy: 0.9722\n",
            "Epoch 7/10\n",
            "47/47 [==============================] - 2s 41ms/step - loss: 0.0486 - accuracy: 0.9873 - val_loss: 0.1671 - val_accuracy: 0.9713\n",
            "Epoch 8/10\n",
            "47/47 [==============================] - 2s 38ms/step - loss: 0.0342 - accuracy: 0.9902 - val_loss: 0.1534 - val_accuracy: 0.9732\n",
            "Epoch 9/10\n",
            "47/47 [==============================] - 2s 37ms/step - loss: 0.0280 - accuracy: 0.9916 - val_loss: 0.1505 - val_accuracy: 0.9747\n",
            "Epoch 10/10\n",
            "47/47 [==============================] - 2s 35ms/step - loss: 0.0210 - accuracy: 0.9936 - val_loss: 0.1468 - val_accuracy: 0.9749\n"
          ]
        }
      ]
    },
    {
      "metadata": {
        "colab": {
          "base_uri": "https://localhost:8080/"
        },
        "outputId": "a89024ea-8237-43ff-a74d-ca15e6def0bc",
        "id": "1IR7sCYs_u2F"
      },
      "cell_type": "code",
      "source": [
        "print('Total training time {} seconds'.format(end - start))"
      ],
      "execution_count": null,
      "outputs": [
        {
          "output_type": "stream",
          "name": "stdout",
          "text": [
            "Total training time 25.43334412574768 seconds\n"
          ]
        }
      ]
    },
    {
      "cell_type": "code",
      "source": [
        "test_loss, test_acc = model.evaluate(X_test,y_test_one_hot)\n",
        "\n",
        "unit_df['TPU'][unit_df['Units']==64]=round(end-start, 2)\n",
        "unit_df['TAcc'][unit_df['Units']==64]=round(test_acc, 3)\n",
        "unit_df['TLoss'][unit_df['Units']==64]=round(test_loss, 3)"
      ],
      "metadata": {
        "colab": {
          "base_uri": "https://localhost:8080/"
        },
        "outputId": "e95be38a-ecdb-4d49-a847-45d70f190d9e",
        "id": "IY5rMhUW_u2G"
      },
      "execution_count": null,
      "outputs": [
        {
          "output_type": "stream",
          "name": "stdout",
          "text": [
            "313/313 [==============================] - 8s 22ms/step - loss: 0.1351 - accuracy: 0.9750\n"
          ]
        },
        {
          "output_type": "stream",
          "name": "stderr",
          "text": [
            "<ipython-input-68-8de172588881>:3: SettingWithCopyWarning: \n",
            "A value is trying to be set on a copy of a slice from a DataFrame\n",
            "\n",
            "See the caveats in the documentation: https://pandas.pydata.org/pandas-docs/stable/user_guide/indexing.html#returning-a-view-versus-a-copy\n",
            "  unit_df['TPU'][unit_df['Units']==64]=round(end-start, 2)\n",
            "<ipython-input-68-8de172588881>:4: SettingWithCopyWarning: \n",
            "A value is trying to be set on a copy of a slice from a DataFrame\n",
            "\n",
            "See the caveats in the documentation: https://pandas.pydata.org/pandas-docs/stable/user_guide/indexing.html#returning-a-view-versus-a-copy\n",
            "  unit_df['TAcc'][unit_df['Units']==64]=round(test_acc, 3)\n",
            "<ipython-input-68-8de172588881>:5: SettingWithCopyWarning: \n",
            "A value is trying to be set on a copy of a slice from a DataFrame\n",
            "\n",
            "See the caveats in the documentation: https://pandas.pydata.org/pandas-docs/stable/user_guide/indexing.html#returning-a-view-versus-a-copy\n",
            "  unit_df['TLoss'][unit_df['Units']==64]=round(test_loss, 3)\n"
          ]
        }
      ]
    },
    {
      "cell_type": "markdown",
      "source": [
        "## Unit=128"
      ],
      "metadata": {
        "id": "3qkmmbrc_yja"
      }
    },
    {
      "cell_type": "code",
      "source": [
        "strategy = tf.distribute.experimental.TPUStrategy(resolver)\n",
        "with strategy.scope():\n",
        "  # Build the CNN model\n",
        "  model = Sequential()\n",
        "  # Add model layers\n",
        "\n",
        "  model.add(Conv2D(128, kernel_size=3, activation = 'relu', input_shape=(28,28,1)))\n",
        "  #model.add(Conv2D(32, kernel_size=3, activation='relu'))\n",
        "  model.add(MaxPool2D(pool_size=(2, 2), strides=None, padding='valid', data_format=None))\n",
        "  model.add(Flatten())\n",
        "  model.add(Dense(10,activation='softmax'))\n",
        "  model.compile(optimizer='adam', loss='categorical_crossentropy', metrics=['accuracy'])"
      ],
      "metadata": {
        "id": "8EpJ5uiK_yja",
        "colab": {
          "base_uri": "https://localhost:8080/"
        },
        "outputId": "9351100d-a37c-43e7-af86-9f26aa818238"
      },
      "execution_count": null,
      "outputs": [
        {
          "output_type": "stream",
          "name": "stderr",
          "text": [
            "WARNING:absl:`tf.distribute.experimental.TPUStrategy` is deprecated, please use  the non experimental symbol `tf.distribute.TPUStrategy` instead.\n"
          ]
        }
      ]
    },
    {
      "cell_type": "code",
      "source": [
        "#Train the model\n",
        "start = time()\n",
        "\n",
        "history = model.fit(X_train,y_train_one_hot, validation_data=(X_val,y_val_one_hot),batch_size=1024, epochs=10)\n",
        "\n",
        "end = time()"
      ],
      "metadata": {
        "colab": {
          "base_uri": "https://localhost:8080/"
        },
        "outputId": "d36db2b4-9b9c-4690-8952-4feb9c57dd50",
        "id": "qgCgKInt_yjb"
      },
      "execution_count": null,
      "outputs": [
        {
          "output_type": "stream",
          "name": "stdout",
          "text": [
            "Epoch 1/10\n",
            "47/47 [==============================] - 9s 100ms/step - loss: 16.1539 - accuracy: 0.7195 - val_loss: 1.5001 - val_accuracy: 0.9086\n",
            "Epoch 2/10\n",
            "47/47 [==============================] - 2s 41ms/step - loss: 0.7869 - accuracy: 0.9368 - val_loss: 0.3860 - val_accuracy: 0.9545\n",
            "Epoch 3/10\n",
            "47/47 [==============================] - 2s 36ms/step - loss: 0.2318 - accuracy: 0.9672 - val_loss: 0.2089 - val_accuracy: 0.9684\n",
            "Epoch 4/10\n",
            "47/47 [==============================] - 2s 37ms/step - loss: 0.1144 - accuracy: 0.9781 - val_loss: 0.1661 - val_accuracy: 0.9722\n",
            "Epoch 5/10\n",
            "47/47 [==============================] - 2s 37ms/step - loss: 0.0700 - accuracy: 0.9840 - val_loss: 0.1488 - val_accuracy: 0.9737\n",
            "Epoch 6/10\n",
            "47/47 [==============================] - 2s 43ms/step - loss: 0.0459 - accuracy: 0.9882 - val_loss: 0.1333 - val_accuracy: 0.9747\n",
            "Epoch 7/10\n",
            "47/47 [==============================] - 2s 39ms/step - loss: 0.0330 - accuracy: 0.9905 - val_loss: 0.1352 - val_accuracy: 0.9751\n",
            "Epoch 8/10\n",
            "47/47 [==============================] - 2s 43ms/step - loss: 0.0230 - accuracy: 0.9931 - val_loss: 0.1302 - val_accuracy: 0.9754\n",
            "Epoch 9/10\n",
            "47/47 [==============================] - 2s 43ms/step - loss: 0.0167 - accuracy: 0.9952 - val_loss: 0.1345 - val_accuracy: 0.9755\n",
            "Epoch 10/10\n",
            "47/47 [==============================] - 2s 38ms/step - loss: 0.0126 - accuracy: 0.9962 - val_loss: 0.1254 - val_accuracy: 0.9765\n"
          ]
        }
      ]
    },
    {
      "metadata": {
        "colab": {
          "base_uri": "https://localhost:8080/"
        },
        "outputId": "312f9394-ee2d-4b1d-ae2c-464405a86665",
        "id": "C1mW9Lji_yjb"
      },
      "cell_type": "code",
      "source": [
        "print('Total training time {} seconds'.format(end - start))"
      ],
      "execution_count": null,
      "outputs": [
        {
          "output_type": "stream",
          "name": "stdout",
          "text": [
            "Total training time 27.003647804260254 seconds\n"
          ]
        }
      ]
    },
    {
      "cell_type": "code",
      "source": [
        "test_loss, test_acc = model.evaluate(X_test,y_test_one_hot)\n",
        "\n",
        "unit_df['TPU'][unit_df['Units']==128]=round(end-start, 2)\n",
        "unit_df['TAcc'][unit_df['Units']==128]=round(test_acc, 3)\n",
        "unit_df['TLoss'][unit_df['Units']==128]=round(test_loss, 3)"
      ],
      "metadata": {
        "colab": {
          "base_uri": "https://localhost:8080/"
        },
        "outputId": "a4038ab8-1000-4e44-de41-6361cd65ad92",
        "id": "BavchSee_yjb"
      },
      "execution_count": null,
      "outputs": [
        {
          "output_type": "stream",
          "name": "stdout",
          "text": [
            "313/313 [==============================] - 8s 21ms/step - loss: 0.1236 - accuracy: 0.9764\n"
          ]
        },
        {
          "output_type": "stream",
          "name": "stderr",
          "text": [
            "<ipython-input-72-f6e4827d26ff>:3: SettingWithCopyWarning: \n",
            "A value is trying to be set on a copy of a slice from a DataFrame\n",
            "\n",
            "See the caveats in the documentation: https://pandas.pydata.org/pandas-docs/stable/user_guide/indexing.html#returning-a-view-versus-a-copy\n",
            "  unit_df['TPU'][unit_df['Units']==128]=round(end-start, 2)\n",
            "<ipython-input-72-f6e4827d26ff>:4: SettingWithCopyWarning: \n",
            "A value is trying to be set on a copy of a slice from a DataFrame\n",
            "\n",
            "See the caveats in the documentation: https://pandas.pydata.org/pandas-docs/stable/user_guide/indexing.html#returning-a-view-versus-a-copy\n",
            "  unit_df['TAcc'][unit_df['Units']==128]=round(test_acc, 3)\n",
            "<ipython-input-72-f6e4827d26ff>:5: SettingWithCopyWarning: \n",
            "A value is trying to be set on a copy of a slice from a DataFrame\n",
            "\n",
            "See the caveats in the documentation: https://pandas.pydata.org/pandas-docs/stable/user_guide/indexing.html#returning-a-view-versus-a-copy\n",
            "  unit_df['TLoss'][unit_df['Units']==128]=round(test_loss, 3)\n"
          ]
        }
      ]
    },
    {
      "cell_type": "markdown",
      "source": [
        "## Unit=256"
      ],
      "metadata": {
        "id": "EowMtyC8_1cc"
      }
    },
    {
      "cell_type": "code",
      "source": [
        "strategy = tf.distribute.experimental.TPUStrategy(resolver)\n",
        "with strategy.scope():\n",
        "  # Build the CNN model\n",
        "  model = Sequential()\n",
        "  # Add model layers\n",
        "\n",
        "  model.add(Conv2D(256, kernel_size=3, activation = 'relu', input_shape=(28,28,1)))\n",
        "  #model.add(Conv2D(32, kernel_size=3, activation='relu'))\n",
        "  model.add(MaxPool2D(pool_size=(2, 2), strides=None, padding='valid', data_format=None))\n",
        "  model.add(Flatten())\n",
        "  model.add(Dense(10,activation='softmax'))\n",
        "  model.compile(optimizer='adam', loss='categorical_crossentropy', metrics=['accuracy'])"
      ],
      "metadata": {
        "id": "mXEfR6TU_1cd",
        "colab": {
          "base_uri": "https://localhost:8080/"
        },
        "outputId": "bed9ab55-7877-4a26-b724-55af465db53b"
      },
      "execution_count": null,
      "outputs": [
        {
          "output_type": "stream",
          "name": "stderr",
          "text": [
            "WARNING:absl:`tf.distribute.experimental.TPUStrategy` is deprecated, please use  the non experimental symbol `tf.distribute.TPUStrategy` instead.\n"
          ]
        }
      ]
    },
    {
      "cell_type": "code",
      "source": [
        "#Train the model\n",
        "start = time()\n",
        "\n",
        "history = model.fit(X_train,y_train_one_hot, validation_data=(X_val,y_val_one_hot),batch_size=1024, epochs=10)\n",
        "\n",
        "end = time()"
      ],
      "metadata": {
        "colab": {
          "base_uri": "https://localhost:8080/"
        },
        "outputId": "8e85e763-d581-4243-bc4c-7509673889c7",
        "id": "uw4HIdeF_1cd"
      },
      "execution_count": null,
      "outputs": [
        {
          "output_type": "stream",
          "name": "stdout",
          "text": [
            "Epoch 1/10\n",
            "47/47 [==============================] - 9s 106ms/step - loss: 12.6529 - accuracy: 0.7590 - val_loss: 0.7484 - val_accuracy: 0.9331\n",
            "Epoch 2/10\n",
            "47/47 [==============================] - 2s 42ms/step - loss: 0.3810 - accuracy: 0.9522 - val_loss: 0.1826 - val_accuracy: 0.9673\n",
            "Epoch 3/10\n",
            "47/47 [==============================] - 2s 38ms/step - loss: 0.1192 - accuracy: 0.9763 - val_loss: 0.1270 - val_accuracy: 0.9731\n",
            "Epoch 4/10\n",
            "47/47 [==============================] - 2s 40ms/step - loss: 0.0586 - accuracy: 0.9854 - val_loss: 0.1056 - val_accuracy: 0.9766\n",
            "Epoch 5/10\n",
            "47/47 [==============================] - 2s 40ms/step - loss: 0.0367 - accuracy: 0.9891 - val_loss: 0.0933 - val_accuracy: 0.9779\n",
            "Epoch 6/10\n",
            "47/47 [==============================] - 2s 40ms/step - loss: 0.0213 - accuracy: 0.9937 - val_loss: 0.0892 - val_accuracy: 0.9795\n",
            "Epoch 7/10\n",
            "47/47 [==============================] - 2s 39ms/step - loss: 0.0135 - accuracy: 0.9959 - val_loss: 0.0852 - val_accuracy: 0.9797\n",
            "Epoch 8/10\n",
            "47/47 [==============================] - 2s 39ms/step - loss: 0.0090 - accuracy: 0.9977 - val_loss: 0.0855 - val_accuracy: 0.9804\n",
            "Epoch 9/10\n",
            "47/47 [==============================] - 2s 43ms/step - loss: 0.0063 - accuracy: 0.9987 - val_loss: 0.0848 - val_accuracy: 0.9810\n",
            "Epoch 10/10\n",
            "47/47 [==============================] - 2s 37ms/step - loss: 0.0038 - accuracy: 0.9996 - val_loss: 0.0872 - val_accuracy: 0.9807\n"
          ]
        }
      ]
    },
    {
      "metadata": {
        "colab": {
          "base_uri": "https://localhost:8080/"
        },
        "outputId": "fa893129-8343-467b-ebc6-ad91d9a53519",
        "id": "9cRaLgAh_1cd"
      },
      "cell_type": "code",
      "source": [
        "print('Total training time {} seconds'.format(end - start))"
      ],
      "execution_count": null,
      "outputs": [
        {
          "output_type": "stream",
          "name": "stdout",
          "text": [
            "Total training time 27.646159648895264 seconds\n"
          ]
        }
      ]
    },
    {
      "cell_type": "code",
      "source": [
        "test_loss, test_acc = model.evaluate(X_test,y_test_one_hot)\n",
        "\n",
        "unit_df['TPU'][unit_df['Units']==256]=round(end-start, 2)\n",
        "unit_df['TAcc'][unit_df['Units']==256]=round(test_acc, 3)\n",
        "unit_df['TLoss'][unit_df['Units']==256]=round(test_loss, 3)"
      ],
      "metadata": {
        "colab": {
          "base_uri": "https://localhost:8080/"
        },
        "outputId": "8afc04db-0e41-45e8-acd0-ffbb0193ce2f",
        "id": "V_kRkrOK_1cd"
      },
      "execution_count": null,
      "outputs": [
        {
          "output_type": "stream",
          "name": "stdout",
          "text": [
            "313/313 [==============================] - 8s 22ms/step - loss: 0.0935 - accuracy: 0.9808\n"
          ]
        },
        {
          "output_type": "stream",
          "name": "stderr",
          "text": [
            "<ipython-input-76-b87e58608435>:3: SettingWithCopyWarning: \n",
            "A value is trying to be set on a copy of a slice from a DataFrame\n",
            "\n",
            "See the caveats in the documentation: https://pandas.pydata.org/pandas-docs/stable/user_guide/indexing.html#returning-a-view-versus-a-copy\n",
            "  unit_df['TPU'][unit_df['Units']==256]=round(end-start, 2)\n",
            "<ipython-input-76-b87e58608435>:4: SettingWithCopyWarning: \n",
            "A value is trying to be set on a copy of a slice from a DataFrame\n",
            "\n",
            "See the caveats in the documentation: https://pandas.pydata.org/pandas-docs/stable/user_guide/indexing.html#returning-a-view-versus-a-copy\n",
            "  unit_df['TAcc'][unit_df['Units']==256]=round(test_acc, 3)\n",
            "<ipython-input-76-b87e58608435>:5: SettingWithCopyWarning: \n",
            "A value is trying to be set on a copy of a slice from a DataFrame\n",
            "\n",
            "See the caveats in the documentation: https://pandas.pydata.org/pandas-docs/stable/user_guide/indexing.html#returning-a-view-versus-a-copy\n",
            "  unit_df['TLoss'][unit_df['Units']==256]=round(test_loss, 3)\n"
          ]
        }
      ]
    },
    {
      "cell_type": "markdown",
      "source": [
        "# Layers"
      ],
      "metadata": {
        "id": "q-ET0axxBAVa"
      }
    },
    {
      "cell_type": "markdown",
      "source": [
        "## conv layer = 3"
      ],
      "metadata": {
        "id": "VCrtSGFTBJao"
      }
    },
    {
      "cell_type": "code",
      "source": [
        "strategy = tf.distribute.experimental.TPUStrategy(resolver)\n",
        "with strategy.scope():\n",
        "  # Build the CNN model\n",
        "  model = Sequential()\n",
        "  # Add model layers\n",
        "\n",
        "  model.add(Conv2D(128, kernel_size=3, activation = 'relu', input_shape=(28,28,1)))\n",
        "  model.add(Conv2D(64, kernel_size=3, activation = 'relu', input_shape=(28,28,1)))\n",
        "  model.add(Conv2D(32, kernel_size=3, activation='relu'))\n",
        "  model.add(MaxPool2D(pool_size=(2, 2), strides=None, padding='valid', data_format=None))\n",
        "  model.add(Flatten())\n",
        "  model.add(Dense(10,activation='softmax'))\n",
        "  model.compile(optimizer='adam', loss='categorical_crossentropy', metrics=['accuracy'])"
      ],
      "metadata": {
        "id": "wO4_65zBBJao",
        "colab": {
          "base_uri": "https://localhost:8080/"
        },
        "outputId": "90f24b01-d486-4ce9-c1a3-74505be4981c"
      },
      "execution_count": null,
      "outputs": [
        {
          "output_type": "stream",
          "name": "stderr",
          "text": [
            "WARNING:absl:`tf.distribute.experimental.TPUStrategy` is deprecated, please use  the non experimental symbol `tf.distribute.TPUStrategy` instead.\n"
          ]
        }
      ]
    },
    {
      "cell_type": "code",
      "source": [
        "#Train the model\n",
        "start = time()\n",
        "\n",
        "history = model.fit(X_train,y_train_one_hot, validation_data=(X_val,y_val_one_hot),batch_size=1024, epochs=10)\n",
        "\n",
        "end = time()"
      ],
      "metadata": {
        "colab": {
          "base_uri": "https://localhost:8080/"
        },
        "outputId": "1a89391d-8230-46e6-b513-180c3b620565",
        "id": "xWhNQ1zbBJao"
      },
      "execution_count": null,
      "outputs": [
        {
          "output_type": "stream",
          "name": "stdout",
          "text": [
            "Epoch 1/10\n",
            "47/47 [==============================] - 13s 144ms/step - loss: 2.0452 - accuracy: 0.6993 - val_loss: 0.2714 - val_accuracy: 0.9167\n",
            "Epoch 2/10\n",
            "47/47 [==============================] - 2s 40ms/step - loss: 0.1862 - accuracy: 0.9428 - val_loss: 0.1304 - val_accuracy: 0.9600\n",
            "Epoch 3/10\n",
            "47/47 [==============================] - 2s 40ms/step - loss: 0.1046 - accuracy: 0.9680 - val_loss: 0.0933 - val_accuracy: 0.9725\n",
            "Epoch 4/10\n",
            "47/47 [==============================] - 2s 41ms/step - loss: 0.0774 - accuracy: 0.9761 - val_loss: 0.0748 - val_accuracy: 0.9759\n",
            "Epoch 5/10\n",
            "47/47 [==============================] - 2s 43ms/step - loss: 0.0604 - accuracy: 0.9818 - val_loss: 0.0642 - val_accuracy: 0.9798\n",
            "Epoch 6/10\n",
            "47/47 [==============================] - 2s 40ms/step - loss: 0.0491 - accuracy: 0.9850 - val_loss: 0.0608 - val_accuracy: 0.9827\n",
            "Epoch 7/10\n",
            "47/47 [==============================] - 2s 42ms/step - loss: 0.0417 - accuracy: 0.9871 - val_loss: 0.0623 - val_accuracy: 0.9802\n",
            "Epoch 8/10\n",
            "47/47 [==============================] - 2s 42ms/step - loss: 0.0360 - accuracy: 0.9891 - val_loss: 0.0540 - val_accuracy: 0.9852\n",
            "Epoch 9/10\n",
            "47/47 [==============================] - 2s 45ms/step - loss: 0.0303 - accuracy: 0.9903 - val_loss: 0.0569 - val_accuracy: 0.9847\n",
            "Epoch 10/10\n",
            "47/47 [==============================] - 2s 45ms/step - loss: 0.0261 - accuracy: 0.9917 - val_loss: 0.0548 - val_accuracy: 0.9834\n"
          ]
        }
      ]
    },
    {
      "metadata": {
        "colab": {
          "base_uri": "https://localhost:8080/"
        },
        "outputId": "28b63a1b-0fc8-455b-fa96-1fd9ca9344e6",
        "id": "roezL4LQBJap"
      },
      "cell_type": "code",
      "source": [
        "print('Total training time {} seconds'.format(end - start))"
      ],
      "execution_count": null,
      "outputs": [
        {
          "output_type": "stream",
          "name": "stdout",
          "text": [
            "Total training time 31.779097080230713 seconds\n"
          ]
        }
      ]
    },
    {
      "cell_type": "code",
      "source": [
        "test_loss, test_acc = model.evaluate(X_test,y_test_one_hot)\n",
        "\n",
        "layer_df['TPU'][layer_df['Layers']==3]=round(end-start, 2)\n",
        "layer_df['TAcc'][layer_df['Layers']==3]=round(test_acc, 3)\n",
        "layer_df['TLoss'][layer_df['Layers']==3]=round(test_loss, 3)"
      ],
      "metadata": {
        "colab": {
          "base_uri": "https://localhost:8080/"
        },
        "outputId": "239919aa-166f-457f-96ca-68e5a5f59b6d",
        "id": "6cXkdVmeBJap"
      },
      "execution_count": null,
      "outputs": [
        {
          "output_type": "stream",
          "name": "stdout",
          "text": [
            "313/313 [==============================] - 10s 24ms/step - loss: 0.0523 - accuracy: 0.9857\n"
          ]
        },
        {
          "output_type": "stream",
          "name": "stderr",
          "text": [
            "<ipython-input-80-585d8741a851>:3: SettingWithCopyWarning: \n",
            "A value is trying to be set on a copy of a slice from a DataFrame\n",
            "\n",
            "See the caveats in the documentation: https://pandas.pydata.org/pandas-docs/stable/user_guide/indexing.html#returning-a-view-versus-a-copy\n",
            "  layer_df['TPU'][layer_df['Layers']==3]=round(end-start, 2)\n",
            "<ipython-input-80-585d8741a851>:4: SettingWithCopyWarning: \n",
            "A value is trying to be set on a copy of a slice from a DataFrame\n",
            "\n",
            "See the caveats in the documentation: https://pandas.pydata.org/pandas-docs/stable/user_guide/indexing.html#returning-a-view-versus-a-copy\n",
            "  layer_df['TAcc'][layer_df['Layers']==3]=round(test_acc, 3)\n",
            "<ipython-input-80-585d8741a851>:5: SettingWithCopyWarning: \n",
            "A value is trying to be set on a copy of a slice from a DataFrame\n",
            "\n",
            "See the caveats in the documentation: https://pandas.pydata.org/pandas-docs/stable/user_guide/indexing.html#returning-a-view-versus-a-copy\n",
            "  layer_df['TLoss'][layer_df['Layers']==3]=round(test_loss, 3)\n"
          ]
        }
      ]
    },
    {
      "cell_type": "markdown",
      "source": [
        "## conv layer = 4"
      ],
      "metadata": {
        "id": "DDTI5DqhBZDw"
      }
    },
    {
      "cell_type": "code",
      "source": [
        "strategy = tf.distribute.experimental.TPUStrategy(resolver)\n",
        "with strategy.scope():\n",
        "  # Build the CNN model\n",
        "  model = Sequential()\n",
        "  # Add model layers\n",
        "\n",
        "  model.add(Conv2D(256, kernel_size=3, activation = 'relu', input_shape=(28,28,1)))\n",
        "  model.add(Conv2D(128, kernel_size=3, activation = 'relu', input_shape=(28,28,1)))\n",
        "  model.add(Conv2D(64, kernel_size=3, activation = 'relu', input_shape=(28,28,1)))\n",
        "  model.add(Conv2D(32, kernel_size=3, activation='relu'))\n",
        "  model.add(MaxPool2D(pool_size=(2, 2), strides=None, padding='valid', data_format=None))\n",
        "  model.add(Flatten())\n",
        "  model.add(Dense(10,activation='softmax'))\n",
        "  model.compile(optimizer='adam', loss='categorical_crossentropy', metrics=['accuracy'])"
      ],
      "metadata": {
        "id": "GXL8tulHBZDx",
        "colab": {
          "base_uri": "https://localhost:8080/"
        },
        "outputId": "8598b379-7bb4-47fd-8160-2fdffb212fc1"
      },
      "execution_count": null,
      "outputs": [
        {
          "output_type": "stream",
          "name": "stderr",
          "text": [
            "WARNING:absl:`tf.distribute.experimental.TPUStrategy` is deprecated, please use  the non experimental symbol `tf.distribute.TPUStrategy` instead.\n"
          ]
        }
      ]
    },
    {
      "cell_type": "code",
      "source": [
        "#Train the model\n",
        "start = time()\n",
        "\n",
        "history = model.fit(X_train,y_train_one_hot, validation_data=(X_val,y_val_one_hot),batch_size=1024, epochs=10)\n",
        "\n",
        "end = time()"
      ],
      "metadata": {
        "colab": {
          "base_uri": "https://localhost:8080/"
        },
        "outputId": "e46764cd-089b-417c-8926-af72ac264770",
        "id": "xsA746_cBZDx"
      },
      "execution_count": null,
      "outputs": [
        {
          "output_type": "stream",
          "name": "stdout",
          "text": [
            "Epoch 1/10\n",
            "47/47 [==============================] - 17s 217ms/step - loss: 1.9454 - accuracy: 0.6599 - val_loss: 0.2196 - val_accuracy: 0.9362\n",
            "Epoch 2/10\n",
            "47/47 [==============================] - 2s 48ms/step - loss: 0.1574 - accuracy: 0.9543 - val_loss: 0.1246 - val_accuracy: 0.9635\n",
            "Epoch 3/10\n",
            "47/47 [==============================] - 3s 59ms/step - loss: 0.0982 - accuracy: 0.9699 - val_loss: 0.0917 - val_accuracy: 0.9733\n",
            "Epoch 4/10\n",
            "47/47 [==============================] - 3s 53ms/step - loss: 0.0720 - accuracy: 0.9777 - val_loss: 0.0791 - val_accuracy: 0.9751\n",
            "Epoch 5/10\n",
            "47/47 [==============================] - 2s 50ms/step - loss: 0.0581 - accuracy: 0.9816 - val_loss: 0.0727 - val_accuracy: 0.9788\n",
            "Epoch 6/10\n",
            "47/47 [==============================] - 2s 51ms/step - loss: 0.0478 - accuracy: 0.9855 - val_loss: 0.0638 - val_accuracy: 0.9812\n",
            "Epoch 7/10\n",
            "47/47 [==============================] - 2s 49ms/step - loss: 0.0427 - accuracy: 0.9866 - val_loss: 0.0657 - val_accuracy: 0.9807\n",
            "Epoch 8/10\n",
            "47/47 [==============================] - 2s 49ms/step - loss: 0.0391 - accuracy: 0.9877 - val_loss: 0.0577 - val_accuracy: 0.9833\n",
            "Epoch 9/10\n",
            "47/47 [==============================] - 2s 52ms/step - loss: 0.0334 - accuracy: 0.9895 - val_loss: 0.0655 - val_accuracy: 0.9813\n",
            "Epoch 10/10\n",
            "47/47 [==============================] - 2s 52ms/step - loss: 0.0320 - accuracy: 0.9893 - val_loss: 0.0580 - val_accuracy: 0.9833\n"
          ]
        }
      ]
    },
    {
      "metadata": {
        "colab": {
          "base_uri": "https://localhost:8080/"
        },
        "id": "fBQPNC1vBZDx",
        "outputId": "8b131a99-5cc9-4d4f-cd62-230fe1c5ddd9"
      },
      "cell_type": "code",
      "source": [
        "print('Total training time {} seconds'.format(end - start))"
      ],
      "execution_count": null,
      "outputs": [
        {
          "output_type": "stream",
          "name": "stdout",
          "text": [
            "Total training time 40.428847312927246 seconds\n"
          ]
        }
      ]
    },
    {
      "cell_type": "code",
      "source": [
        "test_loss, test_acc = model.evaluate(X_test,y_test_one_hot)\n",
        "\n",
        "layer_df['TPU'][layer_df['Layers']==4]=round(end-start, 2)\n",
        "layer_df['TAcc'][layer_df['Layers']==4]=round(test_acc, 3)\n",
        "layer_df['TLoss'][layer_df['Layers']==4]=round(test_loss, 3)"
      ],
      "metadata": {
        "colab": {
          "base_uri": "https://localhost:8080/"
        },
        "id": "FR7_SDatBZDy",
        "outputId": "f4607194-0a9c-4d78-d631-60febef7452a"
      },
      "execution_count": null,
      "outputs": [
        {
          "output_type": "stream",
          "name": "stdout",
          "text": [
            "313/313 [==============================] - 11s 23ms/step - loss: 0.0499 - accuracy: 0.9852\n"
          ]
        },
        {
          "output_type": "stream",
          "name": "stderr",
          "text": [
            "<ipython-input-84-bc2604dca14d>:3: SettingWithCopyWarning: \n",
            "A value is trying to be set on a copy of a slice from a DataFrame\n",
            "\n",
            "See the caveats in the documentation: https://pandas.pydata.org/pandas-docs/stable/user_guide/indexing.html#returning-a-view-versus-a-copy\n",
            "  layer_df['TPU'][layer_df['Layers']==4]=round(end-start, 2)\n",
            "<ipython-input-84-bc2604dca14d>:4: SettingWithCopyWarning: \n",
            "A value is trying to be set on a copy of a slice from a DataFrame\n",
            "\n",
            "See the caveats in the documentation: https://pandas.pydata.org/pandas-docs/stable/user_guide/indexing.html#returning-a-view-versus-a-copy\n",
            "  layer_df['TAcc'][layer_df['Layers']==4]=round(test_acc, 3)\n",
            "<ipython-input-84-bc2604dca14d>:5: SettingWithCopyWarning: \n",
            "A value is trying to be set on a copy of a slice from a DataFrame\n",
            "\n",
            "See the caveats in the documentation: https://pandas.pydata.org/pandas-docs/stable/user_guide/indexing.html#returning-a-view-versus-a-copy\n",
            "  layer_df['TLoss'][layer_df['Layers']==4]=round(test_loss, 3)\n"
          ]
        }
      ]
    },
    {
      "cell_type": "markdown",
      "source": [
        "# Results"
      ],
      "metadata": {
        "id": "P0kMg_oXbh_G"
      }
    },
    {
      "cell_type": "code",
      "source": [
        "batch_df.to_csv(project_path+'batch_size_result.csv')\n",
        "unit_df.to_csv(project_path+'units_result.csv')\n",
        "layer_df.to_csv(project_path+'layer_result.csv')"
      ],
      "metadata": {
        "id": "JqTENvSUKrrf"
      },
      "execution_count": null,
      "outputs": []
    }
  ]
}