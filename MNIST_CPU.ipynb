{
  "nbformat": 4,
  "nbformat_minor": 0,
  "metadata": {
    "colab": {
      "provenance": [],
      "collapsed_sections": [
        "PidS1JwAb_oq",
        "jIUyt37tcEvt",
        "p6gWhcXscJko",
        "g2m5HjQ-77sn"
      ]
    },
    "kernelspec": {
      "name": "python3",
      "display_name": "Python 3"
    },
    "gpuClass": "standard"
  },
  "cells": [
    {
      "metadata": {
        "id": "8xn5mZrKTLeZ"
      },
      "cell_type": "markdown",
      "source": [
        "MNIST Classification: GPU Version\n",
        "\n",
        "The goal of this notebook is to implement a simple conv net to classify CIFAR10 images using Colab GPU and compare its training time against GPU on local workstation and <a href=\"https://colab.research.google.com/drive/1rP91Q5L1mPOVt7FcKkqFJSIMZrBtDawO\">Colab TPU</a>."
      ]
    },
    {
      "cell_type": "code",
      "source": [
        "!pip install tensorflow==1.13.1"
      ],
      "metadata": {
        "colab": {
          "base_uri": "https://localhost:8080/"
        },
        "id": "QdpMs_VoBbrh",
        "outputId": "0158273b-3650-49a7-9ef3-b473a5926978"
      },
      "execution_count": null,
      "outputs": [
        {
          "output_type": "stream",
          "name": "stdout",
          "text": [
            "Looking in indexes: https://pypi.org/simple, https://us-python.pkg.dev/colab-wheels/public/simple/\n",
            "\u001b[31mERROR: Could not find a version that satisfies the requirement tensorflow==1.13.1 (from versions: 2.2.0, 2.2.1, 2.2.2, 2.2.3, 2.3.0, 2.3.1, 2.3.2, 2.3.3, 2.3.4, 2.4.0, 2.4.1, 2.4.2, 2.4.3, 2.4.4, 2.5.0, 2.5.1, 2.5.2, 2.5.3, 2.6.0rc0, 2.6.0rc1, 2.6.0rc2, 2.6.0, 2.6.1, 2.6.2, 2.6.3, 2.6.4, 2.6.5, 2.7.0rc0, 2.7.0rc1, 2.7.0, 2.7.1, 2.7.2, 2.7.3, 2.7.4, 2.8.0rc0, 2.8.0rc1, 2.8.0, 2.8.1, 2.8.2, 2.8.3, 2.8.4, 2.9.0rc0, 2.9.0rc1, 2.9.0rc2, 2.9.0, 2.9.1, 2.9.2, 2.9.3, 2.10.0rc0, 2.10.0rc1, 2.10.0rc2, 2.10.0rc3, 2.10.0, 2.10.1, 2.11.0rc0, 2.11.0rc1, 2.11.0rc2, 2.11.0)\u001b[0m\n",
            "\u001b[31mERROR: No matching distribution found for tensorflow==1.13.1\u001b[0m\n"
          ]
        }
      ]
    },
    {
      "cell_type": "markdown",
      "source": [
        "### initialization"
      ],
      "metadata": {
        "id": "u6PUm2arMN7D"
      }
    },
    {
      "cell_type": "code",
      "source": [
        "from google.colab import drive\n",
        "drive.mount('/content/drive')"
      ],
      "metadata": {
        "colab": {
          "base_uri": "https://localhost:8080/"
        },
        "id": "fAmBevzYKfFl",
        "outputId": "266566b2-7c5c-4987-a2e6-031769b49d15"
      },
      "execution_count": null,
      "outputs": [
        {
          "output_type": "stream",
          "name": "stdout",
          "text": [
            "Drive already mounted at /content/drive; to attempt to forcibly remount, call drive.mount(\"/content/drive\", force_remount=True).\n"
          ]
        }
      ]
    },
    {
      "cell_type": "code",
      "source": [
        "project_path = '/content/drive/My Drive/'"
      ],
      "metadata": {
        "id": "yiur25o9KgIe"
      },
      "execution_count": null,
      "outputs": []
    },
    {
      "cell_type": "code",
      "source": [
        "import pandas as pd\n",
        "#batch_df.to_csv(project_path+'batch_size_result.csv')\n",
        "#unit_df.to_csv(project_path+'units_result.csv')\n",
        "#layer_df.to_csv(project_path+'layer_result.csv')\n",
        "\n",
        "batch_df=pd.read_csv(project_path+'batch_size_result.csv')\n",
        "batch_df['CPU']=\"\"\n",
        "batch_df['CAcc']=\"\"\n",
        "batch_df['CLoss']=\"\"\n",
        "print(batch_df)\n",
        "\n",
        "unit_df=pd.read_csv(project_path+'units_result.csv')\n",
        "unit_df['CPU']=\"\"\n",
        "unit_df['CAcc']=\"\"\n",
        "unit_df['CLoss']=\"\"\n",
        "print(unit_df)\n",
        "\n",
        "layer_df=pd.read_csv(project_path+'layer_result.csv')\n",
        "layer_df['CPU']=\"\"\n",
        "layer_df['CAcc']=\"\"\n",
        "layer_df['CLoss']=\"\"\n",
        "layer_df"
      ],
      "metadata": {
        "colab": {
          "base_uri": "https://localhost:8080/"
        },
        "id": "vRN8PnG2DK8q",
        "outputId": "5bd5f5e3-0999-4b2a-f9e5-d99b1bd7dad1"
      },
      "execution_count": null,
      "outputs": [
        {
          "output_type": "stream",
          "name": "stdout",
          "text": [
            "   Unnamed: 0  batch size    GPU  GAcc  GLoss CPU CAcc CLoss\n",
            "0           0        1024  22.48  0.98   0.07               \n",
            "1           1         512  42.03  0.98   0.07               \n",
            "2           2         256  41.39  0.98   0.08               \n",
            "   Unnamed: 0  Units    GPU   GAcc  GLoss CPU CAcc CLoss\n",
            "0           0      8   3.96  0.962  0.465               \n",
            "1           1     16  10.96  0.967  0.312               \n",
            "2           2     32  10.65  0.974  0.145               \n",
            "3           3     64  10.39  0.975  0.155               \n",
            "4           4    128  20.88  0.977  0.106               \n",
            "5           5    256  34.38  0.982  0.085               \n"
          ]
        },
        {
          "output_type": "execute_result",
          "data": {
            "text/plain": [
              "   Unnamed: 0  Layers     GPU   GAcc  GLoss CPU CAcc CLoss\n",
              "0           0       2   22.48  0.981  0.065               \n",
              "1           1       3   82.38  0.984  0.052               \n",
              "2           2       4  125.59  0.987  0.041               "
            ],
            "text/html": [
              "\n",
              "  <div id=\"df-fad2de8e-9cce-4017-9445-37307795fd11\">\n",
              "    <div class=\"colab-df-container\">\n",
              "      <div>\n",
              "<style scoped>\n",
              "    .dataframe tbody tr th:only-of-type {\n",
              "        vertical-align: middle;\n",
              "    }\n",
              "\n",
              "    .dataframe tbody tr th {\n",
              "        vertical-align: top;\n",
              "    }\n",
              "\n",
              "    .dataframe thead th {\n",
              "        text-align: right;\n",
              "    }\n",
              "</style>\n",
              "<table border=\"1\" class=\"dataframe\">\n",
              "  <thead>\n",
              "    <tr style=\"text-align: right;\">\n",
              "      <th></th>\n",
              "      <th>Unnamed: 0</th>\n",
              "      <th>Layers</th>\n",
              "      <th>GPU</th>\n",
              "      <th>GAcc</th>\n",
              "      <th>GLoss</th>\n",
              "      <th>CPU</th>\n",
              "      <th>CAcc</th>\n",
              "      <th>CLoss</th>\n",
              "    </tr>\n",
              "  </thead>\n",
              "  <tbody>\n",
              "    <tr>\n",
              "      <th>0</th>\n",
              "      <td>0</td>\n",
              "      <td>2</td>\n",
              "      <td>22.48</td>\n",
              "      <td>0.981</td>\n",
              "      <td>0.065</td>\n",
              "      <td></td>\n",
              "      <td></td>\n",
              "      <td></td>\n",
              "    </tr>\n",
              "    <tr>\n",
              "      <th>1</th>\n",
              "      <td>1</td>\n",
              "      <td>3</td>\n",
              "      <td>82.38</td>\n",
              "      <td>0.984</td>\n",
              "      <td>0.052</td>\n",
              "      <td></td>\n",
              "      <td></td>\n",
              "      <td></td>\n",
              "    </tr>\n",
              "    <tr>\n",
              "      <th>2</th>\n",
              "      <td>2</td>\n",
              "      <td>4</td>\n",
              "      <td>125.59</td>\n",
              "      <td>0.987</td>\n",
              "      <td>0.041</td>\n",
              "      <td></td>\n",
              "      <td></td>\n",
              "      <td></td>\n",
              "    </tr>\n",
              "  </tbody>\n",
              "</table>\n",
              "</div>\n",
              "      <button class=\"colab-df-convert\" onclick=\"convertToInteractive('df-fad2de8e-9cce-4017-9445-37307795fd11')\"\n",
              "              title=\"Convert this dataframe to an interactive table.\"\n",
              "              style=\"display:none;\">\n",
              "        \n",
              "  <svg xmlns=\"http://www.w3.org/2000/svg\" height=\"24px\"viewBox=\"0 0 24 24\"\n",
              "       width=\"24px\">\n",
              "    <path d=\"M0 0h24v24H0V0z\" fill=\"none\"/>\n",
              "    <path d=\"M18.56 5.44l.94 2.06.94-2.06 2.06-.94-2.06-.94-.94-2.06-.94 2.06-2.06.94zm-11 1L8.5 8.5l.94-2.06 2.06-.94-2.06-.94L8.5 2.5l-.94 2.06-2.06.94zm10 10l.94 2.06.94-2.06 2.06-.94-2.06-.94-.94-2.06-.94 2.06-2.06.94z\"/><path d=\"M17.41 7.96l-1.37-1.37c-.4-.4-.92-.59-1.43-.59-.52 0-1.04.2-1.43.59L10.3 9.45l-7.72 7.72c-.78.78-.78 2.05 0 2.83L4 21.41c.39.39.9.59 1.41.59.51 0 1.02-.2 1.41-.59l7.78-7.78 2.81-2.81c.8-.78.8-2.07 0-2.86zM5.41 20L4 18.59l7.72-7.72 1.47 1.35L5.41 20z\"/>\n",
              "  </svg>\n",
              "      </button>\n",
              "      \n",
              "  <style>\n",
              "    .colab-df-container {\n",
              "      display:flex;\n",
              "      flex-wrap:wrap;\n",
              "      gap: 12px;\n",
              "    }\n",
              "\n",
              "    .colab-df-convert {\n",
              "      background-color: #E8F0FE;\n",
              "      border: none;\n",
              "      border-radius: 50%;\n",
              "      cursor: pointer;\n",
              "      display: none;\n",
              "      fill: #1967D2;\n",
              "      height: 32px;\n",
              "      padding: 0 0 0 0;\n",
              "      width: 32px;\n",
              "    }\n",
              "\n",
              "    .colab-df-convert:hover {\n",
              "      background-color: #E2EBFA;\n",
              "      box-shadow: 0px 1px 2px rgba(60, 64, 67, 0.3), 0px 1px 3px 1px rgba(60, 64, 67, 0.15);\n",
              "      fill: #174EA6;\n",
              "    }\n",
              "\n",
              "    [theme=dark] .colab-df-convert {\n",
              "      background-color: #3B4455;\n",
              "      fill: #D2E3FC;\n",
              "    }\n",
              "\n",
              "    [theme=dark] .colab-df-convert:hover {\n",
              "      background-color: #434B5C;\n",
              "      box-shadow: 0px 1px 3px 1px rgba(0, 0, 0, 0.15);\n",
              "      filter: drop-shadow(0px 1px 2px rgba(0, 0, 0, 0.3));\n",
              "      fill: #FFFFFF;\n",
              "    }\n",
              "  </style>\n",
              "\n",
              "      <script>\n",
              "        const buttonEl =\n",
              "          document.querySelector('#df-fad2de8e-9cce-4017-9445-37307795fd11 button.colab-df-convert');\n",
              "        buttonEl.style.display =\n",
              "          google.colab.kernel.accessAllowed ? 'block' : 'none';\n",
              "\n",
              "        async function convertToInteractive(key) {\n",
              "          const element = document.querySelector('#df-fad2de8e-9cce-4017-9445-37307795fd11');\n",
              "          const dataTable =\n",
              "            await google.colab.kernel.invokeFunction('convertToInteractive',\n",
              "                                                     [key], {});\n",
              "          if (!dataTable) return;\n",
              "\n",
              "          const docLinkHtml = 'Like what you see? Visit the ' +\n",
              "            '<a target=\"_blank\" href=https://colab.research.google.com/notebooks/data_table.ipynb>data table notebook</a>'\n",
              "            + ' to learn more about interactive tables.';\n",
              "          element.innerHTML = '';\n",
              "          dataTable['output_type'] = 'display_data';\n",
              "          await google.colab.output.renderOutput(dataTable, element);\n",
              "          const docLink = document.createElement('div');\n",
              "          docLink.innerHTML = docLinkHtml;\n",
              "          element.appendChild(docLink);\n",
              "        }\n",
              "      </script>\n",
              "    </div>\n",
              "  </div>\n",
              "  "
            ]
          },
          "metadata": {},
          "execution_count": 44
        }
      ]
    },
    {
      "cell_type": "markdown",
      "source": [
        "###Model"
      ],
      "metadata": {
        "id": "aHNQTm0Zwk7f"
      }
    },
    {
      "metadata": {
        "id": "N2Ro0bSxTkg3"
      },
      "cell_type": "code",
      "source": [
        "from time import time\n",
        "import numpy as np\n",
        "from sklearn.model_selection import train_test_split\n",
        "import matplotlib.pyplot as plt\n",
        "%matplotlib inline\n",
        "\n",
        "import tensorflow as tf\n"
      ],
      "execution_count": null,
      "outputs": []
    },
    {
      "metadata": {
        "id": "Tpn19-sGTojb",
        "colab": {
          "base_uri": "https://localhost:8080/",
          "height": 35
        },
        "outputId": "28f6fcf0-b706-4def-f7ae-82042889662f"
      },
      "cell_type": "code",
      "source": [
        "# check tensorflow version, we want the one that support eager mode\n",
        "tf.__version__"
      ],
      "execution_count": null,
      "outputs": [
        {
          "output_type": "execute_result",
          "data": {
            "text/plain": [
              "'2.9.2'"
            ],
            "application/vnd.google.colaboratory.intrinsic+json": {
              "type": "string"
            }
          },
          "metadata": {},
          "execution_count": 46
        }
      ]
    },
    {
      "metadata": {
        "id": "B2gTpMk0a3tY",
        "colab": {
          "base_uri": "https://localhost:8080/"
        },
        "outputId": "f0629218-3c59-414a-e6cc-1df81459ec67"
      },
      "cell_type": "code",
      "source": [
        "# Check if eager execution mode is on\n",
        "tf.executing_eagerly()"
      ],
      "execution_count": null,
      "outputs": [
        {
          "output_type": "execute_result",
          "data": {
            "text/plain": [
              "True"
            ]
          },
          "metadata": {},
          "execution_count": 47
        }
      ]
    },
    {
      "cell_type": "code",
      "source": [
        "from tensorflow.keras.datasets import mnist\n",
        "#Load the data and split it into train and test \n",
        "(X_train, y_train), (X_test, y_test) = mnist.load_data()"
      ],
      "metadata": {
        "id": "gggvkZMyRxce",
        "colab": {
          "base_uri": "https://localhost:8080/"
        },
        "outputId": "c2bf34d8-08dc-4d75-a577-a09d5511c141"
      },
      "execution_count": null,
      "outputs": [
        {
          "output_type": "stream",
          "name": "stdout",
          "text": [
            "Downloading data from https://storage.googleapis.com/tensorflow/tf-keras-datasets/mnist.npz\n",
            "11490434/11490434 [==============================] - 0s 0us/step\n"
          ]
        }
      ]
    },
    {
      "cell_type": "code",
      "source": [
        "#Get the image shape\n",
        "print(X_train.shape)\n",
        "print(X_test.shape)"
      ],
      "metadata": {
        "colab": {
          "base_uri": "https://localhost:8080/"
        },
        "id": "xyGY4fYaRy_r",
        "outputId": "2ae36e2c-8031-4549-f75d-9d961181a098"
      },
      "execution_count": null,
      "outputs": [
        {
          "output_type": "stream",
          "name": "stdout",
          "text": [
            "(60000, 28, 28)\n",
            "(10000, 28, 28)\n"
          ]
        }
      ]
    },
    {
      "cell_type": "code",
      "source": [
        "split = 0.2\n",
        "X_train, X_val, y_train, y_val = train_test_split(\n",
        "    X_train, y_train, test_size=0.2, random_state=42)\n",
        "print('x_train: {}, y_train: {}, x_val: {}, y_val: {}'\n",
        "      .format(X_train.shape, y_train.shape, X_val.shape, y_val.shape))"
      ],
      "metadata": {
        "colab": {
          "base_uri": "https://localhost:8080/"
        },
        "id": "OYAeh6P0Vpxo",
        "outputId": "f31c4007-b168-4b7f-e0da-bf9c4e7a25b5"
      },
      "execution_count": null,
      "outputs": [
        {
          "output_type": "stream",
          "name": "stdout",
          "text": [
            "x_train: (48000, 28, 28), y_train: (48000,), x_val: (12000, 28, 28), y_val: (12000,)\n"
          ]
        }
      ]
    },
    {
      "cell_type": "code",
      "source": [
        "#importing the libraries\n",
        "from tensorflow.keras.models import Sequential\n",
        "from tensorflow.keras.layers import Dense, Conv2D, Flatten, MaxPool2D\n",
        "from tensorflow.keras.datasets import mnist\n",
        "from tensorflow.keras.utils import to_categorical\n",
        "import numpy as np\n",
        "import matplotlib.pyplot as plt\n",
        "plt.imshow(X_train[2])"
      ],
      "metadata": {
        "colab": {
          "base_uri": "https://localhost:8080/",
          "height": 283
        },
        "id": "sr5BoqFKR0-7",
        "outputId": "8f5e8c9f-3d4d-432a-f4de-abcde345ea40"
      },
      "execution_count": null,
      "outputs": [
        {
          "output_type": "execute_result",
          "data": {
            "text/plain": [
              "<matplotlib.image.AxesImage at 0x7fe163256fd0>"
            ]
          },
          "metadata": {},
          "execution_count": 5
        },
        {
          "output_type": "display_data",
          "data": {
            "text/plain": [
              "<Figure size 432x288 with 1 Axes>"
            ],
            "image/png": "[encoded data removed]"
          },
          "metadata": {
            "needs_background": "light"
          }
        }
      ]
    },
    {
      "cell_type": "code",
      "source": [
        "# Reshaping the data to fit the model\n",
        "X_train = X_train.reshape(48000, 28, 28, 1)\n",
        "X_val = X_val.reshape(12000, 28, 28, 1)\n",
        "X_test = X_test.reshape(10000, 28, 28, 1)"
      ],
      "metadata": {
        "id": "oVtfbadPSFRM"
      },
      "execution_count": null,
      "outputs": []
    },
    {
      "cell_type": "code",
      "source": [
        "# One-Hot Encoding:\n",
        "y_train_one_hot = to_categorical(y_train)\n",
        "y_val_one_hot= to_categorical(y_val)\n",
        "y_test_one_hot = to_categorical(y_test)\n",
        "\n",
        "# Print the new label\n",
        "print(y_train_one_hot[0])"
      ],
      "metadata": {
        "colab": {
          "base_uri": "https://localhost:8080/"
        },
        "id": "5Wl7UXXMSG6q",
        "outputId": "08612ade-bbcd-4680-dc3e-b3b6b8170c74"
      },
      "execution_count": null,
      "outputs": [
        {
          "output_type": "stream",
          "name": "stdout",
          "text": [
            "[0. 0. 0. 0. 0. 1. 0. 0. 0. 0.]\n"
          ]
        }
      ]
    },
    {
      "cell_type": "code",
      "source": [
        "# Build the CNN model\n",
        "model = Sequential()\n",
        "# Add model layers\n",
        "model.add(Conv2D(64, kernel_size=3, activation = 'relu', input_shape=(28,28,1)))\n",
        "model.add(Conv2D(32, kernel_size=3, activation='relu'))\n",
        "model.add(MaxPool2D(pool_size=(2, 2), strides=None, padding='valid', data_format=None))\n",
        "model.add(Flatten())\n",
        "model.add(Dense(10,activation='softmax'))\n"
      ],
      "metadata": {
        "id": "Yfb-wM2_SJL-"
      },
      "execution_count": null,
      "outputs": []
    },
    {
      "cell_type": "code",
      "source": [
        "model.summary()"
      ],
      "metadata": {
        "id": "Ufsmd-fuayIL",
        "outputId": "e4cf0232-f875-4439-852f-668da3d1c648",
        "colab": {
          "base_uri": "https://localhost:8080/"
        }
      },
      "execution_count": null,
      "outputs": [
        {
          "output_type": "stream",
          "name": "stdout",
          "text": [
            "Model: \"sequential_3\"\n",
            "_________________________________________________________________\n",
            " Layer (type)                Output Shape              Param #   \n",
            "=================================================================\n",
            " conv2d_6 (Conv2D)           (None, 26, 26, 64)        640       \n",
            "                                                                 \n",
            " conv2d_7 (Conv2D)           (None, 24, 24, 32)        18464     \n",
            "                                                                 \n",
            " max_pooling2d_3 (MaxPooling  (None, 12, 12, 32)       0         \n",
            " 2D)                                                             \n",
            "                                                                 \n",
            " flatten_3 (Flatten)         (None, 4608)              0         \n",
            "                                                                 \n",
            " dense_3 (Dense)             (None, 10)                46090     \n",
            "                                                                 \n",
            "=================================================================\n",
            "Total params: 65,194\n",
            "Trainable params: 65,194\n",
            "Non-trainable params: 0\n",
            "_________________________________________________________________\n"
          ]
        }
      ]
    },
    {
      "cell_type": "code",
      "source": [
        "model.compile(optimizer='adam', loss='categorical_crossentropy', metrics=['accuracy'])"
      ],
      "metadata": {
        "id": "C_0NHNWVSK-i"
      },
      "execution_count": null,
      "outputs": []
    },
    {
      "cell_type": "markdown",
      "source": [
        "# batch size"
      ],
      "metadata": {
        "id": "XsAYzl6FA4o6"
      }
    },
    {
      "cell_type": "markdown",
      "source": [
        "## batch_size=1024"
      ],
      "metadata": {
        "id": "dmDf5ONkM3VV"
      }
    },
    {
      "cell_type": "code",
      "source": [
        "# Build the CNN model\n",
        "model = Sequential()\n",
        "# Add model layers\n",
        "model.add(Conv2D(64, kernel_size=3, activation = 'relu', input_shape=(28,28,1)))\n",
        "model.add(Conv2D(32, kernel_size=3, activation='relu'))\n",
        "model.add(MaxPool2D(pool_size=(2, 2), strides=None, padding='valid', data_format=None))\n",
        "model.add(Flatten())\n",
        "model.add(Dense(10,activation='softmax'))\n",
        "model.compile(optimizer='adam', loss='categorical_crossentropy', metrics=['accuracy'])"
      ],
      "metadata": {
        "id": "0rCZ5mFsAy2M"
      },
      "execution_count": null,
      "outputs": []
    },
    {
      "cell_type": "code",
      "source": [
        "#Train the model\n",
        "start = time()\n",
        "\n",
        "history = model.fit(X_train,y_train_one_hot, validation_data=(X_val,y_val_one_hot),batch_size=1024, epochs=10)\n",
        "\n",
        "end = time()"
      ],
      "metadata": {
        "colab": {
          "base_uri": "https://localhost:8080/"
        },
        "outputId": "f39c29bc-a0fb-4f66-b2da-eec21f9fe2de",
        "id": "aW5W2QQ3M3VV"
      },
      "execution_count": null,
      "outputs": [
        {
          "output_type": "stream",
          "name": "stdout",
          "text": [
            "Epoch 1/10\n",
            "47/47 [==============================] - 157s 3s/step - loss: 2.3182 - accuracy: 0.7463 - val_loss: 0.2419 - val_accuracy: 0.9268\n",
            "Epoch 2/10\n",
            "47/47 [==============================] - 141s 3s/step - loss: 0.1713 - accuracy: 0.9490 - val_loss: 0.1237 - val_accuracy: 0.9615\n",
            "Epoch 3/10\n",
            "47/47 [==============================] - 144s 3s/step - loss: 0.0974 - accuracy: 0.9706 - val_loss: 0.0951 - val_accuracy: 0.9715\n",
            "Epoch 4/10\n",
            "47/47 [==============================] - 142s 3s/step - loss: 0.0716 - accuracy: 0.9779 - val_loss: 0.0858 - val_accuracy: 0.9743\n",
            "Epoch 5/10\n",
            "47/47 [==============================] - 143s 3s/step - loss: 0.0574 - accuracy: 0.9827 - val_loss: 0.0802 - val_accuracy: 0.9758\n",
            "Epoch 6/10\n",
            "47/47 [==============================] - 143s 3s/step - loss: 0.0498 - accuracy: 0.9848 - val_loss: 0.0743 - val_accuracy: 0.9776\n",
            "Epoch 7/10\n",
            "47/47 [==============================] - 143s 3s/step - loss: 0.0399 - accuracy: 0.9879 - val_loss: 0.0730 - val_accuracy: 0.9796\n",
            "Epoch 8/10\n",
            "47/47 [==============================] - 141s 3s/step - loss: 0.0340 - accuracy: 0.9897 - val_loss: 0.0695 - val_accuracy: 0.9801\n",
            "Epoch 9/10\n",
            "47/47 [==============================] - 144s 3s/step - loss: 0.0287 - accuracy: 0.9915 - val_loss: 0.0732 - val_accuracy: 0.9779\n",
            "Epoch 10/10\n",
            "47/47 [==============================] - 143s 3s/step - loss: 0.0249 - accuracy: 0.9927 - val_loss: 0.0763 - val_accuracy: 0.9790\n"
          ]
        }
      ]
    },
    {
      "metadata": {
        "colab": {
          "base_uri": "https://localhost:8080/"
        },
        "outputId": "53aa2cff-7965-4a63-c2b3-a99edcd631a5",
        "id": "2xMfPGgqM3VW"
      },
      "cell_type": "code",
      "source": [
        "print('Total training time {} seconds'.format(end - start))\n"
      ],
      "execution_count": null,
      "outputs": [
        {
          "output_type": "stream",
          "name": "stdout",
          "text": [
            "Total training time 1462.6255445480347 seconds\n"
          ]
        }
      ]
    },
    {
      "cell_type": "code",
      "source": [
        "test_loss, test_acc = model.evaluate(X_test,y_test_one_hot)\n",
        "batch_df['CPU'][batch_df['batch size']==1024]=round(end-start, 2)\n",
        "batch_df['CAcc'][batch_df['batch size']==1024]=round(test_acc, 3)\n",
        "batch_df['CLoss'][batch_df['batch size']==1024]=round(test_loss, 3)\n",
        "\n",
        "layer_df['CPU'][layer_df['Layers']==2]=round(end-start, 2)\n",
        "layer_df['CAcc'][layer_df['Layers']==2]=round(test_acc, 3)\n",
        "layer_df['CLoss'][layer_df['Layers']==2]=round(test_loss, 3)"
      ],
      "metadata": {
        "colab": {
          "base_uri": "https://localhost:8080/"
        },
        "outputId": "87b9711d-b4ae-4f57-c93c-c884951c8bf8",
        "id": "78CgZNkFM3VW"
      },
      "execution_count": null,
      "outputs": [
        {
          "output_type": "stream",
          "name": "stdout",
          "text": [
            "313/313 [==============================] - 10s 31ms/step - loss: 0.0754 - accuracy: 0.9792\n"
          ]
        },
        {
          "output_type": "stream",
          "name": "stderr",
          "text": [
            "<ipython-input-61-619f65edffef>:2: SettingWithCopyWarning: \n",
            "A value is trying to be set on a copy of a slice from a DataFrame\n",
            "\n",
            "See the caveats in the documentation: https://pandas.pydata.org/pandas-docs/stable/user_guide/indexing.html#returning-a-view-versus-a-copy\n",
            "  batch_df['CPU'][batch_df['batch size']==1024]=round(end-start, 2)\n",
            "<ipython-input-61-619f65edffef>:3: SettingWithCopyWarning: \n",
            "A value is trying to be set on a copy of a slice from a DataFrame\n",
            "\n",
            "See the caveats in the documentation: https://pandas.pydata.org/pandas-docs/stable/user_guide/indexing.html#returning-a-view-versus-a-copy\n",
            "  batch_df['CAcc'][batch_df['batch size']==1024]=round(test_acc, 3)\n",
            "<ipython-input-61-619f65edffef>:4: SettingWithCopyWarning: \n",
            "A value is trying to be set on a copy of a slice from a DataFrame\n",
            "\n",
            "See the caveats in the documentation: https://pandas.pydata.org/pandas-docs/stable/user_guide/indexing.html#returning-a-view-versus-a-copy\n",
            "  batch_df['CLoss'][batch_df['batch size']==1024]=round(test_loss, 3)\n",
            "<ipython-input-61-619f65edffef>:6: SettingWithCopyWarning: \n",
            "A value is trying to be set on a copy of a slice from a DataFrame\n",
            "\n",
            "See the caveats in the documentation: https://pandas.pydata.org/pandas-docs/stable/user_guide/indexing.html#returning-a-view-versus-a-copy\n",
            "  layer_df['CPU'][layer_df['Layers']==2]=round(end-start, 2)\n",
            "<ipython-input-61-619f65edffef>:7: SettingWithCopyWarning: \n",
            "A value is trying to be set on a copy of a slice from a DataFrame\n",
            "\n",
            "See the caveats in the documentation: https://pandas.pydata.org/pandas-docs/stable/user_guide/indexing.html#returning-a-view-versus-a-copy\n",
            "  layer_df['CAcc'][layer_df['Layers']==2]=round(test_acc, 3)\n",
            "<ipython-input-61-619f65edffef>:8: SettingWithCopyWarning: \n",
            "A value is trying to be set on a copy of a slice from a DataFrame\n",
            "\n",
            "See the caveats in the documentation: https://pandas.pydata.org/pandas-docs/stable/user_guide/indexing.html#returning-a-view-versus-a-copy\n",
            "  layer_df['CLoss'][layer_df['Layers']==2]=round(test_loss, 3)\n"
          ]
        }
      ]
    },
    {
      "cell_type": "markdown",
      "source": [
        "## batch_size=512"
      ],
      "metadata": {
        "id": "hjCuM52bM3VW"
      }
    },
    {
      "cell_type": "code",
      "source": [
        "# Build the CNN model\n",
        "model = Sequential()\n",
        "# Add model layers\n",
        "model.add(Conv2D(64, kernel_size=3, activation = 'relu', input_shape=(28,28,1)))\n",
        "model.add(Conv2D(32, kernel_size=3, activation='relu'))\n",
        "model.add(MaxPool2D(pool_size=(2, 2), strides=None, padding='valid', data_format=None))\n",
        "model.add(Flatten())\n",
        "model.add(Dense(10,activation='softmax'))\n",
        "model.compile(optimizer='adam', loss='categorical_crossentropy', metrics=['accuracy'])"
      ],
      "metadata": {
        "id": "mQXVpq7NM3VW"
      },
      "execution_count": null,
      "outputs": []
    },
    {
      "cell_type": "code",
      "source": [
        "#Train the model\n",
        "start = time()\n",
        "\n",
        "history = model.fit(X_train,y_train_one_hot, validation_data=(X_val,y_val_one_hot),batch_size=512, epochs=10)\n",
        "\n",
        "end = time()"
      ],
      "metadata": {
        "colab": {
          "base_uri": "https://localhost:8080/"
        },
        "outputId": "ae6fbce4-5005-445c-d70c-5427171f0830",
        "id": "HxehIvraM3VW"
      },
      "execution_count": null,
      "outputs": [
        {
          "output_type": "stream",
          "name": "stdout",
          "text": [
            "Epoch 1/10\n",
            "94/94 [==============================] - 146s 2s/step - loss: 1.5725 - accuracy: 0.8250 - val_loss: 0.1407 - val_accuracy: 0.9570\n",
            "Epoch 2/10\n",
            "94/94 [==============================] - 145s 2s/step - loss: 0.1057 - accuracy: 0.9668 - val_loss: 0.0927 - val_accuracy: 0.9703\n",
            "Epoch 3/10\n",
            "94/94 [==============================] - 145s 2s/step - loss: 0.0708 - accuracy: 0.9781 - val_loss: 0.0756 - val_accuracy: 0.9783\n",
            "Epoch 4/10\n",
            "94/94 [==============================] - 144s 2s/step - loss: 0.0555 - accuracy: 0.9822 - val_loss: 0.0705 - val_accuracy: 0.9795\n",
            "Epoch 5/10\n",
            "94/94 [==============================] - 142s 2s/step - loss: 0.0451 - accuracy: 0.9859 - val_loss: 0.0713 - val_accuracy: 0.9809\n",
            "Epoch 6/10\n",
            "94/94 [==============================] - 146s 2s/step - loss: 0.0379 - accuracy: 0.9880 - val_loss: 0.0757 - val_accuracy: 0.9796\n",
            "Epoch 7/10\n",
            "94/94 [==============================] - 144s 2s/step - loss: 0.0313 - accuracy: 0.9897 - val_loss: 0.0727 - val_accuracy: 0.9808\n",
            "Epoch 8/10\n",
            "94/94 [==============================] - 145s 2s/step - loss: 0.0266 - accuracy: 0.9914 - val_loss: 0.0711 - val_accuracy: 0.9814\n",
            "Epoch 9/10\n",
            "94/94 [==============================] - 148s 2s/step - loss: 0.0207 - accuracy: 0.9933 - val_loss: 0.0803 - val_accuracy: 0.9799\n",
            "Epoch 10/10\n",
            "94/94 [==============================] - 146s 2s/step - loss: 0.0185 - accuracy: 0.9937 - val_loss: 0.0830 - val_accuracy: 0.9811\n"
          ]
        }
      ]
    },
    {
      "metadata": {
        "colab": {
          "base_uri": "https://localhost:8080/"
        },
        "outputId": "0c8dd92e-8a38-44fa-8aa3-4d30dc2aaec5",
        "id": "6EJzCQUFM3VW"
      },
      "cell_type": "code",
      "source": [
        "print('Total training time {} seconds'.format(end - start))\n"
      ],
      "execution_count": null,
      "outputs": [
        {
          "output_type": "stream",
          "name": "stdout",
          "text": [
            "Total training time 1462.4613091945648 seconds\n"
          ]
        }
      ]
    },
    {
      "cell_type": "code",
      "source": [
        "test_loss, test_acc = model.evaluate(X_test,y_test_one_hot)\n",
        "batch_df['CPU'][batch_df['batch size']==512]=round(end-start, 2)\n",
        "batch_df['CAcc'][batch_df['batch size']==512]=round(test_acc, 3)\n",
        "batch_df['CLoss'][batch_df['batch size']==512]=round(test_loss, 3)"
      ],
      "metadata": {
        "colab": {
          "base_uri": "https://localhost:8080/"
        },
        "outputId": "caa3fe2b-2afc-415c-ac5b-4f3eb65a3ceb",
        "id": "0n4bzas6M3VW"
      },
      "execution_count": null,
      "outputs": [
        {
          "output_type": "stream",
          "name": "stdout",
          "text": [
            "313/313 [==============================] - 10s 30ms/step - loss: 0.0703 - accuracy: 0.9826\n"
          ]
        },
        {
          "output_type": "stream",
          "name": "stderr",
          "text": [
            "<ipython-input-65-6e7db744439e>:2: SettingWithCopyWarning: \n",
            "A value is trying to be set on a copy of a slice from a DataFrame\n",
            "\n",
            "See the caveats in the documentation: https://pandas.pydata.org/pandas-docs/stable/user_guide/indexing.html#returning-a-view-versus-a-copy\n",
            "  batch_df['CPU'][batch_df['batch size']==512]=round(end-start, 2)\n",
            "<ipython-input-65-6e7db744439e>:3: SettingWithCopyWarning: \n",
            "A value is trying to be set on a copy of a slice from a DataFrame\n",
            "\n",
            "See the caveats in the documentation: https://pandas.pydata.org/pandas-docs/stable/user_guide/indexing.html#returning-a-view-versus-a-copy\n",
            "  batch_df['CAcc'][batch_df['batch size']==512]=round(test_acc, 3)\n",
            "<ipython-input-65-6e7db744439e>:4: SettingWithCopyWarning: \n",
            "A value is trying to be set on a copy of a slice from a DataFrame\n",
            "\n",
            "See the caveats in the documentation: https://pandas.pydata.org/pandas-docs/stable/user_guide/indexing.html#returning-a-view-versus-a-copy\n",
            "  batch_df['CLoss'][batch_df['batch size']==512]=round(test_loss, 3)\n"
          ]
        }
      ]
    },
    {
      "cell_type": "markdown",
      "source": [
        "## batch_size=256"
      ],
      "metadata": {
        "id": "Kay8tw-lM3VW"
      }
    },
    {
      "cell_type": "code",
      "source": [
        "# Build the CNN model\n",
        "model = Sequential()\n",
        "# Add model layers\n",
        "model.add(Conv2D(64, kernel_size=3, activation = 'relu', input_shape=(28,28,1)))\n",
        "model.add(Conv2D(32, kernel_size=3, activation='relu'))\n",
        "model.add(MaxPool2D(pool_size=(2, 2), strides=None, padding='valid', data_format=None))\n",
        "model.add(Flatten())\n",
        "model.add(Dense(10,activation='softmax'))\n",
        "model.compile(optimizer='adam', loss='categorical_crossentropy', metrics=['accuracy'])"
      ],
      "metadata": {
        "id": "9Sgsi-jgM3VX"
      },
      "execution_count": null,
      "outputs": []
    },
    {
      "cell_type": "code",
      "source": [
        "#Train the model\n",
        "start = time()\n",
        "\n",
        "history = model.fit(X_train,y_train_one_hot, validation_data=(X_val,y_val_one_hot),batch_size=256, epochs=10)\n",
        "\n",
        "end = time()"
      ],
      "metadata": {
        "colab": {
          "base_uri": "https://localhost:8080/"
        },
        "outputId": "37b14374-f200-4782-8782-e9256dc6761b",
        "id": "-xPrw85LM3VX"
      },
      "execution_count": null,
      "outputs": [
        {
          "output_type": "stream",
          "name": "stdout",
          "text": [
            "Epoch 1/10\n",
            "188/188 [==============================] - 146s 777ms/step - loss: 0.6765 - accuracy: 0.9059 - val_loss: 0.0947 - val_accuracy: 0.9711\n",
            "Epoch 2/10\n",
            "188/188 [==============================] - 149s 795ms/step - loss: 0.0687 - accuracy: 0.9789 - val_loss: 0.0740 - val_accuracy: 0.9766\n",
            "Epoch 3/10\n",
            "188/188 [==============================] - 158s 839ms/step - loss: 0.0488 - accuracy: 0.9845 - val_loss: 0.0700 - val_accuracy: 0.9785\n",
            "Epoch 4/10\n",
            "188/188 [==============================] - 148s 789ms/step - loss: 0.0394 - accuracy: 0.9878 - val_loss: 0.0718 - val_accuracy: 0.9778\n",
            "Epoch 5/10\n",
            "188/188 [==============================] - 148s 785ms/step - loss: 0.0277 - accuracy: 0.9911 - val_loss: 0.0627 - val_accuracy: 0.9818\n",
            "Epoch 6/10\n",
            "188/188 [==============================] - 147s 784ms/step - loss: 0.0241 - accuracy: 0.9915 - val_loss: 0.0713 - val_accuracy: 0.9801\n",
            "Epoch 7/10\n",
            "188/188 [==============================] - 145s 772ms/step - loss: 0.0205 - accuracy: 0.9928 - val_loss: 0.0734 - val_accuracy: 0.9825\n",
            "Epoch 8/10\n",
            "188/188 [==============================] - 147s 782ms/step - loss: 0.0183 - accuracy: 0.9939 - val_loss: 0.0794 - val_accuracy: 0.9822\n",
            "Epoch 9/10\n",
            "188/188 [==============================] - 147s 780ms/step - loss: 0.0157 - accuracy: 0.9946 - val_loss: 0.0838 - val_accuracy: 0.9825\n",
            "Epoch 10/10\n",
            "188/188 [==============================] - 147s 784ms/step - loss: 0.0116 - accuracy: 0.9960 - val_loss: 0.0882 - val_accuracy: 0.9819\n"
          ]
        }
      ]
    },
    {
      "metadata": {
        "colab": {
          "base_uri": "https://localhost:8080/"
        },
        "outputId": "812d2788-9c99-4259-81fb-1581fe816d95",
        "id": "A9MUOqVBM3VX"
      },
      "cell_type": "code",
      "source": [
        "print('Total training time {} seconds'.format(end - start))\n"
      ],
      "execution_count": null,
      "outputs": [
        {
          "output_type": "stream",
          "name": "stdout",
          "text": [
            "Total training time 1522.4479818344116 seconds\n"
          ]
        }
      ]
    },
    {
      "cell_type": "code",
      "source": [
        "test_loss, test_acc = model.evaluate(X_test,y_test_one_hot)\n",
        "\n",
        "batch_df['CPU'][batch_df['batch size']==256]=round(end-start, 2)\n",
        "batch_df['CAcc'][batch_df['batch size']==256]=round(test_acc, 3)\n",
        "batch_df['CLoss'][batch_df['batch size']==256]=round(test_loss, 3)\n",
        "batch_df"
      ],
      "metadata": {
        "colab": {
          "base_uri": "https://localhost:8080/",
          "height": 429
        },
        "outputId": "6e5b7edd-b805-44fe-d978-a1874bf07c58",
        "id": "k-M4ZDDZM3VX"
      },
      "execution_count": null,
      "outputs": [
        {
          "output_type": "stream",
          "name": "stdout",
          "text": [
            "313/313 [==============================] - 8s 24ms/step - loss: 0.0754 - accuracy: 0.9811\n"
          ]
        },
        {
          "output_type": "stream",
          "name": "stderr",
          "text": [
            "<ipython-input-69-f9b24f5eebfe>:3: SettingWithCopyWarning: \n",
            "A value is trying to be set on a copy of a slice from a DataFrame\n",
            "\n",
            "See the caveats in the documentation: https://pandas.pydata.org/pandas-docs/stable/user_guide/indexing.html#returning-a-view-versus-a-copy\n",
            "  batch_df['CPU'][batch_df['batch size']==256]=round(end-start, 2)\n",
            "<ipython-input-69-f9b24f5eebfe>:4: SettingWithCopyWarning: \n",
            "A value is trying to be set on a copy of a slice from a DataFrame\n",
            "\n",
            "See the caveats in the documentation: https://pandas.pydata.org/pandas-docs/stable/user_guide/indexing.html#returning-a-view-versus-a-copy\n",
            "  batch_df['CAcc'][batch_df['batch size']==256]=round(test_acc, 3)\n",
            "<ipython-input-69-f9b24f5eebfe>:5: SettingWithCopyWarning: \n",
            "A value is trying to be set on a copy of a slice from a DataFrame\n",
            "\n",
            "See the caveats in the documentation: https://pandas.pydata.org/pandas-docs/stable/user_guide/indexing.html#returning-a-view-versus-a-copy\n",
            "  batch_df['CLoss'][batch_df['batch size']==256]=round(test_loss, 3)\n"
          ]
        },
        {
          "output_type": "execute_result",
          "data": {
            "text/plain": [
              "   Unnamed: 0  batch size    GPU  GAcc  GLoss      CPU   CAcc  CLoss\n",
              "0           0        1024  22.48  0.98   0.07  1462.63  0.979  0.075\n",
              "1           1         512  42.03  0.98   0.07  1462.46  0.983   0.07\n",
              "2           2         256  41.39  0.98   0.08  1522.45  0.981  0.075"
            ],
            "text/html": [
              "\n",
              "  <div id=\"df-445faceb-9089-403c-9b7e-6c937178da76\">\n",
              "    <div class=\"colab-df-container\">\n",
              "      <div>\n",
              "<style scoped>\n",
              "    .dataframe tbody tr th:only-of-type {\n",
              "        vertical-align: middle;\n",
              "    }\n",
              "\n",
              "    .dataframe tbody tr th {\n",
              "        vertical-align: top;\n",
              "    }\n",
              "\n",
              "    .dataframe thead th {\n",
              "        text-align: right;\n",
              "    }\n",
              "</style>\n",
              "<table border=\"1\" class=\"dataframe\">\n",
              "  <thead>\n",
              "    <tr style=\"text-align: right;\">\n",
              "      <th></th>\n",
              "      <th>Unnamed: 0</th>\n",
              "      <th>batch size</th>\n",
              "      <th>GPU</th>\n",
              "      <th>GAcc</th>\n",
              "      <th>GLoss</th>\n",
              "      <th>CPU</th>\n",
              "      <th>CAcc</th>\n",
              "      <th>CLoss</th>\n",
              "    </tr>\n",
              "  </thead>\n",
              "  <tbody>\n",
              "    <tr>\n",
              "      <th>0</th>\n",
              "      <td>0</td>\n",
              "      <td>1024</td>\n",
              "      <td>22.48</td>\n",
              "      <td>0.98</td>\n",
              "      <td>0.07</td>\n",
              "      <td>1462.63</td>\n",
              "      <td>0.979</td>\n",
              "      <td>0.075</td>\n",
              "    </tr>\n",
              "    <tr>\n",
              "      <th>1</th>\n",
              "      <td>1</td>\n",
              "      <td>512</td>\n",
              "      <td>42.03</td>\n",
              "      <td>0.98</td>\n",
              "      <td>0.07</td>\n",
              "      <td>1462.46</td>\n",
              "      <td>0.983</td>\n",
              "      <td>0.07</td>\n",
              "    </tr>\n",
              "    <tr>\n",
              "      <th>2</th>\n",
              "      <td>2</td>\n",
              "      <td>256</td>\n",
              "      <td>41.39</td>\n",
              "      <td>0.98</td>\n",
              "      <td>0.08</td>\n",
              "      <td>1522.45</td>\n",
              "      <td>0.981</td>\n",
              "      <td>0.075</td>\n",
              "    </tr>\n",
              "  </tbody>\n",
              "</table>\n",
              "</div>\n",
              "      <button class=\"colab-df-convert\" onclick=\"convertToInteractive('df-445faceb-9089-403c-9b7e-6c937178da76')\"\n",
              "              title=\"Convert this dataframe to an interactive table.\"\n",
              "              style=\"display:none;\">\n",
              "        \n",
              "  <svg xmlns=\"http://www.w3.org/2000/svg\" height=\"24px\"viewBox=\"0 0 24 24\"\n",
              "       width=\"24px\">\n",
              "    <path d=\"M0 0h24v24H0V0z\" fill=\"none\"/>\n",
              "    <path d=\"M18.56 5.44l.94 2.06.94-2.06 2.06-.94-2.06-.94-.94-2.06-.94 2.06-2.06.94zm-11 1L8.5 8.5l.94-2.06 2.06-.94-2.06-.94L8.5 2.5l-.94 2.06-2.06.94zm10 10l.94 2.06.94-2.06 2.06-.94-2.06-.94-.94-2.06-.94 2.06-2.06.94z\"/><path d=\"M17.41 7.96l-1.37-1.37c-.4-.4-.92-.59-1.43-.59-.52 0-1.04.2-1.43.59L10.3 9.45l-7.72 7.72c-.78.78-.78 2.05 0 2.83L4 21.41c.39.39.9.59 1.41.59.51 0 1.02-.2 1.41-.59l7.78-7.78 2.81-2.81c.8-.78.8-2.07 0-2.86zM5.41 20L4 18.59l7.72-7.72 1.47 1.35L5.41 20z\"/>\n",
              "  </svg>\n",
              "      </button>\n",
              "      \n",
              "  <style>\n",
              "    .colab-df-container {\n",
              "      display:flex;\n",
              "      flex-wrap:wrap;\n",
              "      gap: 12px;\n",
              "    }\n",
              "\n",
              "    .colab-df-convert {\n",
              "      background-color: #E8F0FE;\n",
              "      border: none;\n",
              "      border-radius: 50%;\n",
              "      cursor: pointer;\n",
              "      display: none;\n",
              "      fill: #1967D2;\n",
              "      height: 32px;\n",
              "      padding: 0 0 0 0;\n",
              "      width: 32px;\n",
              "    }\n",
              "\n",
              "    .colab-df-convert:hover {\n",
              "      background-color: #E2EBFA;\n",
              "      box-shadow: 0px 1px 2px rgba(60, 64, 67, 0.3), 0px 1px 3px 1px rgba(60, 64, 67, 0.15);\n",
              "      fill: #174EA6;\n",
              "    }\n",
              "\n",
              "    [theme=dark] .colab-df-convert {\n",
              "      background-color: #3B4455;\n",
              "      fill: #D2E3FC;\n",
              "    }\n",
              "\n",
              "    [theme=dark] .colab-df-convert:hover {\n",
              "      background-color: #434B5C;\n",
              "      box-shadow: 0px 1px 3px 1px rgba(0, 0, 0, 0.15);\n",
              "      filter: drop-shadow(0px 1px 2px rgba(0, 0, 0, 0.3));\n",
              "      fill: #FFFFFF;\n",
              "    }\n",
              "  </style>\n",
              "\n",
              "      <script>\n",
              "        const buttonEl =\n",
              "          document.querySelector('#df-445faceb-9089-403c-9b7e-6c937178da76 button.colab-df-convert');\n",
              "        buttonEl.style.display =\n",
              "          google.colab.kernel.accessAllowed ? 'block' : 'none';\n",
              "\n",
              "        async function convertToInteractive(key) {\n",
              "          const element = document.querySelector('#df-445faceb-9089-403c-9b7e-6c937178da76');\n",
              "          const dataTable =\n",
              "            await google.colab.kernel.invokeFunction('convertToInteractive',\n",
              "                                                     [key], {});\n",
              "          if (!dataTable) return;\n",
              "\n",
              "          const docLinkHtml = 'Like what you see? Visit the ' +\n",
              "            '<a target=\"_blank\" href=https://colab.research.google.com/notebooks/data_table.ipynb>data table notebook</a>'\n",
              "            + ' to learn more about interactive tables.';\n",
              "          element.innerHTML = '';\n",
              "          dataTable['output_type'] = 'display_data';\n",
              "          await google.colab.output.renderOutput(dataTable, element);\n",
              "          const docLink = document.createElement('div');\n",
              "          docLink.innerHTML = docLinkHtml;\n",
              "          element.appendChild(docLink);\n",
              "        }\n",
              "      </script>\n",
              "    </div>\n",
              "  </div>\n",
              "  "
            ]
          },
          "metadata": {},
          "execution_count": 69
        }
      ]
    },
    {
      "cell_type": "markdown",
      "source": [
        "# Units for batch size =1024\n",
        "\n"
      ],
      "metadata": {
        "id": "TjaZnzZy9TMb"
      }
    },
    {
      "cell_type": "markdown",
      "source": [
        "## Unit=8"
      ],
      "metadata": {
        "id": "8ppNUGUS9Y2B"
      }
    },
    {
      "cell_type": "code",
      "source": [
        "# Build the CNN model\n",
        "model = Sequential()\n",
        "# Add model layers\n",
        "\n",
        "model.add(Conv2D(8, kernel_size=3, activation = 'relu', input_shape=(28,28,1)))\n",
        "#model.add(Conv2D(32, kernel_size=3, activation='relu'))\n",
        "model.add(MaxPool2D(pool_size=(2, 2), strides=None, padding='valid', data_format=None))\n",
        "model.add(Flatten())\n",
        "model.add(Dense(10,activation='softmax'))\n",
        "model.compile(optimizer='adam', loss='categorical_crossentropy', metrics=['accuracy'])"
      ],
      "metadata": {
        "id": "ZIhYCtI29ct_"
      },
      "execution_count": null,
      "outputs": []
    },
    {
      "cell_type": "code",
      "source": [
        "#Train the model\n",
        "start = time()\n",
        "\n",
        "history = model.fit(X_train,y_train_one_hot, validation_data=(X_val,y_val_one_hot),batch_size=1024, epochs=10)\n",
        "\n",
        "end = time()"
      ],
      "metadata": {
        "colab": {
          "base_uri": "https://localhost:8080/"
        },
        "outputId": "90d911f6-a967-44e8-9661-0eb5d4a082b1",
        "id": "5amHnTbr9Y2C"
      },
      "execution_count": null,
      "outputs": [
        {
          "output_type": "stream",
          "name": "stdout",
          "text": [
            "Epoch 1/10\n",
            "47/47 [==============================] - 10s 214ms/step - loss: 15.0654 - accuracy: 0.6036 - val_loss: 3.2018 - val_accuracy: 0.8393\n",
            "Epoch 2/10\n",
            "47/47 [==============================] - 10s 215ms/step - loss: 2.5056 - accuracy: 0.8657 - val_loss: 1.8880 - val_accuracy: 0.8863\n",
            "Epoch 3/10\n",
            "47/47 [==============================] - 10s 211ms/step - loss: 1.5660 - accuracy: 0.8977 - val_loss: 1.2884 - val_accuracy: 0.9108\n",
            "Epoch 4/10\n",
            "47/47 [==============================] - 10s 210ms/step - loss: 1.0623 - accuracy: 0.9209 - val_loss: 0.9848 - val_accuracy: 0.9244\n",
            "Epoch 5/10\n",
            "47/47 [==============================] - 10s 213ms/step - loss: 0.7916 - accuracy: 0.9344 - val_loss: 0.8378 - val_accuracy: 0.9309\n",
            "Epoch 6/10\n",
            "47/47 [==============================] - 10s 210ms/step - loss: 0.6221 - accuracy: 0.9434 - val_loss: 0.7393 - val_accuracy: 0.9376\n",
            "Epoch 7/10\n",
            "47/47 [==============================] - 10s 210ms/step - loss: 0.5069 - accuracy: 0.9507 - val_loss: 0.6378 - val_accuracy: 0.9434\n",
            "Epoch 8/10\n",
            "47/47 [==============================] - 11s 227ms/step - loss: 0.4309 - accuracy: 0.9557 - val_loss: 0.5873 - val_accuracy: 0.9446\n",
            "Epoch 9/10\n",
            "47/47 [==============================] - 11s 239ms/step - loss: 0.3662 - accuracy: 0.9604 - val_loss: 0.5476 - val_accuracy: 0.9475\n",
            "Epoch 10/10\n",
            "47/47 [==============================] - 10s 209ms/step - loss: 0.3178 - accuracy: 0.9629 - val_loss: 0.4882 - val_accuracy: 0.9524\n"
          ]
        }
      ]
    },
    {
      "metadata": {
        "colab": {
          "base_uri": "https://localhost:8080/"
        },
        "outputId": "891a0de1-beef-4ac4-bdb4-cf113ff4edea",
        "id": "UTMUO3z69Y2C"
      },
      "cell_type": "code",
      "source": [
        "print('Total training time {} seconds'.format(end - start))"
      ],
      "execution_count": null,
      "outputs": [
        {
          "output_type": "stream",
          "name": "stdout",
          "text": [
            "Total training time 142.40220665931702 seconds\n"
          ]
        }
      ]
    },
    {
      "cell_type": "code",
      "source": [
        "test_loss, test_acc = model.evaluate(X_test,y_test_one_hot)\n",
        "\n",
        "unit_df['CPU'][unit_df['Units']==8]=round(end-start, 2)\n",
        "unit_df['CAcc'][unit_df['Units']==8]=round(test_acc, 3)\n",
        "unit_df['CLoss'][unit_df['Units']==8]=round(test_loss, 3)"
      ],
      "metadata": {
        "colab": {
          "base_uri": "https://localhost:8080/"
        },
        "outputId": "c4bb6998-6530-479d-e1bc-a224a799dc93",
        "id": "aCovEecL9Y2D"
      },
      "execution_count": null,
      "outputs": [
        {
          "output_type": "stream",
          "name": "stdout",
          "text": [
            "313/313 [==============================] - 2s 7ms/step - loss: 0.4622 - accuracy: 0.9519\n"
          ]
        },
        {
          "output_type": "stream",
          "name": "stderr",
          "text": [
            "<ipython-input-73-b384006591e5>:3: SettingWithCopyWarning: \n",
            "A value is trying to be set on a copy of a slice from a DataFrame\n",
            "\n",
            "See the caveats in the documentation: https://pandas.pydata.org/pandas-docs/stable/user_guide/indexing.html#returning-a-view-versus-a-copy\n",
            "  unit_df['CPU'][unit_df['Units']==8]=round(end-start, 2)\n",
            "<ipython-input-73-b384006591e5>:4: SettingWithCopyWarning: \n",
            "A value is trying to be set on a copy of a slice from a DataFrame\n",
            "\n",
            "See the caveats in the documentation: https://pandas.pydata.org/pandas-docs/stable/user_guide/indexing.html#returning-a-view-versus-a-copy\n",
            "  unit_df['CAcc'][unit_df['Units']==8]=round(test_acc, 3)\n",
            "<ipython-input-73-b384006591e5>:5: SettingWithCopyWarning: \n",
            "A value is trying to be set on a copy of a slice from a DataFrame\n",
            "\n",
            "See the caveats in the documentation: https://pandas.pydata.org/pandas-docs/stable/user_guide/indexing.html#returning-a-view-versus-a-copy\n",
            "  unit_df['CLoss'][unit_df['Units']==8]=round(test_loss, 3)\n"
          ]
        }
      ]
    },
    {
      "cell_type": "markdown",
      "source": [
        "## Unit=16"
      ],
      "metadata": {
        "id": "aerdDosy_ZKp"
      }
    },
    {
      "cell_type": "code",
      "source": [
        "# Build the CNN model\n",
        "model = Sequential()\n",
        "# Add model layers\n",
        "\n",
        "model.add(Conv2D(16, kernel_size=3, activation = 'relu', input_shape=(28,28,1)))\n",
        "model.add(MaxPool2D(pool_size=(2, 2), strides=None, padding='valid', data_format=None))\n",
        "model.add(Flatten())\n",
        "model.add(Dense(10,activation='softmax'))\n",
        "model.compile(optimizer='adam', loss='categorical_crossentropy', metrics=['accuracy'])"
      ],
      "metadata": {
        "id": "t-zBR5x-_ZK3"
      },
      "execution_count": null,
      "outputs": []
    },
    {
      "cell_type": "code",
      "source": [
        "#Train the model\n",
        "start = time()\n",
        "\n",
        "history = model.fit(X_train,y_train_one_hot, validation_data=(X_val,y_val_one_hot),batch_size=1024, epochs=10)\n",
        "\n",
        "end = time()"
      ],
      "metadata": {
        "colab": {
          "base_uri": "https://localhost:8080/"
        },
        "outputId": "3706c2a1-6294-4e2b-efce-a553cce82360",
        "id": "SBFbpUY6_ZK4"
      },
      "execution_count": null,
      "outputs": [
        {
          "output_type": "stream",
          "name": "stdout",
          "text": [
            "Epoch 1/10\n",
            "47/47 [==============================] - 13s 269ms/step - loss: 9.3146 - accuracy: 0.7254 - val_loss: 2.3035 - val_accuracy: 0.8929\n",
            "Epoch 2/10\n",
            "47/47 [==============================] - 13s 269ms/step - loss: 1.7240 - accuracy: 0.9031 - val_loss: 1.3449 - val_accuracy: 0.9169\n",
            "Epoch 3/10\n",
            "47/47 [==============================] - 12s 266ms/step - loss: 1.0489 - accuracy: 0.9223 - val_loss: 0.9822 - val_accuracy: 0.9273\n",
            "Epoch 4/10\n",
            "47/47 [==============================] - 12s 266ms/step - loss: 0.7410 - accuracy: 0.9329 - val_loss: 0.7649 - val_accuracy: 0.9371\n",
            "Epoch 5/10\n",
            "47/47 [==============================] - 12s 265ms/step - loss: 0.5435 - accuracy: 0.9452 - val_loss: 0.6579 - val_accuracy: 0.9404\n",
            "Epoch 6/10\n",
            "47/47 [==============================] - 12s 263ms/step - loss: 0.4291 - accuracy: 0.9521 - val_loss: 0.5443 - val_accuracy: 0.9460\n",
            "Epoch 7/10\n",
            "47/47 [==============================] - 13s 270ms/step - loss: 0.3502 - accuracy: 0.9574 - val_loss: 0.4921 - val_accuracy: 0.9489\n",
            "Epoch 8/10\n",
            "47/47 [==============================] - 12s 265ms/step - loss: 0.2957 - accuracy: 0.9621 - val_loss: 0.4444 - val_accuracy: 0.9527\n",
            "Epoch 9/10\n",
            "47/47 [==============================] - 13s 268ms/step - loss: 0.2413 - accuracy: 0.9658 - val_loss: 0.4063 - val_accuracy: 0.9538\n",
            "Epoch 10/10\n",
            "47/47 [==============================] - 14s 309ms/step - loss: 0.2066 - accuracy: 0.9694 - val_loss: 0.3813 - val_accuracy: 0.9580\n"
          ]
        }
      ]
    },
    {
      "metadata": {
        "colab": {
          "base_uri": "https://localhost:8080/"
        },
        "outputId": "ed87d68f-4ebf-45d4-c6e6-c6a81be64c4f",
        "id": "XsyXgKdH_ZK4"
      },
      "cell_type": "code",
      "source": [
        "print('Total training time {} seconds'.format(end - start))"
      ],
      "execution_count": null,
      "outputs": [
        {
          "output_type": "stream",
          "name": "stdout",
          "text": [
            "Total training time 127.70832872390747 seconds\n"
          ]
        }
      ]
    },
    {
      "cell_type": "code",
      "source": [
        "test_loss, test_acc = model.evaluate(X_test,y_test_one_hot)\n",
        "\n",
        "unit_df['CPU'][unit_df['Units']==16]=round(end-start, 2)\n",
        "unit_df['CAcc'][unit_df['Units']==16]=round(test_acc, 3)\n",
        "unit_df['CLoss'][unit_df['Units']==16]=round(test_loss, 3)"
      ],
      "metadata": {
        "colab": {
          "base_uri": "https://localhost:8080/"
        },
        "outputId": "d642b1c3-53ff-4cea-cfd1-0ea6ffd018e2",
        "id": "h-RYgTKG_ZK4"
      },
      "execution_count": null,
      "outputs": [
        {
          "output_type": "stream",
          "name": "stdout",
          "text": [
            "313/313 [==============================] - 2s 7ms/step - loss: 0.3533 - accuracy: 0.9613\n"
          ]
        },
        {
          "output_type": "stream",
          "name": "stderr",
          "text": [
            "<ipython-input-77-d443bd7aaab8>:3: SettingWithCopyWarning: \n",
            "A value is trying to be set on a copy of a slice from a DataFrame\n",
            "\n",
            "See the caveats in the documentation: https://pandas.pydata.org/pandas-docs/stable/user_guide/indexing.html#returning-a-view-versus-a-copy\n",
            "  unit_df['CPU'][unit_df['Units']==16]=round(end-start, 2)\n",
            "<ipython-input-77-d443bd7aaab8>:4: SettingWithCopyWarning: \n",
            "A value is trying to be set on a copy of a slice from a DataFrame\n",
            "\n",
            "See the caveats in the documentation: https://pandas.pydata.org/pandas-docs/stable/user_guide/indexing.html#returning-a-view-versus-a-copy\n",
            "  unit_df['CAcc'][unit_df['Units']==16]=round(test_acc, 3)\n",
            "<ipython-input-77-d443bd7aaab8>:5: SettingWithCopyWarning: \n",
            "A value is trying to be set on a copy of a slice from a DataFrame\n",
            "\n",
            "See the caveats in the documentation: https://pandas.pydata.org/pandas-docs/stable/user_guide/indexing.html#returning-a-view-versus-a-copy\n",
            "  unit_df['CLoss'][unit_df['Units']==16]=round(test_loss, 3)\n"
          ]
        }
      ]
    },
    {
      "cell_type": "markdown",
      "source": [
        "## Unit=32"
      ],
      "metadata": {
        "id": "HJw1r5pZ_lWl"
      }
    },
    {
      "cell_type": "code",
      "source": [
        "# Build the CNN model\n",
        "model = Sequential()\n",
        "# Add model layers\n",
        "\n",
        "model.add(Conv2D(32, kernel_size=3, activation = 'relu', input_shape=(28,28,1)))\n",
        "model.add(MaxPool2D(pool_size=(2, 2), strides=None, padding='valid', data_format=None))\n",
        "model.add(Flatten())\n",
        "model.add(Dense(10,activation='softmax'))\n",
        "model.compile(optimizer='adam', loss='categorical_crossentropy', metrics=['accuracy'])"
      ],
      "metadata": {
        "id": "aD1RwcQe_lWm"
      },
      "execution_count": null,
      "outputs": []
    },
    {
      "cell_type": "code",
      "source": [
        "#Train the model\n",
        "start = time()\n",
        "\n",
        "history = model.fit(X_train,y_train_one_hot, validation_data=(X_val,y_val_one_hot),batch_size=1024, epochs=10)\n",
        "\n",
        "end = time()"
      ],
      "metadata": {
        "colab": {
          "base_uri": "https://localhost:8080/"
        },
        "outputId": "f511ebdc-57ba-49e5-8caa-51cc775e6caa",
        "id": "fNEwr4KV_lWm"
      },
      "execution_count": null,
      "outputs": [
        {
          "output_type": "stream",
          "name": "stdout",
          "text": [
            "Epoch 1/10\n",
            "47/47 [==============================] - 18s 377ms/step - loss: 5.4618 - accuracy: 0.7843 - val_loss: 1.1151 - val_accuracy: 0.9184\n",
            "Epoch 2/10\n",
            "47/47 [==============================] - 17s 369ms/step - loss: 0.6709 - accuracy: 0.9389 - val_loss: 0.4919 - val_accuracy: 0.9479\n",
            "Epoch 3/10\n",
            "47/47 [==============================] - 18s 374ms/step - loss: 0.3095 - accuracy: 0.9604 - val_loss: 0.3195 - val_accuracy: 0.9581\n",
            "Epoch 4/10\n",
            "47/47 [==============================] - 18s 373ms/step - loss: 0.1981 - accuracy: 0.9701 - val_loss: 0.2715 - val_accuracy: 0.9620\n",
            "Epoch 5/10\n",
            "47/47 [==============================] - 17s 373ms/step - loss: 0.1397 - accuracy: 0.9761 - val_loss: 0.2496 - val_accuracy: 0.9629\n",
            "Epoch 6/10\n",
            "47/47 [==============================] - 18s 377ms/step - loss: 0.1050 - accuracy: 0.9793 - val_loss: 0.2279 - val_accuracy: 0.9668\n",
            "Epoch 7/10\n",
            "47/47 [==============================] - 17s 371ms/step - loss: 0.0820 - accuracy: 0.9821 - val_loss: 0.2101 - val_accuracy: 0.9673\n",
            "Epoch 8/10\n",
            "47/47 [==============================] - 18s 378ms/step - loss: 0.0605 - accuracy: 0.9858 - val_loss: 0.2125 - val_accuracy: 0.9678\n",
            "Epoch 9/10\n",
            "47/47 [==============================] - 17s 370ms/step - loss: 0.0466 - accuracy: 0.9886 - val_loss: 0.1931 - val_accuracy: 0.9703\n",
            "Epoch 10/10\n",
            "47/47 [==============================] - 20s 419ms/step - loss: 0.0373 - accuracy: 0.9905 - val_loss: 0.1917 - val_accuracy: 0.9704\n"
          ]
        }
      ]
    },
    {
      "metadata": {
        "colab": {
          "base_uri": "https://localhost:8080/"
        },
        "outputId": "c8bf84b9-40a0-4b0b-8dbc-de4962feab25",
        "id": "EnflNmRK_lWm"
      },
      "cell_type": "code",
      "source": [
        "print('Total training time {} seconds'.format(end - start))"
      ],
      "execution_count": null,
      "outputs": [
        {
          "output_type": "stream",
          "name": "stdout",
          "text": [
            "Total training time 177.92473459243774 seconds\n"
          ]
        }
      ]
    },
    {
      "cell_type": "code",
      "source": [
        "test_loss, test_acc = model.evaluate(X_test,y_test_one_hot)\n",
        "\n",
        "unit_df['CPU'][unit_df['Units']==32]=round(end-start, 2)\n",
        "unit_df['CAcc'][unit_df['Units']==32]=round(test_acc, 3)\n",
        "unit_df['CLoss'][unit_df['Units']==32]=round(test_loss, 3)"
      ],
      "metadata": {
        "colab": {
          "base_uri": "https://localhost:8080/"
        },
        "outputId": "87749c4a-5297-4c31-f3b0-400bf276029b",
        "id": "XBcHiSPO_lWm"
      },
      "execution_count": null,
      "outputs": [
        {
          "output_type": "stream",
          "name": "stdout",
          "text": [
            "313/313 [==============================] - 2s 8ms/step - loss: 0.1980 - accuracy: 0.9717\n"
          ]
        },
        {
          "output_type": "stream",
          "name": "stderr",
          "text": [
            "<ipython-input-81-ff427a4721e6>:3: SettingWithCopyWarning: \n",
            "A value is trying to be set on a copy of a slice from a DataFrame\n",
            "\n",
            "See the caveats in the documentation: https://pandas.pydata.org/pandas-docs/stable/user_guide/indexing.html#returning-a-view-versus-a-copy\n",
            "  unit_df['CPU'][unit_df['Units']==32]=round(end-start, 2)\n",
            "<ipython-input-81-ff427a4721e6>:4: SettingWithCopyWarning: \n",
            "A value is trying to be set on a copy of a slice from a DataFrame\n",
            "\n",
            "See the caveats in the documentation: https://pandas.pydata.org/pandas-docs/stable/user_guide/indexing.html#returning-a-view-versus-a-copy\n",
            "  unit_df['CAcc'][unit_df['Units']==32]=round(test_acc, 3)\n",
            "<ipython-input-81-ff427a4721e6>:5: SettingWithCopyWarning: \n",
            "A value is trying to be set on a copy of a slice from a DataFrame\n",
            "\n",
            "See the caveats in the documentation: https://pandas.pydata.org/pandas-docs/stable/user_guide/indexing.html#returning-a-view-versus-a-copy\n",
            "  unit_df['CLoss'][unit_df['Units']==32]=round(test_loss, 3)\n"
          ]
        }
      ]
    },
    {
      "cell_type": "markdown",
      "source": [
        "## Unit=64"
      ],
      "metadata": {
        "id": "yAwcm_Mm_u2E"
      }
    },
    {
      "cell_type": "code",
      "source": [
        "# Build the CNN model\n",
        "model = Sequential()\n",
        "# Add model layers\n",
        "\n",
        "model.add(Conv2D(64, kernel_size=3, activation = 'relu', input_shape=(28,28,1)))\n",
        "#model.add(Conv2D(32, kernel_size=3, activation='relu'))\n",
        "model.add(MaxPool2D(pool_size=(2, 2), strides=None, padding='valid', data_format=None))\n",
        "model.add(Flatten())\n",
        "model.add(Dense(10,activation='softmax'))\n",
        "model.compile(optimizer='adam', loss='categorical_crossentropy', metrics=['accuracy'])"
      ],
      "metadata": {
        "id": "j_oC7c-r_u2F"
      },
      "execution_count": null,
      "outputs": []
    },
    {
      "cell_type": "code",
      "source": [
        "#Train the model\n",
        "start = time()\n",
        "\n",
        "history = model.fit(X_train,y_train_one_hot, validation_data=(X_val,y_val_one_hot),batch_size=1024, epochs=10)\n",
        "\n",
        "end = time()"
      ],
      "metadata": {
        "colab": {
          "base_uri": "https://localhost:8080/"
        },
        "outputId": "18b9e42f-db0c-4ba5-acdd-bc15eeaa50be",
        "id": "R_6UAE15_u2F"
      },
      "execution_count": null,
      "outputs": [
        {
          "output_type": "stream",
          "name": "stdout",
          "text": [
            "Epoch 1/10\n",
            "47/47 [==============================] - 29s 613ms/step - loss: 7.5230 - accuracy: 0.7626 - val_loss: 1.1082 - val_accuracy: 0.9237\n",
            "Epoch 2/10\n",
            "47/47 [==============================] - 28s 604ms/step - loss: 0.6388 - accuracy: 0.9419 - val_loss: 0.4017 - val_accuracy: 0.9557\n",
            "Epoch 3/10\n",
            "47/47 [==============================] - 29s 609ms/step - loss: 0.2575 - accuracy: 0.9661 - val_loss: 0.2502 - val_accuracy: 0.9653\n",
            "Epoch 4/10\n",
            "47/47 [==============================] - 28s 603ms/step - loss: 0.1514 - accuracy: 0.9748 - val_loss: 0.2002 - val_accuracy: 0.9684\n",
            "Epoch 5/10\n",
            "47/47 [==============================] - 28s 606ms/step - loss: 0.0980 - accuracy: 0.9801 - val_loss: 0.1769 - val_accuracy: 0.9711\n",
            "Epoch 6/10\n",
            "47/47 [==============================] - 29s 611ms/step - loss: 0.0677 - accuracy: 0.9846 - val_loss: 0.1663 - val_accuracy: 0.9724\n",
            "Epoch 7/10\n",
            "47/47 [==============================] - 30s 646ms/step - loss: 0.0489 - accuracy: 0.9880 - val_loss: 0.1579 - val_accuracy: 0.9738\n",
            "Epoch 8/10\n",
            "47/47 [==============================] - 28s 600ms/step - loss: 0.0363 - accuracy: 0.9903 - val_loss: 0.1460 - val_accuracy: 0.9749\n",
            "Epoch 9/10\n",
            "47/47 [==============================] - 29s 609ms/step - loss: 0.0288 - accuracy: 0.9919 - val_loss: 0.1549 - val_accuracy: 0.9733\n",
            "Epoch 10/10\n",
            "47/47 [==============================] - 28s 603ms/step - loss: 0.0220 - accuracy: 0.9935 - val_loss: 0.1440 - val_accuracy: 0.9760\n"
          ]
        }
      ]
    },
    {
      "metadata": {
        "colab": {
          "base_uri": "https://localhost:8080/"
        },
        "outputId": "64a4a1de-78ae-422d-d127-a7e379f9957b",
        "id": "1IR7sCYs_u2F"
      },
      "cell_type": "code",
      "source": [
        "print('Total training time {} seconds'.format(end - start))"
      ],
      "execution_count": null,
      "outputs": [
        {
          "output_type": "stream",
          "name": "stdout",
          "text": [
            "Total training time 287.22005438804626 seconds\n"
          ]
        }
      ]
    },
    {
      "cell_type": "code",
      "source": [
        "test_loss, test_acc = model.evaluate(X_test,y_test_one_hot)\n",
        "\n",
        "unit_df['CPU'][unit_df['Units']==64]=round(end-start, 2)\n",
        "unit_df['CAcc'][unit_df['Units']==64]=round(test_acc, 3)\n",
        "unit_df['CLoss'][unit_df['Units']==64]=round(test_loss, 3)"
      ],
      "metadata": {
        "colab": {
          "base_uri": "https://localhost:8080/"
        },
        "outputId": "b0c0a5e5-fb89-4f2e-83a6-5b5b2feaff16",
        "id": "IY5rMhUW_u2G"
      },
      "execution_count": null,
      "outputs": [
        {
          "output_type": "stream",
          "name": "stdout",
          "text": [
            "313/313 [==============================] - 3s 9ms/step - loss: 0.1338 - accuracy: 0.9747\n"
          ]
        },
        {
          "output_type": "stream",
          "name": "stderr",
          "text": [
            "<ipython-input-85-21b87699a9c9>:3: SettingWithCopyWarning: \n",
            "A value is trying to be set on a copy of a slice from a DataFrame\n",
            "\n",
            "See the caveats in the documentation: https://pandas.pydata.org/pandas-docs/stable/user_guide/indexing.html#returning-a-view-versus-a-copy\n",
            "  unit_df['CPU'][unit_df['Units']==64]=round(end-start, 2)\n",
            "<ipython-input-85-21b87699a9c9>:4: SettingWithCopyWarning: \n",
            "A value is trying to be set on a copy of a slice from a DataFrame\n",
            "\n",
            "See the caveats in the documentation: https://pandas.pydata.org/pandas-docs/stable/user_guide/indexing.html#returning-a-view-versus-a-copy\n",
            "  unit_df['CAcc'][unit_df['Units']==64]=round(test_acc, 3)\n",
            "<ipython-input-85-21b87699a9c9>:5: SettingWithCopyWarning: \n",
            "A value is trying to be set on a copy of a slice from a DataFrame\n",
            "\n",
            "See the caveats in the documentation: https://pandas.pydata.org/pandas-docs/stable/user_guide/indexing.html#returning-a-view-versus-a-copy\n",
            "  unit_df['CLoss'][unit_df['Units']==64]=round(test_loss, 3)\n"
          ]
        }
      ]
    },
    {
      "cell_type": "markdown",
      "source": [
        "## Unit=128"
      ],
      "metadata": {
        "id": "3qkmmbrc_yja"
      }
    },
    {
      "cell_type": "code",
      "source": [
        "# Build the CNN model\n",
        "model = Sequential()\n",
        "# Add model layers\n",
        "\n",
        "model.add(Conv2D(128, kernel_size=3, activation = 'relu', input_shape=(28,28,1)))\n",
        "#model.add(Conv2D(32, kernel_size=3, activation='relu'))\n",
        "model.add(MaxPool2D(pool_size=(2, 2), strides=None, padding='valid', data_format=None))\n",
        "model.add(Flatten())\n",
        "model.add(Dense(10,activation='softmax'))\n",
        "model.compile(optimizer='adam', loss='categorical_crossentropy', metrics=['accuracy'])"
      ],
      "metadata": {
        "id": "8EpJ5uiK_yja"
      },
      "execution_count": null,
      "outputs": []
    },
    {
      "cell_type": "code",
      "source": [
        "#Train the model\n",
        "start = time()\n",
        "\n",
        "history = model.fit(X_train,y_train_one_hot, validation_data=(X_val,y_val_one_hot),batch_size=1024, epochs=10)\n",
        "\n",
        "end = time()"
      ],
      "metadata": {
        "colab": {
          "base_uri": "https://localhost:8080/"
        },
        "outputId": "13c47210-5bad-45d1-d64c-ecafb48dc7c1",
        "id": "qgCgKInt_yjb"
      },
      "execution_count": null,
      "outputs": [
        {
          "output_type": "stream",
          "name": "stdout",
          "text": [
            "Epoch 1/10\n",
            "47/47 [==============================] - 51s 1s/step - loss: 9.1703 - accuracy: 0.7593 - val_loss: 1.0337 - val_accuracy: 0.9191\n",
            "Epoch 2/10\n",
            "47/47 [==============================] - 52s 1s/step - loss: 0.5585 - accuracy: 0.9435 - val_loss: 0.3241 - val_accuracy: 0.9584\n",
            "Epoch 3/10\n",
            "47/47 [==============================] - 51s 1s/step - loss: 0.1845 - accuracy: 0.9695 - val_loss: 0.1727 - val_accuracy: 0.9706\n",
            "Epoch 4/10\n",
            "47/47 [==============================] - 50s 1s/step - loss: 0.0896 - accuracy: 0.9805 - val_loss: 0.1416 - val_accuracy: 0.9727\n",
            "Epoch 5/10\n",
            "47/47 [==============================] - 51s 1s/step - loss: 0.0561 - accuracy: 0.9858 - val_loss: 0.1183 - val_accuracy: 0.9741\n",
            "Epoch 6/10\n",
            "47/47 [==============================] - 50s 1s/step - loss: 0.0362 - accuracy: 0.9899 - val_loss: 0.1063 - val_accuracy: 0.9768\n",
            "Epoch 7/10\n",
            "47/47 [==============================] - 50s 1s/step - loss: 0.0246 - accuracy: 0.9933 - val_loss: 0.1092 - val_accuracy: 0.9751\n",
            "Epoch 8/10\n",
            "47/47 [==============================] - 49s 1s/step - loss: 0.0177 - accuracy: 0.9952 - val_loss: 0.1036 - val_accuracy: 0.9777\n",
            "Epoch 9/10\n",
            "47/47 [==============================] - 52s 1s/step - loss: 0.0128 - accuracy: 0.9965 - val_loss: 0.1088 - val_accuracy: 0.9768\n",
            "Epoch 10/10\n",
            "47/47 [==============================] - 50s 1s/step - loss: 0.0093 - accuracy: 0.9978 - val_loss: 0.1029 - val_accuracy: 0.9775\n"
          ]
        }
      ]
    },
    {
      "metadata": {
        "colab": {
          "base_uri": "https://localhost:8080/"
        },
        "outputId": "163db54b-22f3-4901-edbd-6afa560fa06c",
        "id": "C1mW9Lji_yjb"
      },
      "cell_type": "code",
      "source": [
        "print('Total training time {} seconds'.format(end - start))"
      ],
      "execution_count": null,
      "outputs": [
        {
          "output_type": "stream",
          "name": "stdout",
          "text": [
            "Total training time 505.2812042236328 seconds\n"
          ]
        }
      ]
    },
    {
      "cell_type": "code",
      "source": [
        "test_loss, test_acc = model.evaluate(X_test,y_test_one_hot)\n",
        "\n",
        "unit_df['CPU'][unit_df['Units']==128]=round(end-start, 2)\n",
        "unit_df['CAcc'][unit_df['Units']==128]=round(test_acc, 3)\n",
        "unit_df['CLoss'][unit_df['Units']==128]=round(test_loss, 3)"
      ],
      "metadata": {
        "colab": {
          "base_uri": "https://localhost:8080/"
        },
        "outputId": "7b3b1b33-3f28-4542-d878-94cb72a4cb25",
        "id": "BavchSee_yjb"
      },
      "execution_count": null,
      "outputs": [
        {
          "output_type": "stream",
          "name": "stdout",
          "text": [
            "313/313 [==============================] - 4s 12ms/step - loss: 0.1015 - accuracy: 0.9792\n"
          ]
        },
        {
          "output_type": "stream",
          "name": "stderr",
          "text": [
            "<ipython-input-89-0eaa9ab72f54>:3: SettingWithCopyWarning: \n",
            "A value is trying to be set on a copy of a slice from a DataFrame\n",
            "\n",
            "See the caveats in the documentation: https://pandas.pydata.org/pandas-docs/stable/user_guide/indexing.html#returning-a-view-versus-a-copy\n",
            "  unit_df['CPU'][unit_df['Units']==128]=round(end-start, 2)\n",
            "<ipython-input-89-0eaa9ab72f54>:4: SettingWithCopyWarning: \n",
            "A value is trying to be set on a copy of a slice from a DataFrame\n",
            "\n",
            "See the caveats in the documentation: https://pandas.pydata.org/pandas-docs/stable/user_guide/indexing.html#returning-a-view-versus-a-copy\n",
            "  unit_df['CAcc'][unit_df['Units']==128]=round(test_acc, 3)\n",
            "<ipython-input-89-0eaa9ab72f54>:5: SettingWithCopyWarning: \n",
            "A value is trying to be set on a copy of a slice from a DataFrame\n",
            "\n",
            "See the caveats in the documentation: https://pandas.pydata.org/pandas-docs/stable/user_guide/indexing.html#returning-a-view-versus-a-copy\n",
            "  unit_df['CLoss'][unit_df['Units']==128]=round(test_loss, 3)\n"
          ]
        }
      ]
    },
    {
      "cell_type": "markdown",
      "source": [
        "## Unit=256"
      ],
      "metadata": {
        "id": "EowMtyC8_1cc"
      }
    },
    {
      "cell_type": "code",
      "source": [
        "# Build the CNN model\n",
        "model = Sequential()\n",
        "# Add model layers\n",
        "\n",
        "model.add(Conv2D(256, kernel_size=3, activation = 'relu', input_shape=(28,28,1)))\n",
        "#model.add(Conv2D(32, kernel_size=3, activation='relu'))\n",
        "model.add(MaxPool2D(pool_size=(2, 2), strides=None, padding='valid', data_format=None))\n",
        "model.add(Flatten())\n",
        "model.add(Dense(10,activation='softmax'))\n",
        "model.compile(optimizer='adam', loss='categorical_crossentropy', metrics=['accuracy'])"
      ],
      "metadata": {
        "id": "mXEfR6TU_1cd"
      },
      "execution_count": null,
      "outputs": []
    },
    {
      "cell_type": "code",
      "source": [
        "#Train the model\n",
        "start = time()\n",
        "\n",
        "history = model.fit(X_train,y_train_one_hot, validation_data=(X_val,y_val_one_hot),batch_size=1024, epochs=10)\n",
        "\n",
        "end = time()"
      ],
      "metadata": {
        "colab": {
          "base_uri": "https://localhost:8080/"
        },
        "outputId": "486042c3-ed3c-47bc-eb8a-1fbfdbc04389",
        "id": "uw4HIdeF_1cd"
      },
      "execution_count": null,
      "outputs": [
        {
          "output_type": "stream",
          "name": "stdout",
          "text": [
            "Epoch 1/10\n",
            "47/47 [==============================] - 96s 2s/step - loss: 17.9119 - accuracy: 0.7087 - val_loss: 0.8952 - val_accuracy: 0.9153\n",
            "Epoch 2/10\n",
            "47/47 [==============================] - 99s 2s/step - loss: 0.4332 - accuracy: 0.9449 - val_loss: 0.2041 - val_accuracy: 0.9630\n",
            "Epoch 3/10\n",
            "47/47 [==============================] - 94s 2s/step - loss: 0.1197 - accuracy: 0.9732 - val_loss: 0.1309 - val_accuracy: 0.9728\n",
            "Epoch 4/10\n",
            "47/47 [==============================] - 97s 2s/step - loss: 0.0605 - accuracy: 0.9844 - val_loss: 0.1070 - val_accuracy: 0.9753\n",
            "Epoch 5/10\n",
            "47/47 [==============================] - 94s 2s/step - loss: 0.0371 - accuracy: 0.9892 - val_loss: 0.1012 - val_accuracy: 0.9754\n",
            "Epoch 6/10\n",
            "47/47 [==============================] - 95s 2s/step - loss: 0.0229 - accuracy: 0.9934 - val_loss: 0.0942 - val_accuracy: 0.9782\n",
            "Epoch 7/10\n",
            "47/47 [==============================] - 94s 2s/step - loss: 0.0148 - accuracy: 0.9961 - val_loss: 0.0888 - val_accuracy: 0.9790\n",
            "Epoch 8/10\n",
            "47/47 [==============================] - 97s 2s/step - loss: 0.0100 - accuracy: 0.9974 - val_loss: 0.0904 - val_accuracy: 0.9783\n",
            "Epoch 9/10\n",
            "47/47 [==============================] - 95s 2s/step - loss: 0.0071 - accuracy: 0.9986 - val_loss: 0.0907 - val_accuracy: 0.9799\n",
            "Epoch 10/10\n",
            "47/47 [==============================] - 93s 2s/step - loss: 0.0046 - accuracy: 0.9994 - val_loss: 0.0911 - val_accuracy: 0.9797\n"
          ]
        }
      ]
    },
    {
      "metadata": {
        "colab": {
          "base_uri": "https://localhost:8080/"
        },
        "outputId": "b5184fc9-243e-4058-ea79-dab449a63b06",
        "id": "9cRaLgAh_1cd"
      },
      "cell_type": "code",
      "source": [
        "print('Total training time {} seconds'.format(end - start))"
      ],
      "execution_count": null,
      "outputs": [
        {
          "output_type": "stream",
          "name": "stdout",
          "text": [
            "Total training time 953.3575134277344 seconds\n"
          ]
        }
      ]
    },
    {
      "cell_type": "code",
      "source": [
        "test_loss, test_acc = model.evaluate(X_test,y_test_one_hot)\n",
        "\n",
        "unit_df['CPU'][unit_df['Units']==256]=round(end-start, 2)\n",
        "unit_df['CAcc'][unit_df['Units']==256]=round(test_acc, 3)\n",
        "unit_df['CLoss'][unit_df['Units']==256]=round(test_loss, 3)"
      ],
      "metadata": {
        "colab": {
          "base_uri": "https://localhost:8080/"
        },
        "outputId": "b1c65d71-7659-4efd-ddb3-2fbecff58285",
        "id": "V_kRkrOK_1cd"
      },
      "execution_count": null,
      "outputs": [
        {
          "output_type": "stream",
          "name": "stdout",
          "text": [
            "313/313 [==============================] - 6s 19ms/step - loss: 0.0994 - accuracy: 0.9807\n"
          ]
        },
        {
          "output_type": "stream",
          "name": "stderr",
          "text": [
            "<ipython-input-93-2fcc9ad2804f>:3: SettingWithCopyWarning: \n",
            "A value is trying to be set on a copy of a slice from a DataFrame\n",
            "\n",
            "See the caveats in the documentation: https://pandas.pydata.org/pandas-docs/stable/user_guide/indexing.html#returning-a-view-versus-a-copy\n",
            "  unit_df['CPU'][unit_df['Units']==256]=round(end-start, 2)\n",
            "<ipython-input-93-2fcc9ad2804f>:4: SettingWithCopyWarning: \n",
            "A value is trying to be set on a copy of a slice from a DataFrame\n",
            "\n",
            "See the caveats in the documentation: https://pandas.pydata.org/pandas-docs/stable/user_guide/indexing.html#returning-a-view-versus-a-copy\n",
            "  unit_df['CAcc'][unit_df['Units']==256]=round(test_acc, 3)\n",
            "<ipython-input-93-2fcc9ad2804f>:5: SettingWithCopyWarning: \n",
            "A value is trying to be set on a copy of a slice from a DataFrame\n",
            "\n",
            "See the caveats in the documentation: https://pandas.pydata.org/pandas-docs/stable/user_guide/indexing.html#returning-a-view-versus-a-copy\n",
            "  unit_df['CLoss'][unit_df['Units']==256]=round(test_loss, 3)\n"
          ]
        }
      ]
    },
    {
      "cell_type": "markdown",
      "source": [
        "# Layers"
      ],
      "metadata": {
        "id": "q-ET0axxBAVa"
      }
    },
    {
      "cell_type": "markdown",
      "source": [
        "## conv layer = 3"
      ],
      "metadata": {
        "id": "VCrtSGFTBJao"
      }
    },
    {
      "cell_type": "code",
      "source": [
        "# Build the CNN model\n",
        "model = Sequential()\n",
        "# Add model layers\n",
        "\n",
        "model.add(Conv2D(128, kernel_size=3, activation = 'relu', input_shape=(28,28,1)))\n",
        "model.add(Conv2D(64, kernel_size=3, activation = 'relu', input_shape=(28,28,1)))\n",
        "model.add(Conv2D(32, kernel_size=3, activation='relu'))\n",
        "model.add(MaxPool2D(pool_size=(2, 2), strides=None, padding='valid', data_format=None))\n",
        "model.add(Flatten())\n",
        "model.add(Dense(10,activation='softmax'))\n",
        "model.compile(optimizer='adam', loss='categorical_crossentropy', metrics=['accuracy'])"
      ],
      "metadata": {
        "id": "wO4_65zBBJao"
      },
      "execution_count": null,
      "outputs": []
    },
    {
      "cell_type": "code",
      "source": [
        "#Train the model\n",
        "start = time()\n",
        "\n",
        "history = model.fit(X_train,y_train_one_hot, validation_data=(X_val,y_val_one_hot),batch_size=1024, epochs=10)\n",
        "\n",
        "end = time()"
      ],
      "metadata": {
        "colab": {
          "base_uri": "https://localhost:8080/"
        },
        "outputId": "03e755fa-b919-4175-b214-e701786b1896",
        "id": "xWhNQ1zbBJao"
      },
      "execution_count": null,
      "outputs": [
        {
          "output_type": "stream",
          "name": "stdout",
          "text": [
            "Epoch 1/10\n",
            "47/47 [==============================] - 496s 11s/step - loss: 1.3263 - accuracy: 0.7665 - val_loss: 0.1830 - val_accuracy: 0.9448\n",
            "Epoch 2/10\n",
            "47/47 [==============================] - 486s 10s/step - loss: 0.1307 - accuracy: 0.9598 - val_loss: 0.1027 - val_accuracy: 0.9693\n",
            "Epoch 3/10\n",
            "47/47 [==============================] - 485s 10s/step - loss: 0.0840 - accuracy: 0.9744 - val_loss: 0.0800 - val_accuracy: 0.9768\n",
            "Epoch 4/10\n",
            "47/47 [==============================] - 481s 10s/step - loss: 0.0627 - accuracy: 0.9816 - val_loss: 0.0681 - val_accuracy: 0.9797\n",
            "Epoch 5/10\n",
            "47/47 [==============================] - 486s 10s/step - loss: 0.0511 - accuracy: 0.9849 - val_loss: 0.0643 - val_accuracy: 0.9814\n",
            "Epoch 6/10\n",
            "47/47 [==============================] - 485s 10s/step - loss: 0.0437 - accuracy: 0.9870 - val_loss: 0.0622 - val_accuracy: 0.9814\n",
            "Epoch 7/10\n",
            "47/47 [==============================] - 481s 10s/step - loss: 0.0362 - accuracy: 0.9893 - val_loss: 0.0608 - val_accuracy: 0.9825\n",
            "Epoch 8/10\n",
            "47/47 [==============================] - 482s 10s/step - loss: 0.0304 - accuracy: 0.9905 - val_loss: 0.0550 - val_accuracy: 0.9843\n",
            "Epoch 9/10\n",
            "47/47 [==============================] - 480s 10s/step - loss: 0.0253 - accuracy: 0.9925 - val_loss: 0.0610 - val_accuracy: 0.9832\n",
            "Epoch 10/10\n",
            "47/47 [==============================] - 484s 10s/step - loss: 0.0221 - accuracy: 0.9932 - val_loss: 0.0586 - val_accuracy: 0.9843\n"
          ]
        }
      ]
    },
    {
      "metadata": {
        "colab": {
          "base_uri": "https://localhost:8080/"
        },
        "outputId": "8e55d803-46b9-41d6-e51a-de5e111b63fd",
        "id": "roezL4LQBJap"
      },
      "cell_type": "code",
      "source": [
        "print('Total training time {} seconds'.format(end - start))"
      ],
      "execution_count": null,
      "outputs": [
        {
          "output_type": "stream",
          "name": "stdout",
          "text": [
            "Total training time 4882.520084857941 seconds\n"
          ]
        }
      ]
    },
    {
      "cell_type": "code",
      "source": [
        "test_loss, test_acc = model.evaluate(X_test,y_test_one_hot)\n",
        "\n",
        "layer_df['CPU'][layer_df['Layers']==3]=round(end-start, 2)\n",
        "layer_df['CAcc'][layer_df['Layers']==3]=round(test_acc, 3)\n",
        "layer_df['CLoss'][layer_df['Layers']==3]=round(test_loss, 3)"
      ],
      "metadata": {
        "colab": {
          "base_uri": "https://localhost:8080/"
        },
        "outputId": "a54fdcc6-61fa-4a0c-d2b1-43e009641f60",
        "id": "6cXkdVmeBJap"
      },
      "execution_count": null,
      "outputs": [
        {
          "output_type": "stream",
          "name": "stdout",
          "text": [
            "313/313 [==============================] - 29s 94ms/step - loss: 0.0568 - accuracy: 0.9838\n"
          ]
        },
        {
          "output_type": "stream",
          "name": "stderr",
          "text": [
            "<ipython-input-97-d7520bc499f2>:3: SettingWithCopyWarning: \n",
            "A value is trying to be set on a copy of a slice from a DataFrame\n",
            "\n",
            "See the caveats in the documentation: https://pandas.pydata.org/pandas-docs/stable/user_guide/indexing.html#returning-a-view-versus-a-copy\n",
            "  layer_df['CPU'][layer_df['Layers']==3]=round(end-start, 2)\n",
            "<ipython-input-97-d7520bc499f2>:4: SettingWithCopyWarning: \n",
            "A value is trying to be set on a copy of a slice from a DataFrame\n",
            "\n",
            "See the caveats in the documentation: https://pandas.pydata.org/pandas-docs/stable/user_guide/indexing.html#returning-a-view-versus-a-copy\n",
            "  layer_df['CAcc'][layer_df['Layers']==3]=round(test_acc, 3)\n",
            "<ipython-input-97-d7520bc499f2>:5: SettingWithCopyWarning: \n",
            "A value is trying to be set on a copy of a slice from a DataFrame\n",
            "\n",
            "See the caveats in the documentation: https://pandas.pydata.org/pandas-docs/stable/user_guide/indexing.html#returning-a-view-versus-a-copy\n",
            "  layer_df['CLoss'][layer_df['Layers']==3]=round(test_loss, 3)\n"
          ]
        }
      ]
    },
    {
      "cell_type": "markdown",
      "source": [
        "## conv layer = 4"
      ],
      "metadata": {
        "id": "DDTI5DqhBZDw"
      }
    },
    {
      "cell_type": "code",
      "source": [
        "# Build the CNN model\n",
        "model = Sequential()\n",
        "# Add model layers\n",
        "\n",
        "model.add(Conv2D(256, kernel_size=3, activation = 'relu', input_shape=(28,28,1)))\n",
        "model.add(Conv2D(128, kernel_size=3, activation = 'relu', input_shape=(28,28,1)))\n",
        "model.add(Conv2D(64, kernel_size=3, activation = 'relu', input_shape=(28,28,1)))\n",
        "model.add(Conv2D(32, kernel_size=3, activation='relu'))\n",
        "model.add(MaxPool2D(pool_size=(2, 2), strides=None, padding='valid', data_format=None))\n",
        "model.add(Flatten())\n",
        "model.add(Dense(10,activation='softmax'))\n",
        "model.compile(optimizer='adam', loss='categorical_crossentropy', metrics=['accuracy'])"
      ],
      "metadata": {
        "id": "GXL8tulHBZDx"
      },
      "execution_count": null,
      "outputs": []
    },
    {
      "cell_type": "code",
      "source": [
        "#Train the model\n",
        "start = time()\n",
        "\n",
        "history = model.fit(X_train,y_train_one_hot, validation_data=(X_val,y_val_one_hot),batch_size=1024, epochs=10)\n",
        "\n",
        "end = time()"
      ],
      "metadata": {
        "colab": {
          "base_uri": "https://localhost:8080/"
        },
        "outputId": "6d231df3-2126-4a70-bb17-7c932c233a93",
        "id": "xsA746_cBZDx"
      },
      "execution_count": null,
      "outputs": [
        {
          "output_type": "stream",
          "name": "stdout",
          "text": [
            "Epoch 1/10\n",
            "47/47 [==============================] - 1431s 30s/step - loss: 1.3751 - accuracy: 0.7012 - val_loss: 0.1832 - val_accuracy: 0.9428\n",
            "Epoch 2/10\n",
            "47/47 [==============================] - 1418s 30s/step - loss: 0.1270 - accuracy: 0.9603 - val_loss: 0.0946 - val_accuracy: 0.9697\n",
            "Epoch 3/10\n",
            "47/47 [==============================] - 1433s 31s/step - loss: 0.0823 - accuracy: 0.9749 - val_loss: 0.0727 - val_accuracy: 0.9771\n",
            "Epoch 4/10\n",
            "47/47 [==============================] - 1464s 31s/step - loss: 0.0641 - accuracy: 0.9806 - val_loss: 0.0633 - val_accuracy: 0.9796\n",
            "Epoch 5/10\n",
            "47/47 [==============================] - 1452s 31s/step - loss: 0.0522 - accuracy: 0.9840 - val_loss: 0.0598 - val_accuracy: 0.9816\n",
            "Epoch 6/10\n",
            "47/47 [==============================] - 1409s 30s/step - loss: 0.0425 - accuracy: 0.9868 - val_loss: 0.0522 - val_accuracy: 0.9830\n",
            "Epoch 7/10\n",
            "47/47 [==============================] - 1401s 30s/step - loss: 0.0388 - accuracy: 0.9881 - val_loss: 0.0530 - val_accuracy: 0.9828\n",
            "Epoch 8/10\n",
            "47/47 [==============================] - 1400s 30s/step - loss: 0.0352 - accuracy: 0.9891 - val_loss: 0.0524 - val_accuracy: 0.9847\n",
            "Epoch 9/10\n",
            "47/47 [==============================] - 1398s 30s/step - loss: 0.0290 - accuracy: 0.9912 - val_loss: 0.0579 - val_accuracy: 0.9834\n",
            "Epoch 10/10\n",
            "47/47 [==============================] - 1390s 30s/step - loss: 0.0251 - accuracy: 0.9921 - val_loss: 0.0593 - val_accuracy: 0.9829\n"
          ]
        }
      ]
    },
    {
      "metadata": {
        "colab": {
          "base_uri": "https://localhost:8080/"
        },
        "id": "fBQPNC1vBZDx",
        "outputId": "0b723dac-1b3b-4fe2-8911-08ac64663613"
      },
      "cell_type": "code",
      "source": [
        "print('Total training time {} seconds'.format(end - start))\n",
        "#layer_df['CPU'][layer_df['Layers']==4]=round(end-start, 2)"
      ],
      "execution_count": null,
      "outputs": [
        {
          "output_type": "stream",
          "name": "stdout",
          "text": [
            "Total training time 14245.290381669998 seconds\n"
          ]
        }
      ]
    },
    {
      "cell_type": "code",
      "source": [
        "test_loss, test_acc = model.evaluate(X_test,y_test_one_hot)\n",
        "\n",
        "\n",
        "#layer_df['CAcc'][layer_df['Layers']==4]=round(test_acc, 3)\n",
        "#layer_df['CLoss'][layer_df['Layers']==4]=round(test_loss, 3)"
      ],
      "metadata": {
        "colab": {
          "base_uri": "https://localhost:8080/"
        },
        "id": "FR7_SDatBZDy",
        "outputId": "abe8b9ed-e514-446a-d576-7d4c7814cb29"
      },
      "execution_count": null,
      "outputs": [
        {
          "output_type": "stream",
          "name": "stdout",
          "text": [
            "313/313 [==============================] - 83s 264ms/step - loss: 0.0404 - accuracy: 0.9876\n"
          ]
        }
      ]
    },
    {
      "cell_type": "markdown",
      "source": [
        "# Result"
      ],
      "metadata": {
        "id": "sRdkcegKNMWT"
      }
    },
    {
      "cell_type": "code",
      "source": [
        "batch_df.to_csv(project_path+'batch_size_result.csv')\n",
        "unit_df.to_csv(project_path+'units_result.csv')\n",
        "layer_df.to_csv(project_path+'layer_result.csv')"
      ],
      "metadata": {
        "id": "JqTENvSUKrrf"
      },
      "execution_count": null,
      "outputs": []
    }
  ]
}